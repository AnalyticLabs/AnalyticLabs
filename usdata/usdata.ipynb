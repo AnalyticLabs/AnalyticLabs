{
 "cells": [
  {
   "cell_type": "code",
   "execution_count": 287,
   "metadata": {},
   "outputs": [
    {
     "data": {
      "text/plain": [
       "'D:\\\\AnalyticLabs'"
      ]
     },
     "execution_count": 287,
     "metadata": {},
     "output_type": "execute_result"
    }
   ],
   "source": [
    "import altair as alt\n",
    "import pandas as pd\n",
    "import numpy as np\n",
    "import os\n",
    "os.getcwd()"
   ]
  },
  {
   "cell_type": "code",
   "execution_count": 288,
   "metadata": {},
   "outputs": [],
   "source": [
    "data_unemp = pd.read_excel('usdata/Unemployment.xls', sheet_name = 'Unemployment Med HH Inc')\n",
    "data_unemp.dropna(inplace=True)\n",
    "data_unemp.reset_index(drop=True, inplace=True)"
   ]
  },
  {
   "cell_type": "code",
   "execution_count": 289,
   "metadata": {},
   "outputs": [],
   "source": [
    "data_unemp_agg = data_unemp[data_unemp.FIPS % 1000 == 0]\n",
    "data_unemp_agg.reset_index(inplace=True, drop=True)\n",
    "data_unemp = data_unemp[data_unemp.FIPS % 1000 != 0]"
   ]
  },
  {
   "cell_type": "code",
   "execution_count": 290,
   "metadata": {},
   "outputs": [],
   "source": [
    "#data_unemp.columns"
   ]
  },
  {
   "cell_type": "code",
   "execution_count": 219,
   "metadata": {},
   "outputs": [
    {
     "data": {
      "text/html": [
       "<div>\n",
       "<style scoped>\n",
       "    .dataframe tbody tr th:only-of-type {\n",
       "        vertical-align: middle;\n",
       "    }\n",
       "\n",
       "    .dataframe tbody tr th {\n",
       "        vertical-align: top;\n",
       "    }\n",
       "\n",
       "    .dataframe thead th {\n",
       "        text-align: right;\n",
       "    }\n",
       "</style>\n",
       "<table border=\"1\" class=\"dataframe\">\n",
       "  <thead>\n",
       "    <tr style=\"text-align: right;\">\n",
       "      <th></th>\n",
       "      <th>FIPS</th>\n",
       "      <th>State</th>\n",
       "      <th>Area_name</th>\n",
       "      <th>Civilian_labor_force_2007</th>\n",
       "      <th>Employed_2007</th>\n",
       "      <th>Unemployed_2007</th>\n",
       "      <th>Unemployment_rate_2007</th>\n",
       "      <th>Civilian_labor_force_2008</th>\n",
       "      <th>Employed_2008</th>\n",
       "      <th>Unemployed_2008</th>\n",
       "      <th>...</th>\n",
       "      <th>Civilian_labor_force_2017</th>\n",
       "      <th>Employed_2017</th>\n",
       "      <th>Unemployed_2017</th>\n",
       "      <th>Unemployment_rate_2017</th>\n",
       "      <th>Civilian_labor_force_2018</th>\n",
       "      <th>Employed_2018</th>\n",
       "      <th>Unemployed_2018</th>\n",
       "      <th>Unemployment_rate_2018</th>\n",
       "      <th>Median_Household_Income_2017</th>\n",
       "      <th>Med_HH_Income_Percent_of_State_Total_2017</th>\n",
       "    </tr>\n",
       "  </thead>\n",
       "  <tbody>\n",
       "    <tr>\n",
       "      <th>1</th>\n",
       "      <td>1001</td>\n",
       "      <td>AL</td>\n",
       "      <td>Autauga County, AL</td>\n",
       "      <td>24383</td>\n",
       "      <td>23577</td>\n",
       "      <td>806</td>\n",
       "      <td>3.3</td>\n",
       "      <td>24687</td>\n",
       "      <td>23420</td>\n",
       "      <td>1267</td>\n",
       "      <td>...</td>\n",
       "      <td>25972.0</td>\n",
       "      <td>24958.0</td>\n",
       "      <td>1014.0</td>\n",
       "      <td>3.9</td>\n",
       "      <td>25957.0</td>\n",
       "      <td>25015.0</td>\n",
       "      <td>942.0</td>\n",
       "      <td>3.6</td>\n",
       "      <td>58343.0</td>\n",
       "      <td>121.1</td>\n",
       "    </tr>\n",
       "    <tr>\n",
       "      <th>2</th>\n",
       "      <td>1003</td>\n",
       "      <td>AL</td>\n",
       "      <td>Baldwin County, AL</td>\n",
       "      <td>82659</td>\n",
       "      <td>80099</td>\n",
       "      <td>2560</td>\n",
       "      <td>3.1</td>\n",
       "      <td>83223</td>\n",
       "      <td>79372</td>\n",
       "      <td>3851</td>\n",
       "      <td>...</td>\n",
       "      <td>92090.0</td>\n",
       "      <td>88342.0</td>\n",
       "      <td>3748.0</td>\n",
       "      <td>4.1</td>\n",
       "      <td>93849.0</td>\n",
       "      <td>90456.0</td>\n",
       "      <td>3393.0</td>\n",
       "      <td>3.6</td>\n",
       "      <td>56607.0</td>\n",
       "      <td>117.5</td>\n",
       "    </tr>\n",
       "    <tr>\n",
       "      <th>3</th>\n",
       "      <td>1005</td>\n",
       "      <td>AL</td>\n",
       "      <td>Barbour County, AL</td>\n",
       "      <td>10334</td>\n",
       "      <td>9684</td>\n",
       "      <td>650</td>\n",
       "      <td>6.3</td>\n",
       "      <td>10161</td>\n",
       "      <td>9267</td>\n",
       "      <td>894</td>\n",
       "      <td>...</td>\n",
       "      <td>8317.0</td>\n",
       "      <td>7831.0</td>\n",
       "      <td>486.0</td>\n",
       "      <td>5.8</td>\n",
       "      <td>8373.0</td>\n",
       "      <td>7940.0</td>\n",
       "      <td>433.0</td>\n",
       "      <td>5.2</td>\n",
       "      <td>32490.0</td>\n",
       "      <td>67.4</td>\n",
       "    </tr>\n",
       "    <tr>\n",
       "      <th>4</th>\n",
       "      <td>1007</td>\n",
       "      <td>AL</td>\n",
       "      <td>Bibb County, AL</td>\n",
       "      <td>8791</td>\n",
       "      <td>8432</td>\n",
       "      <td>359</td>\n",
       "      <td>4.1</td>\n",
       "      <td>8749</td>\n",
       "      <td>8241</td>\n",
       "      <td>508</td>\n",
       "      <td>...</td>\n",
       "      <td>8550.0</td>\n",
       "      <td>8174.0</td>\n",
       "      <td>376.0</td>\n",
       "      <td>4.4</td>\n",
       "      <td>8661.0</td>\n",
       "      <td>8317.0</td>\n",
       "      <td>344.0</td>\n",
       "      <td>4.0</td>\n",
       "      <td>45795.0</td>\n",
       "      <td>95.0</td>\n",
       "    </tr>\n",
       "    <tr>\n",
       "      <th>5</th>\n",
       "      <td>1009</td>\n",
       "      <td>AL</td>\n",
       "      <td>Blount County, AL</td>\n",
       "      <td>26629</td>\n",
       "      <td>25780</td>\n",
       "      <td>849</td>\n",
       "      <td>3.2</td>\n",
       "      <td>26698</td>\n",
       "      <td>25453</td>\n",
       "      <td>1245</td>\n",
       "      <td>...</td>\n",
       "      <td>24725.0</td>\n",
       "      <td>23726.0</td>\n",
       "      <td>999.0</td>\n",
       "      <td>4.0</td>\n",
       "      <td>25006.0</td>\n",
       "      <td>24128.0</td>\n",
       "      <td>878.0</td>\n",
       "      <td>3.5</td>\n",
       "      <td>48253.0</td>\n",
       "      <td>100.1</td>\n",
       "    </tr>\n",
       "  </tbody>\n",
       "</table>\n",
       "<p>5 rows × 53 columns</p>\n",
       "</div>"
      ],
      "text/plain": [
       "   FIPS State           Area_name  Civilian_labor_force_2007  Employed_2007  \\\n",
       "1  1001    AL  Autauga County, AL                      24383          23577   \n",
       "2  1003    AL  Baldwin County, AL                      82659          80099   \n",
       "3  1005    AL  Barbour County, AL                      10334           9684   \n",
       "4  1007    AL     Bibb County, AL                       8791           8432   \n",
       "5  1009    AL   Blount County, AL                      26629          25780   \n",
       "\n",
       "   Unemployed_2007  Unemployment_rate_2007  Civilian_labor_force_2008  \\\n",
       "1              806                     3.3                      24687   \n",
       "2             2560                     3.1                      83223   \n",
       "3              650                     6.3                      10161   \n",
       "4              359                     4.1                       8749   \n",
       "5              849                     3.2                      26698   \n",
       "\n",
       "   Employed_2008  Unemployed_2008                    ...                      \\\n",
       "1          23420             1267                    ...                       \n",
       "2          79372             3851                    ...                       \n",
       "3           9267              894                    ...                       \n",
       "4           8241              508                    ...                       \n",
       "5          25453             1245                    ...                       \n",
       "\n",
       "   Civilian_labor_force_2017  Employed_2017  Unemployed_2017  \\\n",
       "1                    25972.0        24958.0           1014.0   \n",
       "2                    92090.0        88342.0           3748.0   \n",
       "3                     8317.0         7831.0            486.0   \n",
       "4                     8550.0         8174.0            376.0   \n",
       "5                    24725.0        23726.0            999.0   \n",
       "\n",
       "   Unemployment_rate_2017  Civilian_labor_force_2018  Employed_2018  \\\n",
       "1                     3.9                    25957.0        25015.0   \n",
       "2                     4.1                    93849.0        90456.0   \n",
       "3                     5.8                     8373.0         7940.0   \n",
       "4                     4.4                     8661.0         8317.0   \n",
       "5                     4.0                    25006.0        24128.0   \n",
       "\n",
       "   Unemployed_2018  Unemployment_rate_2018  Median_Household_Income_2017  \\\n",
       "1            942.0                     3.6                       58343.0   \n",
       "2           3393.0                     3.6                       56607.0   \n",
       "3            433.0                     5.2                       32490.0   \n",
       "4            344.0                     4.0                       45795.0   \n",
       "5            878.0                     3.5                       48253.0   \n",
       "\n",
       "   Med_HH_Income_Percent_of_State_Total_2017  \n",
       "1                                      121.1  \n",
       "2                                      117.5  \n",
       "3                                       67.4  \n",
       "4                                       95.0  \n",
       "5                                      100.1  \n",
       "\n",
       "[5 rows x 53 columns]"
      ]
     },
     "execution_count": 219,
     "metadata": {},
     "output_type": "execute_result"
    }
   ],
   "source": [
    "data_unemp.head()"
   ]
  },
  {
   "cell_type": "code",
   "execution_count": 291,
   "metadata": {},
   "outputs": [],
   "source": [
    "#data_unemp.info()"
   ]
  },
  {
   "cell_type": "code",
   "execution_count": 292,
   "metadata": {},
   "outputs": [],
   "source": [
    "#Unemployement rates of differen years\n",
    "Unemployment_rate_columns = [x for x in data_unemp.columns if 'Unemployment_rate' in x]"
   ]
  },
  {
   "cell_type": "code",
   "execution_count": 293,
   "metadata": {},
   "outputs": [
    {
     "data": {
      "application/vnd.vegalite.v2+json": {
       "$schema": "https://vega.github.io/schema/vega-lite/v2.6.0.json",
       "config": {
        "view": {
         "height": 300,
         "width": 400
        }
       },
       "data": {
        "format": {
         "feature": "counties",
         "type": "topojson"
        },
        "url": "https://vega.github.io/vega-datasets/data/us-10m.json"
       },
       "datasets": {
        "data-ab080690d268227094794449044398fd": [
         {
          "Unemployment_rate_2007": null,
          "id": 1001,
          "rate": 0.09699999999999999
         },
         {
          "Unemployment_rate_2007": 3.3,
          "id": 1003,
          "rate": 0.091
         },
         {
          "Unemployment_rate_2007": 3.1,
          "id": 1005,
          "rate": 0.134
         },
         {
          "Unemployment_rate_2007": 6.3,
          "id": 1007,
          "rate": 0.121
         },
         {
          "Unemployment_rate_2007": 4.1,
          "id": 1009,
          "rate": 0.099
         },
         {
          "Unemployment_rate_2007": 3.2,
          "id": 1011,
          "rate": 0.16399999999999998
         },
         {
          "Unemployment_rate_2007": 9.4,
          "id": 1013,
          "rate": 0.16699999999999998
         },
         {
          "Unemployment_rate_2007": 6.2,
          "id": 1015,
          "rate": 0.10800000000000001
         },
         {
          "Unemployment_rate_2007": 3.9,
          "id": 1017,
          "rate": 0.18600000000000003
         },
         {
          "Unemployment_rate_2007": 6.5,
          "id": 1019,
          "rate": 0.11800000000000001
         },
         {
          "Unemployment_rate_2007": 4.2,
          "id": 1021,
          "rate": 0.099
         },
         {
          "Unemployment_rate_2007": 3.4,
          "id": 1023,
          "rate": 0.127
         },
         {
          "Unemployment_rate_2007": 5.9,
          "id": 1025,
          "rate": 0.17
         },
         {
          "Unemployment_rate_2007": 6.1,
          "id": 1027,
          "rate": 0.159
         },
         {
          "Unemployment_rate_2007": 5.5,
          "id": 1029,
          "rate": 0.10400000000000001
         },
         {
          "Unemployment_rate_2007": 3.7,
          "id": 1031,
          "rate": 0.085
         },
         {
          "Unemployment_rate_2007": 3.8,
          "id": 1033,
          "rate": 0.114
         },
         {
          "Unemployment_rate_2007": 4.6,
          "id": 1035,
          "rate": 0.195
         },
         {
          "Unemployment_rate_2007": 6.4,
          "id": 1037,
          "rate": 0.14
         },
         {
          "Unemployment_rate_2007": 5.8,
          "id": 1039,
          "rate": 0.10099999999999999
         },
         {
          "Unemployment_rate_2007": 3.9,
          "id": 1041,
          "rate": 0.09699999999999999
         },
         {
          "Unemployment_rate_2007": 4.3,
          "id": 1043,
          "rate": 0.096
         },
         {
          "Unemployment_rate_2007": 3.4,
          "id": 1045,
          "rate": 0.09300000000000001
         },
         {
          "Unemployment_rate_2007": 4,
          "id": 1047,
          "rate": 0.21100000000000002
         },
         {
          "Unemployment_rate_2007": 8.3,
          "id": 1049,
          "rate": 0.14300000000000002
         },
         {
          "Unemployment_rate_2007": 4.3,
          "id": 1051,
          "rate": 0.09
         },
         {
          "Unemployment_rate_2007": 3.3,
          "id": 1053,
          "rate": 0.129
         },
         {
          "Unemployment_rate_2007": 5.3,
          "id": 1055,
          "rate": 0.107
         },
         {
          "Unemployment_rate_2007": 4.5,
          "id": 1057,
          "rate": 0.128
         },
         {
          "Unemployment_rate_2007": 4.7,
          "id": 1059,
          "rate": 0.12300000000000001
         },
         {
          "Unemployment_rate_2007": 4.6,
          "id": 1061,
          "rate": 0.1
         },
         {
          "Unemployment_rate_2007": 3.5,
          "id": 1063,
          "rate": 0.147
         },
         {
          "Unemployment_rate_2007": 6.4,
          "id": 1065,
          "rate": 0.127
         },
         {
          "Unemployment_rate_2007": 5.4,
          "id": 1067,
          "rate": 0.099
         },
         {
          "Unemployment_rate_2007": 5.4,
          "id": 1069,
          "rate": 0.08900000000000001
         },
         {
          "Unemployment_rate_2007": 3.3,
          "id": 1071,
          "rate": 0.11800000000000001
         },
         {
          "Unemployment_rate_2007": 4.5,
          "id": 1073,
          "rate": 0.107
         },
         {
          "Unemployment_rate_2007": 3.9,
          "id": 1075,
          "rate": 0.14800000000000002
         },
         {
          "Unemployment_rate_2007": 6.3,
          "id": 1077,
          "rate": 0.105
         },
         {
          "Unemployment_rate_2007": 4.3,
          "id": 1079,
          "rate": 0.136
         },
         {
          "Unemployment_rate_2007": 4.1,
          "id": 1081,
          "rate": 0.086
         },
         {
          "Unemployment_rate_2007": 3.6,
          "id": 1083,
          "rate": 0.09300000000000001
         },
         {
          "Unemployment_rate_2007": 3.3,
          "id": 1085,
          "rate": 0.185
         },
         {
          "Unemployment_rate_2007": 7.5,
          "id": 1087,
          "rate": 0.114
         },
         {
          "Unemployment_rate_2007": 5.4,
          "id": 1089,
          "rate": 0.075
         },
         {
          "Unemployment_rate_2007": 3.1,
          "id": 1091,
          "rate": 0.14800000000000002
         },
         {
          "Unemployment_rate_2007": 5.3,
          "id": 1093,
          "rate": 0.152
         },
         {
          "Unemployment_rate_2007": 5.2,
          "id": 1095,
          "rate": 0.092
         },
         {
          "Unemployment_rate_2007": 3.4,
          "id": 1097,
          "rate": 0.111
         },
         {
          "Unemployment_rate_2007": 4,
          "id": 1099,
          "rate": 0.187
         },
         {
          "Unemployment_rate_2007": 6.4,
          "id": 1101,
          "rate": 0.102
         },
         {
          "Unemployment_rate_2007": 4.1,
          "id": 1103,
          "rate": 0.10400000000000001
         },
         {
          "Unemployment_rate_2007": 3.5,
          "id": 1105,
          "rate": 0.198
         },
         {
          "Unemployment_rate_2007": 8.4,
          "id": 1107,
          "rate": 0.13
         },
         {
          "Unemployment_rate_2007": 5,
          "id": 1109,
          "rate": 0.087
         },
         {
          "Unemployment_rate_2007": 4,
          "id": 1111,
          "rate": 0.151
         },
         {
          "Unemployment_rate_2007": 5.1,
          "id": 1113,
          "rate": 0.126
         },
         {
          "Unemployment_rate_2007": 6.1,
          "id": 1115,
          "rate": 0.107
         },
         {
          "Unemployment_rate_2007": 3.4,
          "id": 1117,
          "rate": 0.076
         },
         {
          "Unemployment_rate_2007": 2.6,
          "id": 1119,
          "rate": 0.139
         },
         {
          "Unemployment_rate_2007": 6.5,
          "id": 1121,
          "rate": 0.136
         },
         {
          "Unemployment_rate_2007": 5.2,
          "id": 1123,
          "rate": 0.13699999999999998
         },
         {
          "Unemployment_rate_2007": 5.3,
          "id": 1125,
          "rate": 0.09
         },
         {
          "Unemployment_rate_2007": 3.3,
          "id": 1127,
          "rate": 0.11900000000000001
         },
         {
          "Unemployment_rate_2007": 4.3,
          "id": 1129,
          "rate": 0.151
         },
         {
          "Unemployment_rate_2007": 5.9,
          "id": 1131,
          "rate": 0.256
         },
         {
          "Unemployment_rate_2007": 9.7,
          "id": 1133,
          "rate": 0.175
         },
         {
          "Unemployment_rate_2007": 5.6,
          "id": 2013,
          "rate": 0.10099999999999999
         },
         {
          "Unemployment_rate_2007": null,
          "id": 2016,
          "rate": 0.084
         },
         {
          "Unemployment_rate_2007": 8,
          "id": 2020,
          "rate": 0.07
         },
         {
          "Unemployment_rate_2007": 5.4,
          "id": 2050,
          "rate": 0.14800000000000002
         },
         {
          "Unemployment_rate_2007": 5.1,
          "id": 2060,
          "rate": 0.036000000000000004
         },
         {
          "Unemployment_rate_2007": 12.8,
          "id": 2068,
          "rate": 0.034
         },
         {
          "Unemployment_rate_2007": 4.7,
          "id": 2070,
          "rate": 0.084
         },
         {
          "Unemployment_rate_2007": 6.2,
          "id": 2090,
          "rate": 0.069
         },
         {
          "Unemployment_rate_2007": 9.1,
          "id": 2100,
          "rate": 0.062
         },
         {
          "Unemployment_rate_2007": 5.6,
          "id": 2110,
          "rate": 0.057
         },
         {
          "Unemployment_rate_2007": 7.4,
          "id": 2122,
          "rate": 0.09699999999999999
         },
         {
          "Unemployment_rate_2007": 4.5,
          "id": 2130,
          "rate": 0.061
         },
         {
          "Unemployment_rate_2007": 7.9,
          "id": 2150,
          "rate": 0.066
         },
         {
          "Unemployment_rate_2007": 5.7,
          "id": 2164,
          "rate": 0.059000000000000004
         },
         {
          "Unemployment_rate_2007": 6.3,
          "id": 2170,
          "rate": 0.08800000000000001
         },
         {
          "Unemployment_rate_2007": null,
          "id": 2180,
          "rate": 0.121
         },
         {
          "Unemployment_rate_2007": 5.5,
          "id": 2185,
          "rate": 0.057
         },
         {
          "Unemployment_rate_2007": 7.2,
          "id": 2188,
          "rate": 0.132
         },
         {
          "Unemployment_rate_2007": 11.1,
          "id": 2201,
          "rate": 0.136
         },
         {
          "Unemployment_rate_2007": 5.4,
          "id": 2220,
          "rate": 0.059000000000000004
         },
         {
          "Unemployment_rate_2007": 10.8,
          "id": 2232,
          "rate": 0.073
         },
         {
          "Unemployment_rate_2007": 5.1,
          "id": 2240,
          "rate": 0.081
         },
         {
          "Unemployment_rate_2007": 8.7,
          "id": 2261,
          "rate": 0.064
         },
         {
          "Unemployment_rate_2007": 8.4,
          "id": 2270,
          "rate": 0.204
         },
         {
          "Unemployment_rate_2007": 6.8,
          "id": 2280,
          "rate": 0.098
         },
         {
          "Unemployment_rate_2007": 13.8,
          "id": 2282,
          "rate": 0.063
         },
         {
          "Unemployment_rate_2007": null,
          "id": 2290,
          "rate": 0.136
         },
         {
          "Unemployment_rate_2007": 8.8,
          "id": 4001,
          "rate": 0.14800000000000002
         },
         {
          "Unemployment_rate_2007": 4.1,
          "id": 4003,
          "rate": 0.07400000000000001
         },
         {
          "Unemployment_rate_2007": 3.7,
          "id": 4005,
          "rate": 0.077
         },
         {
          "Unemployment_rate_2007": 4.3,
          "id": 4007,
          "rate": 0.109
         },
         {
          "Unemployment_rate_2007": 4.3,
          "id": 4009,
          "rate": 0.14400000000000002
         },
         {
          "Unemployment_rate_2007": 3.3,
          "id": 4011,
          "rate": 0.215
         },
         {
          "Unemployment_rate_2007": 5.1,
          "id": 4012,
          "rate": 0.08900000000000001
         },
         {
          "Unemployment_rate_2007": 3.3,
          "id": 4013,
          "rate": 0.085
         },
         {
          "Unemployment_rate_2007": 4.7,
          "id": 4015,
          "rate": 0.102
         },
         {
          "Unemployment_rate_2007": 6.4,
          "id": 4017,
          "rate": 0.142
         },
         {
          "Unemployment_rate_2007": 3.7,
          "id": 4019,
          "rate": 0.084
         },
         {
          "Unemployment_rate_2007": 4.6,
          "id": 4021,
          "rate": 0.11800000000000001
         },
         {
          "Unemployment_rate_2007": 7.4,
          "id": 4023,
          "rate": 0.172
         },
         {
          "Unemployment_rate_2007": 3.7,
          "id": 4025,
          "rate": 0.095
         },
         {
          "Unemployment_rate_2007": 14.1,
          "id": 4027,
          "rate": 0.242
         },
         {
          "Unemployment_rate_2007": null,
          "id": 5001,
          "rate": 0.14300000000000002
         },
         {
          "Unemployment_rate_2007": 8.7,
          "id": 5003,
          "rate": 0.091
         },
         {
          "Unemployment_rate_2007": 8.1,
          "id": 5005,
          "rate": 0.08199999999999999
         },
         {
          "Unemployment_rate_2007": 5.4,
          "id": 5007,
          "rate": 0.053
         },
         {
          "Unemployment_rate_2007": 3.7,
          "id": 5009,
          "rate": 0.064
         },
         {
          "Unemployment_rate_2007": 5.1,
          "id": 5011,
          "rate": 0.078
         },
         {
          "Unemployment_rate_2007": 6.1,
          "id": 5013,
          "rate": 0.062
         },
         {
          "Unemployment_rate_2007": 6.7,
          "id": 5015,
          "rate": 0.043
         },
         {
          "Unemployment_rate_2007": 4.3,
          "id": 5017,
          "rate": 0.096
         },
         {
          "Unemployment_rate_2007": 8.2,
          "id": 5019,
          "rate": 0.063
         },
         {
          "Unemployment_rate_2007": 5.6,
          "id": 5021,
          "rate": 0.10400000000000001
         },
         {
          "Unemployment_rate_2007": 9.3,
          "id": 5023,
          "rate": 0.059000000000000004
         },
         {
          "Unemployment_rate_2007": 6.1,
          "id": 5025,
          "rate": 0.06
         },
         {
          "Unemployment_rate_2007": 5.7,
          "id": 5027,
          "rate": 0.081
         },
         {
          "Unemployment_rate_2007": 6.5,
          "id": 5029,
          "rate": 0.065
         },
         {
          "Unemployment_rate_2007": 4.9,
          "id": 5031,
          "rate": 0.059000000000000004
         },
         {
          "Unemployment_rate_2007": 5,
          "id": 5033,
          "rate": 0.066
         },
         {
          "Unemployment_rate_2007": 4.9,
          "id": 5035,
          "rate": 0.099
         },
         {
          "Unemployment_rate_2007": 6.5,
          "id": 5037,
          "rate": 0.071
         },
         {
          "Unemployment_rate_2007": 7.4,
          "id": 5039,
          "rate": 0.076
         },
         {
          "Unemployment_rate_2007": 7,
          "id": 5041,
          "rate": 0.099
         },
         {
          "Unemployment_rate_2007": 9.9,
          "id": 5043,
          "rate": 0.091
         },
         {
          "Unemployment_rate_2007": 7.4,
          "id": 5045,
          "rate": 0.06
         },
         {
          "Unemployment_rate_2007": 4.4,
          "id": 5047,
          "rate": 0.059000000000000004
         },
         {
          "Unemployment_rate_2007": 4.5,
          "id": 5049,
          "rate": 0.061
         },
         {
          "Unemployment_rate_2007": 5,
          "id": 5051,
          "rate": 0.066
         },
         {
          "Unemployment_rate_2007": 5.5,
          "id": 5053,
          "rate": 0.057
         },
         {
          "Unemployment_rate_2007": 4.9,
          "id": 5055,
          "rate": 0.08199999999999999
         },
         {
          "Unemployment_rate_2007": 6.5,
          "id": 5057,
          "rate": 0.086
         },
         {
          "Unemployment_rate_2007": 5.9,
          "id": 5059,
          "rate": 0.073
         },
         {
          "Unemployment_rate_2007": 5.3,
          "id": 5061,
          "rate": 0.07200000000000001
         },
         {
          "Unemployment_rate_2007": 5.4,
          "id": 5063,
          "rate": 0.078
         },
         {
          "Unemployment_rate_2007": 6.2,
          "id": 5065,
          "rate": 0.077
         },
         {
          "Unemployment_rate_2007": 5.9,
          "id": 5067,
          "rate": 0.092
         },
         {
          "Unemployment_rate_2007": 7.5,
          "id": 5069,
          "rate": 0.092
         },
         {
          "Unemployment_rate_2007": 7.5,
          "id": 5071,
          "rate": 0.061
         },
         {
          "Unemployment_rate_2007": 4.8,
          "id": 5073,
          "rate": 0.086
         },
         {
          "Unemployment_rate_2007": 7.5,
          "id": 5075,
          "rate": 0.079
         },
         {
          "Unemployment_rate_2007": 6.8,
          "id": 5077,
          "rate": 0.08199999999999999
         },
         {
          "Unemployment_rate_2007": 9.4,
          "id": 5079,
          "rate": 0.08199999999999999
         },
         {
          "Unemployment_rate_2007": 7.8,
          "id": 5081,
          "rate": 0.055999999999999994
         },
         {
          "Unemployment_rate_2007": 4.2,
          "id": 5083,
          "rate": 0.077
         },
         {
          "Unemployment_rate_2007": 5,
          "id": 5085,
          "rate": 0.052000000000000005
         },
         {
          "Unemployment_rate_2007": 4.4,
          "id": 5087,
          "rate": 0.053
         },
         {
          "Unemployment_rate_2007": 4.1,
          "id": 5089,
          "rate": 0.11199999999999999
         },
         {
          "Unemployment_rate_2007": 5.4,
          "id": 5091,
          "rate": 0.045
         },
         {
          "Unemployment_rate_2007": 4.5,
          "id": 5093,
          "rate": 0.113
         },
         {
          "Unemployment_rate_2007": 7.3,
          "id": 5095,
          "rate": 0.07400000000000001
         },
         {
          "Unemployment_rate_2007": 6.7,
          "id": 5097,
          "rate": 0.057999999999999996
         },
         {
          "Unemployment_rate_2007": 5.3,
          "id": 5099,
          "rate": 0.087
         },
         {
          "Unemployment_rate_2007": 5.7,
          "id": 5101,
          "rate": 0.062
         },
         {
          "Unemployment_rate_2007": 5.1,
          "id": 5103,
          "rate": 0.071
         },
         {
          "Unemployment_rate_2007": 7.3,
          "id": 5105,
          "rate": 0.055999999999999994
         },
         {
          "Unemployment_rate_2007": 4.8,
          "id": 5107,
          "rate": 0.08800000000000001
         },
         {
          "Unemployment_rate_2007": 7.3,
          "id": 5109,
          "rate": 0.063
         },
         {
          "Unemployment_rate_2007": 5.6,
          "id": 5111,
          "rate": 0.075
         },
         {
          "Unemployment_rate_2007": 7.2,
          "id": 5113,
          "rate": 0.064
         },
         {
          "Unemployment_rate_2007": 4.9,
          "id": 5115,
          "rate": 0.062
         },
         {
          "Unemployment_rate_2007": 4.8,
          "id": 5117,
          "rate": 0.067
         },
         {
          "Unemployment_rate_2007": 5.7,
          "id": 5119,
          "rate": 0.06
         },
         {
          "Unemployment_rate_2007": 4.7,
          "id": 5121,
          "rate": 0.073
         },
         {
          "Unemployment_rate_2007": 9.3,
          "id": 5123,
          "rate": 0.094
         },
         {
          "Unemployment_rate_2007": 9.6,
          "id": 5125,
          "rate": 0.057999999999999996
         },
         {
          "Unemployment_rate_2007": 4.2,
          "id": 5127,
          "rate": 0.063
         },
         {
          "Unemployment_rate_2007": 4.6,
          "id": 5129,
          "rate": 0.059000000000000004
         },
         {
          "Unemployment_rate_2007": 4.9,
          "id": 5131,
          "rate": 0.062
         },
         {
          "Unemployment_rate_2007": 5.1,
          "id": 5133,
          "rate": 0.051
         },
         {
          "Unemployment_rate_2007": 4.1,
          "id": 5135,
          "rate": 0.078
         },
         {
          "Unemployment_rate_2007": 6.7,
          "id": 5137,
          "rate": 0.066
         },
         {
          "Unemployment_rate_2007": 5.7,
          "id": 5139,
          "rate": 0.095
         },
         {
          "Unemployment_rate_2007": 6.8,
          "id": 5141,
          "rate": 0.091
         },
         {
          "Unemployment_rate_2007": 5.9,
          "id": 5143,
          "rate": 0.05
         },
         {
          "Unemployment_rate_2007": 3.9,
          "id": 5145,
          "rate": 0.067
         },
         {
          "Unemployment_rate_2007": 6.6,
          "id": 5147,
          "rate": 0.091
         },
         {
          "Unemployment_rate_2007": 8.7,
          "id": 5149,
          "rate": 0.064
         },
         {
          "Unemployment_rate_2007": 4.3,
          "id": 6001,
          "rate": 0.113
         },
         {
          "Unemployment_rate_2007": null,
          "id": 6003,
          "rate": 0.152
         },
         {
          "Unemployment_rate_2007": 4.7,
          "id": 6005,
          "rate": 0.121
         },
         {
          "Unemployment_rate_2007": 7.9,
          "id": 6007,
          "rate": 0.122
         },
         {
          "Unemployment_rate_2007": 5.8,
          "id": 6009,
          "rate": 0.14300000000000002
         },
         {
          "Unemployment_rate_2007": 6.7,
          "id": 6011,
          "rate": 0.145
         },
         {
          "Unemployment_rate_2007": 6.4,
          "id": 6013,
          "rate": 0.11199999999999999
         },
         {
          "Unemployment_rate_2007": 11.8,
          "id": 6015,
          "rate": 0.11900000000000001
         },
         {
          "Unemployment_rate_2007": 4.7,
          "id": 6017,
          "rate": 0.11199999999999999
         },
         {
          "Unemployment_rate_2007": 7.5,
          "id": 6019,
          "rate": 0.141
         },
         {
          "Unemployment_rate_2007": 5.2,
          "id": 6021,
          "rate": 0.138
         },
         {
          "Unemployment_rate_2007": 8.6,
          "id": 6023,
          "rate": 0.10300000000000001
         },
         {
          "Unemployment_rate_2007": 8.8,
          "id": 6025,
          "rate": 0.301
         },
         {
          "Unemployment_rate_2007": 5.9,
          "id": 6027,
          "rate": 0.095
         },
         {
          "Unemployment_rate_2007": 18.1,
          "id": 6029,
          "rate": 0.139
         },
         {
          "Unemployment_rate_2007": 4.9,
          "id": 6031,
          "rate": 0.139
         },
         {
          "Unemployment_rate_2007": 8.2,
          "id": 6033,
          "rate": 0.147
         },
         {
          "Unemployment_rate_2007": 8.7,
          "id": 6035,
          "rate": 0.11800000000000001
         },
         {
          "Unemployment_rate_2007": 8.4,
          "id": 6037,
          "rate": 0.127
         },
         {
          "Unemployment_rate_2007": 8.2,
          "id": 6039,
          "rate": 0.12300000000000001
         },
         {
          "Unemployment_rate_2007": 5.1,
          "id": 6041,
          "rate": 0.08
         },
         {
          "Unemployment_rate_2007": 7.5,
          "id": 6043,
          "rate": 0.08800000000000001
         },
         {
          "Unemployment_rate_2007": 3.7,
          "id": 6045,
          "rate": 0.10099999999999999
         },
         {
          "Unemployment_rate_2007": 6,
          "id": 6047,
          "rate": 0.157
         },
         {
          "Unemployment_rate_2007": 5.5,
          "id": 6049,
          "rate": 0.111
         },
         {
          "Unemployment_rate_2007": 10.1,
          "id": 6051,
          "rate": 0.10300000000000001
         },
         {
          "Unemployment_rate_2007": 8.1,
          "id": 6053,
          "rate": 0.1
         },
         {
          "Unemployment_rate_2007": 4.8,
          "id": 6055,
          "rate": 0.087
         },
         {
          "Unemployment_rate_2007": 7.1,
          "id": 6057,
          "rate": 0.109
         },
         {
          "Unemployment_rate_2007": 4,
          "id": 6059,
          "rate": 0.094
         },
         {
          "Unemployment_rate_2007": 4.8,
          "id": 6061,
          "rate": 0.113
         },
         {
          "Unemployment_rate_2007": 3.9,
          "id": 6063,
          "rate": 0.139
         },
         {
          "Unemployment_rate_2007": 4.8,
          "id": 6065,
          "rate": 0.147
         },
         {
          "Unemployment_rate_2007": 8.5,
          "id": 6067,
          "rate": 0.122
         },
         {
          "Unemployment_rate_2007": 6,
          "id": 6069,
          "rate": 0.125
         },
         {
          "Unemployment_rate_2007": 5.4,
          "id": 6071,
          "rate": 0.136
         },
         {
          "Unemployment_rate_2007": 7.2,
          "id": 6073,
          "rate": 0.102
         },
         {
          "Unemployment_rate_2007": 5.6,
          "id": 6075,
          "rate": 0.09699999999999999
         },
         {
          "Unemployment_rate_2007": 4.6,
          "id": 6077,
          "rate": 0.155
         },
         {
          "Unemployment_rate_2007": 4.2,
          "id": 6079,
          "rate": 0.09
         },
         {
          "Unemployment_rate_2007": 8.1,
          "id": 6081,
          "rate": 0.09
         },
         {
          "Unemployment_rate_2007": 4.3,
          "id": 6083,
          "rate": 0.085
         },
         {
          "Unemployment_rate_2007": 3.8,
          "id": 6085,
          "rate": 0.11800000000000001
         },
         {
          "Unemployment_rate_2007": 4.4,
          "id": 6087,
          "rate": 0.102
         },
         {
          "Unemployment_rate_2007": 4.7,
          "id": 6089,
          "rate": 0.147
         },
         {
          "Unemployment_rate_2007": 5.9,
          "id": 6091,
          "rate": 0.13699999999999998
         },
         {
          "Unemployment_rate_2007": 7.5,
          "id": 6093,
          "rate": 0.135
         },
         {
          "Unemployment_rate_2007": 8,
          "id": 6095,
          "rate": 0.115
         },
         {
          "Unemployment_rate_2007": 8.5,
          "id": 6097,
          "rate": 0.099
         },
         {
          "Unemployment_rate_2007": 5.3,
          "id": 6099,
          "rate": 0.153
         },
         {
          "Unemployment_rate_2007": 4.3,
          "id": 6101,
          "rate": 0.151
         },
         {
          "Unemployment_rate_2007": 8.7,
          "id": 6103,
          "rate": 0.13699999999999998
         },
         {
          "Unemployment_rate_2007": 9.7,
          "id": 6105,
          "rate": 0.159
         },
         {
          "Unemployment_rate_2007": 7.2,
          "id": 6107,
          "rate": 0.149
         },
         {
          "Unemployment_rate_2007": 10.4,
          "id": 6109,
          "rate": 0.127
         },
         {
          "Unemployment_rate_2007": 9.2,
          "id": 6111,
          "rate": 0.11
         },
         {
          "Unemployment_rate_2007": 6.2,
          "id": 6113,
          "rate": 0.109
         },
         {
          "Unemployment_rate_2007": 4.9,
          "id": 6115,
          "rate": 0.17800000000000002
         },
         {
          "Unemployment_rate_2007": 5.7,
          "id": 8001,
          "rate": 0.081
         },
         {
          "Unemployment_rate_2007": 9.3,
          "id": 8003,
          "rate": 0.055
         },
         {
          "Unemployment_rate_2007": null,
          "id": 8005,
          "rate": 0.069
         },
         {
          "Unemployment_rate_2007": 4.2,
          "id": 8007,
          "rate": 0.062
         },
         {
          "Unemployment_rate_2007": 4,
          "id": 8009,
          "rate": 0.034
         },
         {
          "Unemployment_rate_2007": 3.7,
          "id": 8011,
          "rate": 0.05
         },
         {
          "Unemployment_rate_2007": 3.8,
          "id": 8013,
          "rate": 0.055
         },
         {
          "Unemployment_rate_2007": 2.5,
          "id": 8014,
          "rate": 0.066
         },
         {
          "Unemployment_rate_2007": 4.8,
          "id": 8015,
          "rate": 0.051
         },
         {
          "Unemployment_rate_2007": 3.3,
          "id": 8017,
          "rate": 0.02
         },
         {
          "Unemployment_rate_2007": 3.5,
          "id": 8019,
          "rate": 0.07
         },
         {
          "Unemployment_rate_2007": 3.6,
          "id": 8021,
          "rate": 0.051
         },
         {
          "Unemployment_rate_2007": 2.5,
          "id": 8023,
          "rate": 0.084
         },
         {
          "Unemployment_rate_2007": 3.7,
          "id": 8025,
          "rate": 0.076
         },
         {
          "Unemployment_rate_2007": 5.5,
          "id": 8027,
          "rate": 0.052000000000000005
         },
         {
          "Unemployment_rate_2007": 7.1,
          "id": 8029,
          "rate": 0.066
         },
         {
          "Unemployment_rate_2007": 6.3,
          "id": 8031,
          "rate": 0.077
         },
         {
          "Unemployment_rate_2007": 4,
          "id": 8033,
          "rate": 0.132
         },
         {
          "Unemployment_rate_2007": 3.3,
          "id": 8035,
          "rate": 0.059000000000000004
         },
         {
          "Unemployment_rate_2007": 4.1,
          "id": 8037,
          "rate": 0.062
         },
         {
          "Unemployment_rate_2007": 5,
          "id": 8039,
          "rate": 0.06
         },
         {
          "Unemployment_rate_2007": 3.1,
          "id": 8041,
          "rate": 0.07200000000000001
         },
         {
          "Unemployment_rate_2007": 2.8,
          "id": 8043,
          "rate": 0.077
         },
         {
          "Unemployment_rate_2007": 3.7,
          "id": 8045,
          "rate": 0.057999999999999996
         },
         {
          "Unemployment_rate_2007": 4.2,
          "id": 8047,
          "rate": 0.06
         },
         {
          "Unemployment_rate_2007": 4.7,
          "id": 8049,
          "rate": 0.057999999999999996
         },
         {
          "Unemployment_rate_2007": 2.5,
          "id": 8051,
          "rate": 0.044000000000000004
         },
         {
          "Unemployment_rate_2007": 3.5,
          "id": 8053,
          "rate": 0.022000000000000002
         },
         {
          "Unemployment_rate_2007": 2.6,
          "id": 8055,
          "rate": 0.07200000000000001
         },
         {
          "Unemployment_rate_2007": 2.8,
          "id": 8057,
          "rate": 0.033
         },
         {
          "Unemployment_rate_2007": 2.8,
          "id": 8059,
          "rate": 0.067
         },
         {
          "Unemployment_rate_2007": 4.7,
          "id": 8061,
          "rate": 0.027999999999999997
         },
         {
          "Unemployment_rate_2007": 2.5,
          "id": 8063,
          "rate": 0.028999999999999998
         },
         {
          "Unemployment_rate_2007": 3.6,
          "id": 8065,
          "rate": 0.071
         },
         {
          "Unemployment_rate_2007": 2.6,
          "id": 8067,
          "rate": 0.047
         },
         {
          "Unemployment_rate_2007": 2.7,
          "id": 8069,
          "rate": 0.055999999999999994
         },
         {
          "Unemployment_rate_2007": 3.6,
          "id": 8071,
          "rate": 0.07
         },
         {
          "Unemployment_rate_2007": 2.8,
          "id": 8073,
          "rate": 0.037000000000000005
         },
         {
          "Unemployment_rate_2007": 3.4,
          "id": 8075,
          "rate": 0.046
         },
         {
          "Unemployment_rate_2007": 3.6,
          "id": 8077,
          "rate": 0.08199999999999999
         },
         {
          "Unemployment_rate_2007": 3.1,
          "id": 8079,
          "rate": 0.053
         },
         {
          "Unemployment_rate_2007": 3.1,
          "id": 8081,
          "rate": 0.055999999999999994
         },
         {
          "Unemployment_rate_2007": 3.2,
          "id": 8083,
          "rate": 0.063
         },
         {
          "Unemployment_rate_2007": 4.2,
          "id": 8085,
          "rate": 0.069
         },
         {
          "Unemployment_rate_2007": 3.1,
          "id": 8087,
          "rate": 0.049
         },
         {
          "Unemployment_rate_2007": 3.9,
          "id": 8089,
          "rate": 0.057999999999999996
         },
         {
          "Unemployment_rate_2007": 3.6,
          "id": 8091,
          "rate": 0.040999999999999995
         },
         {
          "Unemployment_rate_2007": 3.3,
          "id": 8093,
          "rate": 0.061
         },
         {
          "Unemployment_rate_2007": 5,
          "id": 8095,
          "rate": 0.026000000000000002
         },
         {
          "Unemployment_rate_2007": 2.9,
          "id": 8097,
          "rate": 0.05
         },
         {
          "Unemployment_rate_2007": 3.6,
          "id": 8099,
          "rate": 0.05
         },
         {
          "Unemployment_rate_2007": 2.7,
          "id": 8101,
          "rate": 0.075
         },
         {
          "Unemployment_rate_2007": 2.7,
          "id": 8103,
          "rate": 0.039
         },
         {
          "Unemployment_rate_2007": 3.4,
          "id": 8105,
          "rate": 0.048
         },
         {
          "Unemployment_rate_2007": 4.7,
          "id": 8107,
          "rate": 0.06
         },
         {
          "Unemployment_rate_2007": 2.1,
          "id": 8109,
          "rate": 0.078
         },
         {
          "Unemployment_rate_2007": 4,
          "id": 8111,
          "rate": 0.053
         },
         {
          "Unemployment_rate_2007": 2.6,
          "id": 8113,
          "rate": 0.042
         },
         {
          "Unemployment_rate_2007": 5.2,
          "id": 8115,
          "rate": 0.033
         },
         {
          "Unemployment_rate_2007": 4.1,
          "id": 8117,
          "rate": 0.057999999999999996
         },
         {
          "Unemployment_rate_2007": 3.1,
          "id": 8119,
          "rate": 0.067
         },
         {
          "Unemployment_rate_2007": 2.2,
          "id": 8121,
          "rate": 0.032
         },
         {
          "Unemployment_rate_2007": 2.7,
          "id": 8123,
          "rate": 0.075
         },
         {
          "Unemployment_rate_2007": 3.9,
          "id": 8125,
          "rate": 0.026000000000000002
         },
         {
          "Unemployment_rate_2007": 2.7,
          "id": 9001,
          "rate": 0.078
         },
         {
          "Unemployment_rate_2007": 4.1,
          "id": 9003,
          "rate": 0.08800000000000001
         },
         {
          "Unemployment_rate_2007": 2.1,
          "id": 9005,
          "rate": 0.079
         },
         {
          "Unemployment_rate_2007": null,
          "id": 9007,
          "rate": 0.067
         },
         {
          "Unemployment_rate_2007": 3.9,
          "id": 9009,
          "rate": 0.08900000000000001
         },
         {
          "Unemployment_rate_2007": 4.9,
          "id": 9011,
          "rate": 0.076
         },
         {
          "Unemployment_rate_2007": 4.2,
          "id": 9013,
          "rate": 0.067
         },
         {
          "Unemployment_rate_2007": 3.9,
          "id": 9015,
          "rate": 0.09
         },
         {
          "Unemployment_rate_2007": 4.9,
          "id": 10001,
          "rate": 0.079
         },
         {
          "Unemployment_rate_2007": 4.2,
          "id": 10003,
          "rate": 0.086
         },
         {
          "Unemployment_rate_2007": 3.8,
          "id": 10005,
          "rate": 0.073
         },
         {
          "Unemployment_rate_2007": 5.2,
          "id": 11001,
          "rate": 0.11699999999999999
         },
         {
          "Unemployment_rate_2007": null,
          "id": 12001,
          "rate": 0.071
         },
         {
          "Unemployment_rate_2007": 3.4,
          "id": 12003,
          "rate": 0.114
         },
         {
          "Unemployment_rate_2007": 3.5,
          "id": 12005,
          "rate": 0.08900000000000001
         },
         {
          "Unemployment_rate_2007": 3.4,
          "id": 12007,
          "rate": 0.083
         },
         {
          "Unemployment_rate_2007": null,
          "id": 12009,
          "rate": 0.111
         },
         {
          "Unemployment_rate_2007": 5.5,
          "id": 12011,
          "rate": 0.098
         },
         {
          "Unemployment_rate_2007": null,
          "id": 12013,
          "rate": 0.08199999999999999
         },
         {
          "Unemployment_rate_2007": 3,
          "id": 12015,
          "rate": 0.127
         },
         {
          "Unemployment_rate_2007": 3.7,
          "id": 12017,
          "rate": 0.121
         },
         {
          "Unemployment_rate_2007": 3.7,
          "id": 12019,
          "rate": 0.098
         },
         {
          "Unemployment_rate_2007": 3.4,
          "id": 12021,
          "rate": 0.131
         },
         {
          "Unemployment_rate_2007": 4.4,
          "id": 12023,
          "rate": 0.09
         },
         {
          "Unemployment_rate_2007": 3.6,
          "id": 12027,
          "rate": 0.11699999999999999
         },
         {
          "Unemployment_rate_2007": 3.7,
          "id": 12029,
          "rate": 0.12300000000000001
         },
         {
          "Unemployment_rate_2007": 5.2,
          "id": 12031,
          "rate": 0.11199999999999999
         },
         {
          "Unemployment_rate_2007": 5.1,
          "id": 12033,
          "rate": 0.098
         },
         {
          "Unemployment_rate_2007": 3.5,
          "id": 12035,
          "rate": 0.162
         },
         {
          "Unemployment_rate_2007": 4.4,
          "id": 12037,
          "rate": 0.071
         },
         {
          "Unemployment_rate_2007": 3.7,
          "id": 12039,
          "rate": 0.096
         },
         {
          "Unemployment_rate_2007": 4.9,
          "id": 12041,
          "rate": 0.1
         },
         {
          "Unemployment_rate_2007": 4.4,
          "id": 12043,
          "rate": 0.1
         },
         {
          "Unemployment_rate_2007": 4.2,
          "id": 12045,
          "rate": 0.098
         },
         {
          "Unemployment_rate_2007": 4,
          "id": 12047,
          "rate": 0.113
         },
         {
          "Unemployment_rate_2007": 6.6,
          "id": 12049,
          "rate": 0.126
         },
         {
          "Unemployment_rate_2007": 3.2,
          "id": 12051,
          "rate": 0.168
         },
         {
          "Unemployment_rate_2007": 4.4,
          "id": 12053,
          "rate": 0.138
         },
         {
          "Unemployment_rate_2007": 3.9,
          "id": 12055,
          "rate": 0.11599999999999999
         },
         {
          "Unemployment_rate_2007": 4.8,
          "id": 12057,
          "rate": 0.115
         },
         {
          "Unemployment_rate_2007": 3.9,
          "id": 12059,
          "rate": 0.07200000000000001
         },
         {
          "Unemployment_rate_2007": 4.7,
          "id": 12061,
          "rate": 0.152
         },
         {
          "Unemployment_rate_2007": 4.6,
          "id": 12063,
          "rate": 0.07200000000000001
         },
         {
          "Unemployment_rate_2007": 7.5,
          "id": 12065,
          "rate": 0.085
         },
         {
          "Unemployment_rate_2007": 5.9,
          "id": 12067,
          "rate": 0.07200000000000001
         },
         {
          "Unemployment_rate_2007": 4.9,
          "id": 12069,
          "rate": 0.12300000000000001
         },
         {
          "Unemployment_rate_2007": 4.2,
          "id": 12071,
          "rate": 0.139
         },
         {
          "Unemployment_rate_2007": 3.6,
          "id": 12073,
          "rate": 0.07200000000000001
         },
         {
          "Unemployment_rate_2007": 5.7,
          "id": 12075,
          "rate": 0.121
         },
         {
          "Unemployment_rate_2007": 4,
          "id": 12077,
          "rate": 0.053
         },
         {
          "Unemployment_rate_2007": 3.4,
          "id": 12079,
          "rate": 0.11699999999999999
         },
         {
          "Unemployment_rate_2007": 3,
          "id": 12081,
          "rate": 0.127
         },
         {
          "Unemployment_rate_2007": 4.2,
          "id": 12083,
          "rate": 0.133
         },
         {
          "Unemployment_rate_2007": 4.7,
          "id": 12085,
          "rate": 0.11900000000000001
         },
         {
          "Unemployment_rate_2007": 3.1,
          "id": 12086,
          "rate": 0.113
         },
         {
          "Unemployment_rate_2007": 4.3,
          "id": 12087,
          "rate": 0.07
         },
         {
          "Unemployment_rate_2007": 2.8,
          "id": 12089,
          "rate": 0.107
         },
         {
          "Unemployment_rate_2007": 6.2,
          "id": 12091,
          "rate": 0.07200000000000001
         },
         {
          "Unemployment_rate_2007": 4.2,
          "id": 12093,
          "rate": 0.133
         },
         {
          "Unemployment_rate_2007": 4.7,
          "id": 12095,
          "rate": 0.114
         },
         {
          "Unemployment_rate_2007": 4.4,
          "id": 12097,
          "rate": 0.128
         },
         {
          "Unemployment_rate_2007": 3.1,
          "id": 12099,
          "rate": 0.11699999999999999
         },
         {
          "Unemployment_rate_2007": 2.7,
          "id": 12101,
          "rate": 0.125
         },
         {
          "Unemployment_rate_2007": 3.4,
          "id": 12103,
          "rate": 0.11199999999999999
         },
         {
          "Unemployment_rate_2007": 3.1,
          "id": 12105,
          "rate": 0.127
         },
         {
          "Unemployment_rate_2007": 5.3,
          "id": 12107,
          "rate": 0.122
         },
         {
          "Unemployment_rate_2007": 3.8,
          "id": 12109,
          "rate": 0.09
         },
         {
          "Unemployment_rate_2007": 4.3,
          "id": 12111,
          "rate": 0.153
         },
         {
          "Unemployment_rate_2007": 4.4,
          "id": 12113,
          "rate": 0.094
         },
         {
          "Unemployment_rate_2007": 5,
          "id": 12115,
          "rate": 0.12300000000000001
         },
         {
          "Unemployment_rate_2007": 4.2,
          "id": 12117,
          "rate": 0.106
         },
         {
          "Unemployment_rate_2007": 4.6,
          "id": 12119,
          "rate": 0.09
         },
         {
          "Unemployment_rate_2007": 4.8,
          "id": 12121,
          "rate": 0.098
         },
         {
          "Unemployment_rate_2007": 3.3,
          "id": 12123,
          "rate": 0.10400000000000001
         },
         {
          "Unemployment_rate_2007": 5.8,
          "id": 12125,
          "rate": 0.084
         },
         {
          "Unemployment_rate_2007": 3.7,
          "id": 12127,
          "rate": 0.11699999999999999
         },
         {
          "Unemployment_rate_2007": 4.6,
          "id": 12129,
          "rate": 0.07200000000000001
         },
         {
          "Unemployment_rate_2007": 3.7,
          "id": 12131,
          "rate": 0.068
         },
         {
          "Unemployment_rate_2007": 3.6,
          "id": 12133,
          "rate": 0.096
         },
         {
          "Unemployment_rate_2007": 3.7,
          "id": 13001,
          "rate": 0.09699999999999999
         },
         {
          "Unemployment_rate_2007": 4.3,
          "id": 13003,
          "rate": 0.126
         },
         {
          "Unemployment_rate_2007": 3.2,
          "id": 13005,
          "rate": 0.085
         },
         {
          "Unemployment_rate_2007": 4.2,
          "id": 13007,
          "rate": 0.091
         },
         {
          "Unemployment_rate_2007": 3,
          "id": 13009,
          "rate": 0.11599999999999999
         },
         {
          "Unemployment_rate_2007": 2.8,
          "id": 13011,
          "rate": 0.067
         },
         {
          "Unemployment_rate_2007": 4.1,
          "id": 13013,
          "rate": 0.111
         },
         {
          "Unemployment_rate_2007": null,
          "id": 13015,
          "rate": 0.133
         },
         {
          "Unemployment_rate_2007": 5.3,
          "id": 13017,
          "rate": 0.153
         },
         {
          "Unemployment_rate_2007": 5.7,
          "id": 13019,
          "rate": 0.124
         },
         {
          "Unemployment_rate_2007": 4.8,
          "id": 13021,
          "rate": 0.1
         },
         {
          "Unemployment_rate_2007": 5,
          "id": 13023,
          "rate": 0.09699999999999999
         },
         {
          "Unemployment_rate_2007": 5.6,
          "id": 13025,
          "rate": 0.11599999999999999
         },
         {
          "Unemployment_rate_2007": 3,
          "id": 13027,
          "rate": 0.087
         },
         {
          "Unemployment_rate_2007": 4.2,
          "id": 13029,
          "rate": 0.081
         },
         {
          "Unemployment_rate_2007": 4.9,
          "id": 13031,
          "rate": 0.09
         },
         {
          "Unemployment_rate_2007": 6.9,
          "id": 13033,
          "rate": 0.122
         },
         {
          "Unemployment_rate_2007": 4.3,
          "id": 13035,
          "rate": 0.127
         },
         {
          "Unemployment_rate_2007": 5.2,
          "id": 13037,
          "rate": 0.111
         },
         {
          "Unemployment_rate_2007": 5.2,
          "id": 13039,
          "rate": 0.091
         },
         {
          "Unemployment_rate_2007": 4.5,
          "id": 13043,
          "rate": 0.09300000000000001
         },
         {
          "Unemployment_rate_2007": 4.3,
          "id": 13045,
          "rate": 0.10800000000000001
         },
         {
          "Unemployment_rate_2007": 3.4,
          "id": 13047,
          "rate": 0.08
         },
         {
          "Unemployment_rate_2007": 4.3,
          "id": 13049,
          "rate": 0.106
         },
         {
          "Unemployment_rate_2007": 7.7,
          "id": 13051,
          "rate": 0.085
         },
         {
          "Unemployment_rate_2007": 5.2,
          "id": 13053,
          "rate": 0.146
         },
         {
          "Unemployment_rate_2007": 6.6,
          "id": 13055,
          "rate": 0.114
         },
         {
          "Unemployment_rate_2007": 4,
          "id": 13057,
          "rate": 0.095
         },
         {
          "Unemployment_rate_2007": 4.4,
          "id": 13059,
          "rate": 0.07
         },
         {
          "Unemployment_rate_2007": 4.8,
          "id": 13061,
          "rate": 0.08199999999999999
         },
         {
          "Unemployment_rate_2007": 3.6,
          "id": 13063,
          "rate": 0.12300000000000001
         },
         {
          "Unemployment_rate_2007": 4.7,
          "id": 13065,
          "rate": 0.11
         },
         {
          "Unemployment_rate_2007": 4,
          "id": 13067,
          "rate": 0.096
         },
         {
          "Unemployment_rate_2007": 9.4,
          "id": 13069,
          "rate": 0.168
         },
         {
          "Unemployment_rate_2007": 5.9,
          "id": 13071,
          "rate": 0.09
         },
         {
          "Unemployment_rate_2007": 3.6,
          "id": 13073,
          "rate": 0.07
         },
         {
          "Unemployment_rate_2007": 3.9,
          "id": 13075,
          "rate": 0.11900000000000001
         },
         {
          "Unemployment_rate_2007": 5.6,
          "id": 13077,
          "rate": 0.1
         },
         {
          "Unemployment_rate_2007": 5.7,
          "id": 13079,
          "rate": 0.095
         },
         {
          "Unemployment_rate_2007": 5.3,
          "id": 13081,
          "rate": 0.121
         },
         {
          "Unemployment_rate_2007": 4,
          "id": 13083,
          "rate": 0.09
         },
         {
          "Unemployment_rate_2007": 5.9,
          "id": 13085,
          "rate": 0.10099999999999999
         },
         {
          "Unemployment_rate_2007": 4.5,
          "id": 13087,
          "rate": 0.127
         },
         {
          "Unemployment_rate_2007": 3.8,
          "id": 13089,
          "rate": 0.107
         },
         {
          "Unemployment_rate_2007": 5.6,
          "id": 13091,
          "rate": 0.11199999999999999
         },
         {
          "Unemployment_rate_2007": 4,
          "id": 13093,
          "rate": 0.10099999999999999
         },
         {
          "Unemployment_rate_2007": 4.7,
          "id": 13095,
          "rate": 0.111
         },
         {
          "Unemployment_rate_2007": 5.8,
          "id": 13097,
          "rate": 0.114
         },
         {
          "Unemployment_rate_2007": 4.2,
          "id": 13099,
          "rate": 0.105
         },
         {
          "Unemployment_rate_2007": 3.7,
          "id": 13101,
          "rate": 0.067
         },
         {
          "Unemployment_rate_2007": 6,
          "id": 13103,
          "rate": 0.079
         },
         {
          "Unemployment_rate_2007": 4.8,
          "id": 13105,
          "rate": 0.122
         },
         {
          "Unemployment_rate_2007": 5,
          "id": 13107,
          "rate": 0.10300000000000001
         },
         {
          "Unemployment_rate_2007": 5.3,
          "id": 13109,
          "rate": 0.08900000000000001
         },
         {
          "Unemployment_rate_2007": 5.6,
          "id": 13111,
          "rate": 0.1
         },
         {
          "Unemployment_rate_2007": 4.6,
          "id": 13113,
          "rate": 0.084
         },
         {
          "Unemployment_rate_2007": 5.6,
          "id": 13115,
          "rate": 0.111
         },
         {
          "Unemployment_rate_2007": 3.1,
          "id": 13117,
          "rate": 0.086
         },
         {
          "Unemployment_rate_2007": 3.3,
          "id": 13119,
          "rate": 0.11800000000000001
         },
         {
          "Unemployment_rate_2007": 5.7,
          "id": 13121,
          "rate": 0.107
         },
         {
          "Unemployment_rate_2007": 5.2,
          "id": 13123,
          "rate": 0.098
         },
         {
          "Unemployment_rate_2007": 4.3,
          "id": 13125,
          "rate": 0.111
         },
         {
          "Unemployment_rate_2007": 3.7,
          "id": 13127,
          "rate": 0.08199999999999999
         },
         {
          "Unemployment_rate_2007": 3.8,
          "id": 13129,
          "rate": 0.131
         },
         {
          "Unemployment_rate_2007": 4.7,
          "id": 13131,
          "rate": 0.098
         },
         {
          "Unemployment_rate_2007": 3.3,
          "id": 13133,
          "rate": 0.111
         },
         {
          "Unemployment_rate_2007": 4.9,
          "id": 13135,
          "rate": 0.094
         },
         {
          "Unemployment_rate_2007": 4.8,
          "id": 13137,
          "rate": 0.094
         },
         {
          "Unemployment_rate_2007": 3.6,
          "id": 13139,
          "rate": 0.091
         },
         {
          "Unemployment_rate_2007": 5.1,
          "id": 13141,
          "rate": 0.177
         },
         {
          "Unemployment_rate_2007": 3.6,
          "id": 13143,
          "rate": 0.113
         },
         {
          "Unemployment_rate_2007": 4.7,
          "id": 13145,
          "rate": 0.07200000000000001
         },
         {
          "Unemployment_rate_2007": 4,
          "id": 13147,
          "rate": 0.138
         },
         {
          "Unemployment_rate_2007": 5.3,
          "id": 13149,
          "rate": 0.124
         },
         {
          "Unemployment_rate_2007": 4,
          "id": 13151,
          "rate": 0.10400000000000001
         },
         {
          "Unemployment_rate_2007": 4,
          "id": 13153,
          "rate": 0.073
         },
         {
          "Unemployment_rate_2007": 3.6,
          "id": 13155,
          "rate": 0.145
         },
         {
          "Unemployment_rate_2007": 8.4,
          "id": 13157,
          "rate": 0.109
         },
         {
          "Unemployment_rate_2007": 4.7,
          "id": 13159,
          "rate": 0.127
         },
         {
          "Unemployment_rate_2007": 3.6,
          "id": 13161,
          "rate": 0.135
         },
         {
          "Unemployment_rate_2007": 6.5,
          "id": 13163,
          "rate": 0.149
         },
         {
          "Unemployment_rate_2007": 5,
          "id": 13165,
          "rate": 0.196
         },
         {
          "Unemployment_rate_2007": 4.3,
          "id": 13167,
          "rate": 0.11900000000000001
         },
         {
          "Unemployment_rate_2007": 3.9,
          "id": 13169,
          "rate": 0.086
         },
         {
          "Unemployment_rate_2007": 6,
          "id": 13171,
          "rate": 0.153
         },
         {
          "Unemployment_rate_2007": 4.1,
          "id": 13173,
          "rate": 0.084
         },
         {
          "Unemployment_rate_2007": 4.8,
          "id": 13175,
          "rate": 0.10800000000000001
         },
         {
          "Unemployment_rate_2007": 6.8,
          "id": 13177,
          "rate": 0.079
         },
         {
          "Unemployment_rate_2007": 7.1,
          "id": 13179,
          "rate": 0.085
         },
         {
          "Unemployment_rate_2007": 8.9,
          "id": 13181,
          "rate": 0.10300000000000001
         },
         {
          "Unemployment_rate_2007": 5.8,
          "id": 13183,
          "rate": 0.059000000000000004
         },
         {
          "Unemployment_rate_2007": 4.2,
          "id": 13185,
          "rate": 0.08199999999999999
         },
         {
          "Unemployment_rate_2007": 5,
          "id": 13187,
          "rate": 0.111
         },
         {
          "Unemployment_rate_2007": 3.7,
          "id": 13189,
          "rate": 0.121
         },
         {
          "Unemployment_rate_2007": 5,
          "id": 13191,
          "rate": 0.096
         },
         {
          "Unemployment_rate_2007": 3.6,
          "id": 13193,
          "rate": 0.13
         },
         {
          "Unemployment_rate_2007": 5.2,
          "id": 13195,
          "rate": 0.083
         },
         {
          "Unemployment_rate_2007": 5.8,
          "id": 13197,
          "rate": 0.099
         },
         {
          "Unemployment_rate_2007": 3.7,
          "id": 13199,
          "rate": 0.132
         },
         {
          "Unemployment_rate_2007": 3.8,
          "id": 13201,
          "rate": 0.087
         },
         {
          "Unemployment_rate_2007": 4.1,
          "id": 13205,
          "rate": 0.10400000000000001
         },
         {
          "Unemployment_rate_2007": 6.3,
          "id": 13207,
          "rate": 0.102
         },
         {
          "Unemployment_rate_2007": 4.1,
          "id": 13209,
          "rate": 0.085
         },
         {
          "Unemployment_rate_2007": 7.3,
          "id": 13211,
          "rate": 0.098
         },
         {
          "Unemployment_rate_2007": 3.7,
          "id": 13213,
          "rate": 0.12300000000000001
         },
         {
          "Unemployment_rate_2007": 4.7,
          "id": 13215,
          "rate": 0.092
         },
         {
          "Unemployment_rate_2007": 5.9,
          "id": 13217,
          "rate": 0.126
         },
         {
          "Unemployment_rate_2007": 4.4,
          "id": 13219,
          "rate": 0.062
         },
         {
          "Unemployment_rate_2007": 5.1,
          "id": 13221,
          "rate": 0.08199999999999999
         },
         {
          "Unemployment_rate_2007": 4.1,
          "id": 13223,
          "rate": 0.107
         },
         {
          "Unemployment_rate_2007": 4.6,
          "id": 13225,
          "rate": 0.102
         },
         {
          "Unemployment_rate_2007": 4.3,
          "id": 13227,
          "rate": 0.10800000000000001
         },
         {
          "Unemployment_rate_2007": 4.5,
          "id": 13229,
          "rate": 0.09300000000000001
         },
         {
          "Unemployment_rate_2007": 5.2,
          "id": 13231,
          "rate": 0.11800000000000001
         },
         {
          "Unemployment_rate_2007": 5.2,
          "id": 13233,
          "rate": 0.10800000000000001
         },
         {
          "Unemployment_rate_2007": 3,
          "id": 13235,
          "rate": 0.071
         },
         {
          "Unemployment_rate_2007": 3.8,
          "id": 13237,
          "rate": 0.10400000000000001
         },
         {
          "Unemployment_rate_2007": 4.1,
          "id": 13239,
          "rate": 0.11800000000000001
         },
         {
          "Unemployment_rate_2007": 5.4,
          "id": 13241,
          "rate": 0.10400000000000001
         },
         {
          "Unemployment_rate_2007": 3.7,
          "id": 13243,
          "rate": 0.13
         },
         {
          "Unemployment_rate_2007": 3.9,
          "id": 13245,
          "rate": 0.10300000000000001
         },
         {
          "Unemployment_rate_2007": 4.2,
          "id": 13247,
          "rate": 0.12
         },
         {
          "Unemployment_rate_2007": 4.4,
          "id": 13249,
          "rate": 0.138
         },
         {
          "Unemployment_rate_2007": 4,
          "id": 13251,
          "rate": 0.13699999999999998
         },
         {
          "Unemployment_rate_2007": 4.4,
          "id": 13253,
          "rate": 0.107
         },
         {
          "Unemployment_rate_2007": 5.4,
          "id": 13255,
          "rate": 0.154
         },
         {
          "Unemployment_rate_2007": 5.8,
          "id": 13257,
          "rate": 0.107
         },
         {
          "Unemployment_rate_2007": 6.4,
          "id": 13259,
          "rate": 0.107
         },
         {
          "Unemployment_rate_2007": 6.1,
          "id": 13261,
          "rate": 0.129
         },
         {
          "Unemployment_rate_2007": 5,
          "id": 13263,
          "rate": 0.098
         },
         {
          "Unemployment_rate_2007": 5.9,
          "id": 13265,
          "rate": 0.124
         },
         {
          "Unemployment_rate_2007": 4.8,
          "id": 13267,
          "rate": 0.087
         },
         {
          "Unemployment_rate_2007": 5.4,
          "id": 13269,
          "rate": 0.13
         },
         {
          "Unemployment_rate_2007": 5.6,
          "id": 13271,
          "rate": 0.162
         },
         {
          "Unemployment_rate_2007": 4.8,
          "id": 13273,
          "rate": 0.11599999999999999
         },
         {
          "Unemployment_rate_2007": 6.3,
          "id": 13275,
          "rate": 0.09300000000000001
         },
         {
          "Unemployment_rate_2007": 7.1,
          "id": 13277,
          "rate": 0.106
         },
         {
          "Unemployment_rate_2007": 6.4,
          "id": 13279,
          "rate": 0.098
         },
         {
          "Unemployment_rate_2007": 7.9,
          "id": 13281,
          "rate": 0.078
         },
         {
          "Unemployment_rate_2007": 4.8,
          "id": 13283,
          "rate": 0.11900000000000001
         },
         {
          "Unemployment_rate_2007": 5.9,
          "id": 13285,
          "rate": 0.129
         },
         {
          "Unemployment_rate_2007": 7.7,
          "id": 13287,
          "rate": 0.13
         },
         {
          "Unemployment_rate_2007": 6,
          "id": 13289,
          "rate": 0.114
         },
         {
          "Unemployment_rate_2007": 4.1,
          "id": 13291,
          "rate": 0.09
         },
         {
          "Unemployment_rate_2007": 5.3,
          "id": 13293,
          "rate": 0.133
         },
         {
          "Unemployment_rate_2007": 4.7,
          "id": 13295,
          "rate": 0.096
         },
         {
          "Unemployment_rate_2007": 3.7,
          "id": 13297,
          "rate": 0.11
         },
         {
          "Unemployment_rate_2007": 5.8,
          "id": 13299,
          "rate": 0.107
         },
         {
          "Unemployment_rate_2007": 5.7,
          "id": 13301,
          "rate": 0.188
         },
         {
          "Unemployment_rate_2007": 6.6,
          "id": 13303,
          "rate": 0.14
         },
         {
          "Unemployment_rate_2007": 5.6,
          "id": 13305,
          "rate": 0.11699999999999999
         },
         {
          "Unemployment_rate_2007": 3.6,
          "id": 13307,
          "rate": 0.091
         },
         {
          "Unemployment_rate_2007": 6.4,
          "id": 13309,
          "rate": 0.091
         },
         {
          "Unemployment_rate_2007": 4.4,
          "id": 13311,
          "rate": 0.095
         },
         {
          "Unemployment_rate_2007": 4.6,
          "id": 13313,
          "rate": 0.125
         },
         {
          "Unemployment_rate_2007": 4.9,
          "id": 13315,
          "rate": 0.11599999999999999
         },
         {
          "Unemployment_rate_2007": 7.5,
          "id": 13317,
          "rate": 0.11699999999999999
         },
         {
          "Unemployment_rate_2007": 5.6,
          "id": 13319,
          "rate": 0.107
         },
         {
          "Unemployment_rate_2007": 5.4,
          "id": 13321,
          "rate": 0.10800000000000001
         },
         {
          "Unemployment_rate_2007": 4.5,
          "id": 15001,
          "rate": 0.10800000000000001
         },
         {
          "Unemployment_rate_2007": 5.1,
          "id": 15003,
          "rate": 0.063
         },
         {
          "Unemployment_rate_2007": 3.6,
          "id": 15007,
          "rate": 0.096
         },
         {
          "Unemployment_rate_2007": 4.6,
          "id": 15009,
          "rate": 0.09699999999999999
         },
         {
          "Unemployment_rate_2007": 5.8,
          "id": 16001,
          "rate": 0.091
         },
         {
          "Unemployment_rate_2007": 6.6,
          "id": 16003,
          "rate": 0.121
         },
         {
          "Unemployment_rate_2007": 5.4,
          "id": 16005,
          "rate": 0.084
         },
         {
          "Unemployment_rate_2007": 5.3,
          "id": 16007,
          "rate": 0.052000000000000005
         },
         {
          "Unemployment_rate_2007": null,
          "id": 16009,
          "rate": 0.121
         },
         {
          "Unemployment_rate_2007": 3.6,
          "id": 16011,
          "rate": 0.059000000000000004
         },
         {
          "Unemployment_rate_2007": 2.6,
          "id": 16013,
          "rate": 0.077
         },
         {
          "Unemployment_rate_2007": 2.7,
          "id": 16015,
          "rate": 0.071
         },
         {
          "Unemployment_rate_2007": 2.9,
          "id": 16017,
          "rate": 0.095
         },
         {
          "Unemployment_rate_2007": null,
          "id": 16019,
          "rate": 0.059000000000000004
         },
         {
          "Unemployment_rate_2007": 2.7,
          "id": 16021,
          "rate": 0.12
         },
         {
          "Unemployment_rate_2007": 5.8,
          "id": 16023,
          "rate": 0.045
         },
         {
          "Unemployment_rate_2007": 3,
          "id": 16025,
          "rate": 0.11
         },
         {
          "Unemployment_rate_2007": 2.3,
          "id": 16027,
          "rate": 0.106
         },
         {
          "Unemployment_rate_2007": 6.2,
          "id": 16029,
          "rate": 0.06
         },
         {
          "Unemployment_rate_2007": 2.7,
          "id": 16031,
          "rate": 0.059000000000000004
         },
         {
          "Unemployment_rate_2007": 2.3,
          "id": 16033,
          "rate": 0.040999999999999995
         },
         {
          "Unemployment_rate_2007": 3.4,
          "id": 16035,
          "rate": 0.11800000000000001
         },
         {
          "Unemployment_rate_2007": 3.9,
          "id": 16037,
          "rate": 0.039
         },
         {
          "Unemployment_rate_2007": 2.2,
          "id": 16039,
          "rate": 0.077
         },
         {
          "Unemployment_rate_2007": 6.2,
          "id": 16041,
          "rate": 0.04
         },
         {
          "Unemployment_rate_2007": 2.5,
          "id": 16043,
          "rate": 0.066
         },
         {
          "Unemployment_rate_2007": 2.6,
          "id": 16045,
          "rate": 0.10400000000000001
         },
         {
          "Unemployment_rate_2007": 3.7,
          "id": 16047,
          "rate": 0.055
         },
         {
          "Unemployment_rate_2007": 2.9,
          "id": 16049,
          "rate": 0.083
         },
         {
          "Unemployment_rate_2007": 3.2,
          "id": 16051,
          "rate": 0.068
         },
         {
          "Unemployment_rate_2007": 2.3,
          "id": 16053,
          "rate": 0.059000000000000004
         },
         {
          "Unemployment_rate_2007": 7.5,
          "id": 16055,
          "rate": 0.087
         },
         {
          "Unemployment_rate_2007": 3.4,
          "id": 16057,
          "rate": 0.059000000000000004
         },
         {
          "Unemployment_rate_2007": 3.9,
          "id": 16059,
          "rate": 0.065
         },
         {
          "Unemployment_rate_2007": 2.2,
          "id": 16061,
          "rate": 0.052000000000000005
         },
         {
          "Unemployment_rate_2007": 3.3,
          "id": 16063,
          "rate": 0.09699999999999999
         },
         {
          "Unemployment_rate_2007": 3.8,
          "id": 16065,
          "rate": 0.055
         },
         {
          "Unemployment_rate_2007": 2.2,
          "id": 16067,
          "rate": 0.06
         },
         {
          "Unemployment_rate_2007": 5.1,
          "id": 16069,
          "rate": 0.055
         },
         {
          "Unemployment_rate_2007": 2.5,
          "id": 16071,
          "rate": 0.05
         },
         {
          "Unemployment_rate_2007": 2.9,
          "id": 16073,
          "rate": 0.040999999999999995
         },
         {
          "Unemployment_rate_2007": 3.4,
          "id": 16075,
          "rate": 0.077
         },
         {
          "Unemployment_rate_2007": 2.8,
          "id": 16077,
          "rate": 0.067
         },
         {
          "Unemployment_rate_2007": 4.6,
          "id": 16079,
          "rate": 0.11900000000000001
         },
         {
          "Unemployment_rate_2007": 2.6,
          "id": 16081,
          "rate": 0.051
         },
         {
          "Unemployment_rate_2007": 3.5,
          "id": 16083,
          "rate": 0.068
         },
         {
          "Unemployment_rate_2007": 2.2,
          "id": 16085,
          "rate": 0.114
         },
         {
          "Unemployment_rate_2007": 3.9,
          "id": 16087,
          "rate": 0.084
         },
         {
          "Unemployment_rate_2007": 3,
          "id": 17001,
          "rate": 0.079
         },
         {
          "Unemployment_rate_2007": 1.8,
          "id": 17003,
          "rate": 0.11199999999999999
         },
         {
          "Unemployment_rate_2007": 1.9,
          "id": 17005,
          "rate": 0.09300000000000001
         },
         {
          "Unemployment_rate_2007": 4.2,
          "id": 17007,
          "rate": 0.138
         },
         {
          "Unemployment_rate_2007": 4,
          "id": 17009,
          "rate": 0.045
         },
         {
          "Unemployment_rate_2007": 5.3,
          "id": 17011,
          "rate": 0.109
         },
         {
          "Unemployment_rate_2007": 1.7,
          "id": 17013,
          "rate": 0.095
         },
         {
          "Unemployment_rate_2007": 2.8,
          "id": 17015,
          "rate": 0.105
         },
         {
          "Unemployment_rate_2007": 4.2,
          "id": 17017,
          "rate": 0.073
         },
         {
          "Unemployment_rate_2007": 4.2,
          "id": 17019,
          "rate": 0.08199999999999999
         },
         {
          "Unemployment_rate_2007": null,
          "id": 17021,
          "rate": 0.099
         },
         {
          "Unemployment_rate_2007": 3.9,
          "id": 17023,
          "rate": 0.131
         },
         {
          "Unemployment_rate_2007": 8.2,
          "id": 17025,
          "rate": 0.114
         },
         {
          "Unemployment_rate_2007": 5.1,
          "id": 17027,
          "rate": 0.079
         },
         {
          "Unemployment_rate_2007": 6.5,
          "id": 17029,
          "rate": 0.091
         },
         {
          "Unemployment_rate_2007": 2.7,
          "id": 17031,
          "rate": 0.106
         },
         {
          "Unemployment_rate_2007": 4.8,
          "id": 17033,
          "rate": 0.105
         },
         {
          "Unemployment_rate_2007": 6.6,
          "id": 17035,
          "rate": 0.09699999999999999
         },
         {
          "Unemployment_rate_2007": 5,
          "id": 17037,
          "rate": 0.092
         },
         {
          "Unemployment_rate_2007": 4.3,
          "id": 17039,
          "rate": 0.092
         },
         {
          "Unemployment_rate_2007": 4.2,
          "id": 17041,
          "rate": 0.091
         },
         {
          "Unemployment_rate_2007": 5,
          "id": 17043,
          "rate": 0.086
         },
         {
          "Unemployment_rate_2007": 5.5,
          "id": 17045,
          "rate": 0.107
         },
         {
          "Unemployment_rate_2007": 5.5,
          "id": 17047,
          "rate": 0.091
         },
         {
          "Unemployment_rate_2007": 4.7,
          "id": 17049,
          "rate": 0.079
         },
         {
          "Unemployment_rate_2007": 4.3,
          "id": 17051,
          "rate": 0.11599999999999999
         },
         {
          "Unemployment_rate_2007": 5.3,
          "id": 17053,
          "rate": 0.10400000000000001
         },
         {
          "Unemployment_rate_2007": 5.4,
          "id": 17055,
          "rate": 0.146
         },
         {
          "Unemployment_rate_2007": 5,
          "id": 17057,
          "rate": 0.125
         },
         {
          "Unemployment_rate_2007": 4.3,
          "id": 17059,
          "rate": 0.11
         },
         {
          "Unemployment_rate_2007": 4.8,
          "id": 17061,
          "rate": 0.092
         },
         {
          "Unemployment_rate_2007": 4.2,
          "id": 17063,
          "rate": 0.114
         },
         {
          "Unemployment_rate_2007": 3.9,
          "id": 17065,
          "rate": 0.09300000000000001
         },
         {
          "Unemployment_rate_2007": 5.1,
          "id": 17067,
          "rate": 0.113
         },
         {
          "Unemployment_rate_2007": 4.9,
          "id": 17069,
          "rate": 0.128
         },
         {
          "Unemployment_rate_2007": 4,
          "id": 17071,
          "rate": 0.094
         },
         {
          "Unemployment_rate_2007": 6.2,
          "id": 17073,
          "rate": 0.086
         },
         {
          "Unemployment_rate_2007": 4.9,
          "id": 17075,
          "rate": 0.1
         },
         {
          "Unemployment_rate_2007": 7.8,
          "id": 17077,
          "rate": 0.073
         },
         {
          "Unemployment_rate_2007": 5.3,
          "id": 17079,
          "rate": 0.095
         },
         {
          "Unemployment_rate_2007": 6.2,
          "id": 17081,
          "rate": 0.1
         },
         {
          "Unemployment_rate_2007": 5,
          "id": 17083,
          "rate": 0.08800000000000001
         },
         {
          "Unemployment_rate_2007": 5.7,
          "id": 17085,
          "rate": 0.081
         },
         {
          "Unemployment_rate_2007": 5.6,
          "id": 17087,
          "rate": 0.10400000000000001
         },
         {
          "Unemployment_rate_2007": 5.4,
          "id": 17089,
          "rate": 0.099
         },
         {
          "Unemployment_rate_2007": 8.1,
          "id": 17091,
          "rate": 0.128
         },
         {
          "Unemployment_rate_2007": 5.3,
          "id": 17093,
          "rate": 0.10400000000000001
         },
         {
          "Unemployment_rate_2007": 4.8,
          "id": 17095,
          "rate": 0.10300000000000001
         },
         {
          "Unemployment_rate_2007": 5,
          "id": 17097,
          "rate": 0.1
         },
         {
          "Unemployment_rate_2007": 4.6,
          "id": 17099,
          "rate": 0.124
         },
         {
          "Unemployment_rate_2007": 5.1,
          "id": 17101,
          "rate": 0.10300000000000001
         },
         {
          "Unemployment_rate_2007": 4.9,
          "id": 17103,
          "rate": 0.109
         },
         {
          "Unemployment_rate_2007": 5.4,
          "id": 17105,
          "rate": 0.107
         },
         {
          "Unemployment_rate_2007": 4,
          "id": 17107,
          "rate": 0.095
         },
         {
          "Unemployment_rate_2007": 6.3,
          "id": 17109,
          "rate": 0.077
         },
         {
          "Unemployment_rate_2007": 4.5,
          "id": 17111,
          "rate": 0.09300000000000001
         },
         {
          "Unemployment_rate_2007": 6.3,
          "id": 17113,
          "rate": 0.07400000000000001
         },
         {
          "Unemployment_rate_2007": 4.3,
          "id": 17115,
          "rate": 0.124
         },
         {
          "Unemployment_rate_2007": 5,
          "id": 17117,
          "rate": 0.105
         },
         {
          "Unemployment_rate_2007": 4.8,
          "id": 17119,
          "rate": 0.09699999999999999
         },
         {
          "Unemployment_rate_2007": 5.9,
          "id": 17121,
          "rate": 0.11900000000000001
         },
         {
          "Unemployment_rate_2007": 4.8,
          "id": 17123,
          "rate": 0.106
         },
         {
          "Unemployment_rate_2007": 5,
          "id": 17125,
          "rate": 0.14300000000000002
         },
         {
          "Unemployment_rate_2007": 4.4,
          "id": 17127,
          "rate": 0.08
         },
         {
          "Unemployment_rate_2007": 4.8,
          "id": 17129,
          "rate": 0.078
         },
         {
          "Unemployment_rate_2007": 4.2,
          "id": 17131,
          "rate": 0.08900000000000001
         },
         {
          "Unemployment_rate_2007": 4.3,
          "id": 17133,
          "rate": 0.078
         },
         {
          "Unemployment_rate_2007": 3.7,
          "id": 17135,
          "rate": 0.122
         },
         {
          "Unemployment_rate_2007": 5.6,
          "id": 17137,
          "rate": 0.084
         },
         {
          "Unemployment_rate_2007": 5.9,
          "id": 17139,
          "rate": 0.09
         },
         {
          "Unemployment_rate_2007": 5.3,
          "id": 17141,
          "rate": 0.11900000000000001
         },
         {
          "Unemployment_rate_2007": 6.3,
          "id": 17143,
          "rate": 0.11599999999999999
         },
         {
          "Unemployment_rate_2007": 4.3,
          "id": 17145,
          "rate": 0.11900000000000001
         },
         {
          "Unemployment_rate_2007": 6.5,
          "id": 17147,
          "rate": 0.08199999999999999
         },
         {
          "Unemployment_rate_2007": 5.6,
          "id": 17149,
          "rate": 0.081
         },
         {
          "Unemployment_rate_2007": 4.4,
          "id": 17151,
          "rate": 0.106
         },
         {
          "Unemployment_rate_2007": 5.4,
          "id": 17153,
          "rate": 0.11900000000000001
         },
         {
          "Unemployment_rate_2007": 4.2,
          "id": 17155,
          "rate": 0.15
         },
         {
          "Unemployment_rate_2007": 6.5,
          "id": 17157,
          "rate": 0.094
         },
         {
          "Unemployment_rate_2007": 4.9,
          "id": 17159,
          "rate": 0.105
         },
         {
          "Unemployment_rate_2007": 3.6,
          "id": 17161,
          "rate": 0.095
         },
         {
          "Unemployment_rate_2007": 5.5,
          "id": 17163,
          "rate": 0.10800000000000001
         },
         {
          "Unemployment_rate_2007": 4.6,
          "id": 17165,
          "rate": 0.11199999999999999
         },
         {
          "Unemployment_rate_2007": 8.2,
          "id": 17167,
          "rate": 0.079
         },
         {
          "Unemployment_rate_2007": 3.8,
          "id": 17169,
          "rate": 0.066
         },
         {
          "Unemployment_rate_2007": 4.5,
          "id": 17171,
          "rate": 0.075
         },
         {
          "Unemployment_rate_2007": 6.9,
          "id": 17173,
          "rate": 0.1
         },
         {
          "Unemployment_rate_2007": 7.1,
          "id": 17175,
          "rate": 0.098
         },
         {
          "Unemployment_rate_2007": 5.7,
          "id": 17177,
          "rate": 0.11599999999999999
         },
         {
          "Unemployment_rate_2007": 5.2,
          "id": 17179,
          "rate": 0.113
         },
         {
          "Unemployment_rate_2007": 4.7,
          "id": 17181,
          "rate": 0.10800000000000001
         },
         {
          "Unemployment_rate_2007": 4.5,
          "id": 17183,
          "rate": 0.12
         },
         {
          "Unemployment_rate_2007": 6.1,
          "id": 17185,
          "rate": 0.10300000000000001
         },
         {
          "Unemployment_rate_2007": 6.4,
          "id": 17187,
          "rate": 0.08
         },
         {
          "Unemployment_rate_2007": 4.4,
          "id": 17189,
          "rate": 0.08
         },
         {
          "Unemployment_rate_2007": 4,
          "id": 17191,
          "rate": 0.09699999999999999
         },
         {
          "Unemployment_rate_2007": 5.1,
          "id": 17193,
          "rate": 0.086
         },
         {
          "Unemployment_rate_2007": 4.8,
          "id": 17195,
          "rate": 0.106
         },
         {
          "Unemployment_rate_2007": 5.1,
          "id": 17197,
          "rate": 0.099
         },
         {
          "Unemployment_rate_2007": 5.1,
          "id": 17199,
          "rate": 0.096
         },
         {
          "Unemployment_rate_2007": 4.2,
          "id": 17201,
          "rate": 0.155
         },
         {
          "Unemployment_rate_2007": 6.8,
          "id": 17203,
          "rate": 0.086
         },
         {
          "Unemployment_rate_2007": 6.1,
          "id": 18001,
          "rate": 0.134
         },
         {
          "Unemployment_rate_2007": 5.4,
          "id": 18003,
          "rate": 0.09300000000000001
         },
         {
          "Unemployment_rate_2007": 4.4,
          "id": 18005,
          "rate": 0.08800000000000001
         },
         {
          "Unemployment_rate_2007": 4.5,
          "id": 18007,
          "rate": 0.09
         },
         {
          "Unemployment_rate_2007": 4.7,
          "id": 18009,
          "rate": 0.133
         },
         {
          "Unemployment_rate_2007": 5.1,
          "id": 18011,
          "rate": 0.068
         },
         {
          "Unemployment_rate_2007": 5.3,
          "id": 18013,
          "rate": 0.078
         },
         {
          "Unemployment_rate_2007": 4.8,
          "id": 18015,
          "rate": 0.099
         },
         {
          "Unemployment_rate_2007": 6.4,
          "id": 18017,
          "rate": 0.105
         },
         {
          "Unemployment_rate_2007": 5.9,
          "id": 18019,
          "rate": 0.08199999999999999
         },
         {
          "Unemployment_rate_2007": 3.4,
          "id": 18021,
          "rate": 0.096
         },
         {
          "Unemployment_rate_2007": null,
          "id": 18023,
          "rate": 0.092
         },
         {
          "Unemployment_rate_2007": 4.3,
          "id": 18025,
          "rate": 0.105
         },
         {
          "Unemployment_rate_2007": 4.8,
          "id": 18027,
          "rate": 0.049
         },
         {
          "Unemployment_rate_2007": 3.6,
          "id": 18029,
          "rate": 0.08900000000000001
         },
         {
          "Unemployment_rate_2007": 4.4,
          "id": 18031,
          "rate": 0.11
         },
         {
          "Unemployment_rate_2007": 5.8,
          "id": 18033,
          "rate": 0.124
         },
         {
          "Unemployment_rate_2007": 3.5,
          "id": 18035,
          "rate": 0.095
         },
         {
          "Unemployment_rate_2007": 4.4,
          "id": 18037,
          "rate": 0.08
         },
         {
          "Unemployment_rate_2007": 4.1,
          "id": 18039,
          "rate": 0.15
         },
         {
          "Unemployment_rate_2007": 4.9,
          "id": 18041,
          "rate": 0.134
         },
         {
          "Unemployment_rate_2007": 4.3,
          "id": 18043,
          "rate": 0.07400000000000001
         },
         {
          "Unemployment_rate_2007": 5.8,
          "id": 18045,
          "rate": 0.11599999999999999
         },
         {
          "Unemployment_rate_2007": 4.5,
          "id": 18047,
          "rate": 0.08900000000000001
         },
         {
          "Unemployment_rate_2007": 6.1,
          "id": 18049,
          "rate": 0.11199999999999999
         },
         {
          "Unemployment_rate_2007": 3.1,
          "id": 18051,
          "rate": 0.067
         },
         {
          "Unemployment_rate_2007": 5,
          "id": 18053,
          "rate": 0.111
         },
         {
          "Unemployment_rate_2007": 4.5,
          "id": 18055,
          "rate": 0.071
         },
         {
          "Unemployment_rate_2007": 5.5,
          "id": 18057,
          "rate": 0.061
         },
         {
          "Unemployment_rate_2007": 5.3,
          "id": 18059,
          "rate": 0.078
         },
         {
          "Unemployment_rate_2007": 3.1,
          "id": 18061,
          "rate": 0.078
         },
         {
          "Unemployment_rate_2007": 4.6,
          "id": 18063,
          "rate": 0.068
         },
         {
          "Unemployment_rate_2007": 7.2,
          "id": 18065,
          "rate": 0.12
         },
         {
          "Unemployment_rate_2007": 4.1,
          "id": 18067,
          "rate": 0.11900000000000001
         },
         {
          "Unemployment_rate_2007": 4.2,
          "id": 18069,
          "rate": 0.111
         },
         {
          "Unemployment_rate_2007": 5.5,
          "id": 18071,
          "rate": 0.10099999999999999
         },
         {
          "Unemployment_rate_2007": 4.8,
          "id": 18073,
          "rate": 0.087
         },
         {
          "Unemployment_rate_2007": 4.6,
          "id": 18075,
          "rate": 0.10400000000000001
         },
         {
          "Unemployment_rate_2007": 6.2,
          "id": 18077,
          "rate": 0.095
         },
         {
          "Unemployment_rate_2007": 5.1,
          "id": 18079,
          "rate": 0.122
         },
         {
          "Unemployment_rate_2007": 2.9,
          "id": 18081,
          "rate": 0.07400000000000001
         },
         {
          "Unemployment_rate_2007": 3.8,
          "id": 18083,
          "rate": 0.066
         },
         {
          "Unemployment_rate_2007": 4.5,
          "id": 18085,
          "rate": 0.11
         },
         {
          "Unemployment_rate_2007": 3.3,
          "id": 18087,
          "rate": 0.14
         },
         {
          "Unemployment_rate_2007": 5.8,
          "id": 18089,
          "rate": 0.094
         },
         {
          "Unemployment_rate_2007": 5.5,
          "id": 18091,
          "rate": 0.107
         },
         {
          "Unemployment_rate_2007": 4.7,
          "id": 18093,
          "rate": 0.111
         },
         {
          "Unemployment_rate_2007": 3.9,
          "id": 18095,
          "rate": 0.09699999999999999
         },
         {
          "Unemployment_rate_2007": 4.7,
          "id": 18097,
          "rate": 0.084
         },
         {
          "Unemployment_rate_2007": 4.3,
          "id": 18099,
          "rate": 0.114
         },
         {
          "Unemployment_rate_2007": 4.9,
          "id": 18101,
          "rate": 0.063
         },
         {
          "Unemployment_rate_2007": 5.1,
          "id": 18103,
          "rate": 0.12300000000000001
         },
         {
          "Unemployment_rate_2007": 3.5,
          "id": 18105,
          "rate": 0.055999999999999994
         },
         {
          "Unemployment_rate_2007": 4,
          "id": 18107,
          "rate": 0.09699999999999999
         },
         {
          "Unemployment_rate_2007": 4.4,
          "id": 18109,
          "rate": 0.075
         },
         {
          "Unemployment_rate_2007": 4.9,
          "id": 18111,
          "rate": 0.08900000000000001
         },
         {
          "Unemployment_rate_2007": 5.2,
          "id": 18113,
          "rate": 0.145
         },
         {
          "Unemployment_rate_2007": 5.1,
          "id": 18115,
          "rate": 0.105
         },
         {
          "Unemployment_rate_2007": 6.5,
          "id": 18117,
          "rate": 0.092
         },
         {
          "Unemployment_rate_2007": 6.3,
          "id": 18119,
          "rate": 0.081
         },
         {
          "Unemployment_rate_2007": 4.5,
          "id": 18121,
          "rate": 0.083
         },
         {
          "Unemployment_rate_2007": 4.8,
          "id": 18123,
          "rate": 0.08800000000000001
         },
         {
          "Unemployment_rate_2007": 3.9,
          "id": 18125,
          "rate": 0.087
         },
         {
          "Unemployment_rate_2007": 5.7,
          "id": 18127,
          "rate": 0.08199999999999999
         },
         {
          "Unemployment_rate_2007": 3.7,
          "id": 18129,
          "rate": 0.07
         },
         {
          "Unemployment_rate_2007": 3.9,
          "id": 18131,
          "rate": 0.095
         },
         {
          "Unemployment_rate_2007": 4.2,
          "id": 18133,
          "rate": 0.08199999999999999
         },
         {
          "Unemployment_rate_2007": 5.3,
          "id": 18135,
          "rate": 0.102
         },
         {
          "Unemployment_rate_2007": 5.4,
          "id": 18137,
          "rate": 0.091
         },
         {
          "Unemployment_rate_2007": 4.9,
          "id": 18139,
          "rate": 0.095
         },
         {
          "Unemployment_rate_2007": 5.1,
          "id": 18141,
          "rate": 0.10400000000000001
         },
         {
          "Unemployment_rate_2007": 4.9,
          "id": 18143,
          "rate": 0.121
         },
         {
          "Unemployment_rate_2007": 5,
          "id": 18145,
          "rate": 0.08800000000000001
         },
         {
          "Unemployment_rate_2007": 4.4,
          "id": 18147,
          "rate": 0.081
         },
         {
          "Unemployment_rate_2007": 4.3,
          "id": 18149,
          "rate": 0.126
         },
         {
          "Unemployment_rate_2007": 3.8,
          "id": 18151,
          "rate": 0.129
         },
         {
          "Unemployment_rate_2007": 4.3,
          "id": 18153,
          "rate": 0.09300000000000001
         },
         {
          "Unemployment_rate_2007": 4.1,
          "id": 18155,
          "rate": 0.07
         },
         {
          "Unemployment_rate_2007": 5.3,
          "id": 18157,
          "rate": 0.085
         },
         {
          "Unemployment_rate_2007": 5.6,
          "id": 18159,
          "rate": 0.10300000000000001
         },
         {
          "Unemployment_rate_2007": 4.5,
          "id": 18161,
          "rate": 0.086
         },
         {
          "Unemployment_rate_2007": 4.5,
          "id": 18163,
          "rate": 0.07400000000000001
         },
         {
          "Unemployment_rate_2007": 4.9,
          "id": 18165,
          "rate": 0.10800000000000001
         },
         {
          "Unemployment_rate_2007": 5.2,
          "id": 18167,
          "rate": 0.092
         },
         {
          "Unemployment_rate_2007": 4.3,
          "id": 18169,
          "rate": 0.12
         },
         {
          "Unemployment_rate_2007": 4.2,
          "id": 18171,
          "rate": 0.10099999999999999
         },
         {
          "Unemployment_rate_2007": 5.9,
          "id": 18173,
          "rate": 0.069
         },
         {
          "Unemployment_rate_2007": 6,
          "id": 18175,
          "rate": 0.11199999999999999
         },
         {
          "Unemployment_rate_2007": 5.5,
          "id": 18177,
          "rate": 0.109
         },
         {
          "Unemployment_rate_2007": 3.9,
          "id": 18179,
          "rate": 0.091
         },
         {
          "Unemployment_rate_2007": 3.9,
          "id": 18181,
          "rate": 0.094
         },
         {
          "Unemployment_rate_2007": 4.7,
          "id": 18183,
          "rate": 0.11599999999999999
         },
         {
          "Unemployment_rate_2007": 4.7,
          "id": 19001,
          "rate": 0.051
         },
         {
          "Unemployment_rate_2007": 4.7,
          "id": 19003,
          "rate": 0.06
         },
         {
          "Unemployment_rate_2007": 5.6,
          "id": 19005,
          "rate": 0.09300000000000001
         },
         {
          "Unemployment_rate_2007": 5.3,
          "id": 19007,
          "rate": 0.094
         },
         {
          "Unemployment_rate_2007": 4.8,
          "id": 19009,
          "rate": 0.051
         },
         {
          "Unemployment_rate_2007": 3.2,
          "id": 19011,
          "rate": 0.057999999999999996
         },
         {
          "Unemployment_rate_2007": 3.9,
          "id": 19013,
          "rate": 0.057999999999999996
         },
         {
          "Unemployment_rate_2007": 5.2,
          "id": 19015,
          "rate": 0.059000000000000004
         },
         {
          "Unemployment_rate_2007": 5.4,
          "id": 19017,
          "rate": 0.05
         },
         {
          "Unemployment_rate_2007": 4.2,
          "id": 19019,
          "rate": 0.059000000000000004
         },
         {
          "Unemployment_rate_2007": 4.4,
          "id": 19021,
          "rate": 0.055
         },
         {
          "Unemployment_rate_2007": 4.5,
          "id": 19023,
          "rate": 0.06
         },
         {
          "Unemployment_rate_2007": null,
          "id": 19025,
          "rate": 0.054000000000000006
         },
         {
          "Unemployment_rate_2007": 3.5,
          "id": 19027,
          "rate": 0.042
         },
         {
          "Unemployment_rate_2007": 4.1,
          "id": 19029,
          "rate": 0.057999999999999996
         },
         {
          "Unemployment_rate_2007": 4.8,
          "id": 19031,
          "rate": 0.057
         },
         {
          "Unemployment_rate_2007": 6.8,
          "id": 19033,
          "rate": 0.067
         },
         {
          "Unemployment_rate_2007": 3.9,
          "id": 19035,
          "rate": 0.044000000000000004
         },
         {
          "Unemployment_rate_2007": 3.9,
          "id": 19037,
          "rate": 0.084
         },
         {
          "Unemployment_rate_2007": 3.7,
          "id": 19039,
          "rate": 0.07400000000000001
         },
         {
          "Unemployment_rate_2007": 3.3,
          "id": 19041,
          "rate": 0.062
         },
         {
          "Unemployment_rate_2007": 3.1,
          "id": 19043,
          "rate": 0.079
         },
         {
          "Unemployment_rate_2007": 4.2,
          "id": 19045,
          "rate": 0.077
         },
         {
          "Unemployment_rate_2007": 3.2,
          "id": 19047,
          "rate": 0.047
         },
         {
          "Unemployment_rate_2007": 4,
          "id": 19049,
          "rate": 0.051
         },
         {
          "Unemployment_rate_2007": 3.3,
          "id": 19051,
          "rate": 0.10099999999999999
         },
         {
          "Unemployment_rate_2007": 2.6,
          "id": 19053,
          "rate": 0.066
         },
         {
          "Unemployment_rate_2007": 4.1,
          "id": 19055,
          "rate": 0.068
         },
         {
          "Unemployment_rate_2007": 3.2,
          "id": 19057,
          "rate": 0.08199999999999999
         },
         {
          "Unemployment_rate_2007": 3.9,
          "id": 19059,
          "rate": 0.057999999999999996
         },
         {
          "Unemployment_rate_2007": 3.6,
          "id": 19061,
          "rate": 0.06
         },
         {
          "Unemployment_rate_2007": 4.2,
          "id": 19063,
          "rate": 0.086
         },
         {
          "Unemployment_rate_2007": 4.1,
          "id": 19065,
          "rate": 0.085
         },
         {
          "Unemployment_rate_2007": 3.1,
          "id": 19067,
          "rate": 0.087
         },
         {
          "Unemployment_rate_2007": 4.8,
          "id": 19069,
          "rate": 0.07
         },
         {
          "Unemployment_rate_2007": 3.7,
          "id": 19071,
          "rate": 0.07
         },
         {
          "Unemployment_rate_2007": 3.3,
          "id": 19073,
          "rate": 0.063
         },
         {
          "Unemployment_rate_2007": 2.9,
          "id": 19075,
          "rate": 0.049
         },
         {
          "Unemployment_rate_2007": 4.5,
          "id": 19077,
          "rate": 0.055999999999999994
         },
         {
          "Unemployment_rate_2007": 4.1,
          "id": 19079,
          "rate": 0.081
         },
         {
          "Unemployment_rate_2007": 3.5,
          "id": 19081,
          "rate": 0.09
         },
         {
          "Unemployment_rate_2007": 4.4,
          "id": 19083,
          "rate": 0.06
         },
         {
          "Unemployment_rate_2007": 3.9,
          "id": 19085,
          "rate": 0.044000000000000004
         },
         {
          "Unemployment_rate_2007": 4,
          "id": 19087,
          "rate": 0.08800000000000001
         },
         {
          "Unemployment_rate_2007": 3.7,
          "id": 19089,
          "rate": 0.086
         },
         {
          "Unemployment_rate_2007": 4.4,
          "id": 19091,
          "rate": 0.062
         },
         {
          "Unemployment_rate_2007": 4.5,
          "id": 19093,
          "rate": 0.057999999999999996
         },
         {
          "Unemployment_rate_2007": 3.5,
          "id": 19095,
          "rate": 0.057999999999999996
         },
         {
          "Unemployment_rate_2007": 4,
          "id": 19097,
          "rate": 0.077
         },
         {
          "Unemployment_rate_2007": 3.5,
          "id": 19099,
          "rate": 0.081
         },
         {
          "Unemployment_rate_2007": 3.2,
          "id": 19101,
          "rate": 0.087
         },
         {
          "Unemployment_rate_2007": 3.8,
          "id": 19103,
          "rate": 0.044000000000000004
         },
         {
          "Unemployment_rate_2007": 3.2,
          "id": 19105,
          "rate": 0.063
         },
         {
          "Unemployment_rate_2007": 3.8,
          "id": 19107,
          "rate": 0.071
         },
         {
          "Unemployment_rate_2007": 3.8,
          "id": 19109,
          "rate": 0.055999999999999994
         },
         {
          "Unemployment_rate_2007": 4.2,
          "id": 19111,
          "rate": 0.114
         },
         {
          "Unemployment_rate_2007": 4.7,
          "id": 19113,
          "rate": 0.065
         },
         {
          "Unemployment_rate_2007": 3.6,
          "id": 19115,
          "rate": 0.08
         },
         {
          "Unemployment_rate_2007": 3.1,
          "id": 19117,
          "rate": 0.06
         },
         {
          "Unemployment_rate_2007": 3.3,
          "id": 19119,
          "rate": 0.043
         },
         {
          "Unemployment_rate_2007": 3.7,
          "id": 19121,
          "rate": 0.057999999999999996
         },
         {
          "Unemployment_rate_2007": 4.7,
          "id": 19123,
          "rate": 0.077
         },
         {
          "Unemployment_rate_2007": 6.3,
          "id": 19125,
          "rate": 0.057
         },
         {
          "Unemployment_rate_2007": 4.1,
          "id": 19127,
          "rate": 0.07
         },
         {
          "Unemployment_rate_2007": 2.7,
          "id": 19129,
          "rate": 0.043
         },
         {
          "Unemployment_rate_2007": 4.1,
          "id": 19131,
          "rate": 0.054000000000000006
         },
         {
          "Unemployment_rate_2007": 4.2,
          "id": 19133,
          "rate": 0.071
         },
         {
          "Unemployment_rate_2007": 3.6,
          "id": 19135,
          "rate": 0.075
         },
         {
          "Unemployment_rate_2007": 5.7,
          "id": 19137,
          "rate": 0.087
         },
         {
          "Unemployment_rate_2007": 3.7,
          "id": 19139,
          "rate": 0.08900000000000001
         },
         {
          "Unemployment_rate_2007": 3.7,
          "id": 19141,
          "rate": 0.053
         },
         {
          "Unemployment_rate_2007": 3.9,
          "id": 19143,
          "rate": 0.054000000000000006
         },
         {
          "Unemployment_rate_2007": 2.4,
          "id": 19145,
          "rate": 0.087
         },
         {
          "Unemployment_rate_2007": 4.1,
          "id": 19147,
          "rate": 0.07
         },
         {
          "Unemployment_rate_2007": 3.6,
          "id": 19149,
          "rate": 0.047
         },
         {
          "Unemployment_rate_2007": 3.6,
          "id": 19151,
          "rate": 0.052000000000000005
         },
         {
          "Unemployment_rate_2007": 4,
          "id": 19153,
          "rate": 0.062
         },
         {
          "Unemployment_rate_2007": 3.7,
          "id": 19155,
          "rate": 0.048
         },
         {
          "Unemployment_rate_2007": 3.3,
          "id": 19157,
          "rate": 0.066
         },
         {
          "Unemployment_rate_2007": 5.5,
          "id": 19159,
          "rate": 0.053
         },
         {
          "Unemployment_rate_2007": 4.1,
          "id": 19161,
          "rate": 0.047
         },
         {
          "Unemployment_rate_2007": 6.2,
          "id": 19163,
          "rate": 0.073
         },
         {
          "Unemployment_rate_2007": 3.4,
          "id": 19165,
          "rate": 0.039
         },
         {
          "Unemployment_rate_2007": 3,
          "id": 19167,
          "rate": 0.040999999999999995
         },
         {
          "Unemployment_rate_2007": 3.3,
          "id": 19169,
          "rate": 0.045
         },
         {
          "Unemployment_rate_2007": 4.6,
          "id": 19171,
          "rate": 0.066
         },
         {
          "Unemployment_rate_2007": 3.4,
          "id": 19173,
          "rate": 0.067
         },
         {
          "Unemployment_rate_2007": 3,
          "id": 19175,
          "rate": 0.06
         },
         {
          "Unemployment_rate_2007": 3.2,
          "id": 19177,
          "rate": 0.08
         },
         {
          "Unemployment_rate_2007": 3.5,
          "id": 19179,
          "rate": 0.094
         },
         {
          "Unemployment_rate_2007": 4.2,
          "id": 19181,
          "rate": 0.057999999999999996
         },
         {
          "Unemployment_rate_2007": 3.9,
          "id": 19183,
          "rate": 0.049
         },
         {
          "Unemployment_rate_2007": 4.2,
          "id": 19185,
          "rate": 0.064
         },
         {
          "Unemployment_rate_2007": 3.4,
          "id": 19187,
          "rate": 0.083
         },
         {
          "Unemployment_rate_2007": 3.7,
          "id": 19189,
          "rate": 0.091
         },
         {
          "Unemployment_rate_2007": 3.2,
          "id": 19191,
          "rate": 0.057999999999999996
         },
         {
          "Unemployment_rate_2007": 2.5,
          "id": 19193,
          "rate": 0.057
         },
         {
          "Unemployment_rate_2007": 2.8,
          "id": 19195,
          "rate": 0.063
         },
         {
          "Unemployment_rate_2007": 4.3,
          "id": 19197,
          "rate": 0.084
         },
         {
          "Unemployment_rate_2007": 4.1,
          "id": 20001,
          "rate": 0.078
         },
         {
          "Unemployment_rate_2007": 4.1,
          "id": 20003,
          "rate": 0.079
         },
         {
          "Unemployment_rate_2007": 4.3,
          "id": 20005,
          "rate": 0.081
         },
         {
          "Unemployment_rate_2007": 4.3,
          "id": 20007,
          "rate": 0.051
         },
         {
          "Unemployment_rate_2007": 3.3,
          "id": 20009,
          "rate": 0.061
         },
         {
          "Unemployment_rate_2007": 3.4,
          "id": 20011,
          "rate": 0.065
         },
         {
          "Unemployment_rate_2007": 4.5,
          "id": 20013,
          "rate": 0.055999999999999994
         },
         {
          "Unemployment_rate_2007": 4,
          "id": 20015,
          "rate": 0.07200000000000001
         },
         {
          "Unemployment_rate_2007": 3.5,
          "id": 20017,
          "rate": 0.054000000000000006
         },
         {
          "Unemployment_rate_2007": 3.6,
          "id": 20019,
          "rate": 0.084
         },
         {
          "Unemployment_rate_2007": 3.9,
          "id": 20021,
          "rate": 0.085
         },
         {
          "Unemployment_rate_2007": 3.7,
          "id": 20023,
          "rate": 0.037000000000000005
         },
         {
          "Unemployment_rate_2007": 3.9,
          "id": 20025,
          "rate": 0.037000000000000005
         },
         {
          "Unemployment_rate_2007": null,
          "id": 20027,
          "rate": 0.042
         },
         {
          "Unemployment_rate_2007": 4,
          "id": 20029,
          "rate": 0.045
         },
         {
          "Unemployment_rate_2007": 4.7,
          "id": 20031,
          "rate": 0.057
         },
         {
          "Unemployment_rate_2007": 4.6,
          "id": 20033,
          "rate": 0.038
         },
         {
          "Unemployment_rate_2007": 3.2,
          "id": 20035,
          "rate": 0.076
         },
         {
          "Unemployment_rate_2007": 3.5,
          "id": 20037,
          "rate": 0.081
         },
         {
          "Unemployment_rate_2007": 4.4,
          "id": 20039,
          "rate": 0.033
         },
         {
          "Unemployment_rate_2007": 4.1,
          "id": 20041,
          "rate": 0.051
         },
         {
          "Unemployment_rate_2007": 4.1,
          "id": 20043,
          "rate": 0.08800000000000001
         },
         {
          "Unemployment_rate_2007": 4,
          "id": 20045,
          "rate": 0.054000000000000006
         },
         {
          "Unemployment_rate_2007": 4.7,
          "id": 20047,
          "rate": 0.044000000000000004
         },
         {
          "Unemployment_rate_2007": 4.9,
          "id": 20049,
          "rate": 0.11
         },
         {
          "Unemployment_rate_2007": 3.5,
          "id": 20051,
          "rate": 0.036000000000000004
         },
         {
          "Unemployment_rate_2007": 3.1,
          "id": 20053,
          "rate": 0.040999999999999995
         },
         {
          "Unemployment_rate_2007": 3.4,
          "id": 20055,
          "rate": 0.043
         },
         {
          "Unemployment_rate_2007": 3.6,
          "id": 20057,
          "rate": 0.038
         },
         {
          "Unemployment_rate_2007": 4.5,
          "id": 20059,
          "rate": 0.071
         },
         {
          "Unemployment_rate_2007": 3.1,
          "id": 20061,
          "rate": 0.069
         },
         {
          "Unemployment_rate_2007": 4,
          "id": 20063,
          "rate": 0.035
         },
         {
          "Unemployment_rate_2007": 4.9,
          "id": 20065,
          "rate": 0.043
         },
         {
          "Unemployment_rate_2007": 3.1,
          "id": 20067,
          "rate": 0.042
         },
         {
          "Unemployment_rate_2007": 3.9,
          "id": 20069,
          "rate": 0.034
         },
         {
          "Unemployment_rate_2007": 4.8,
          "id": 20071,
          "rate": 0.045
         },
         {
          "Unemployment_rate_2007": 3.9,
          "id": 20073,
          "rate": 0.07200000000000001
         },
         {
          "Unemployment_rate_2007": 3.4,
          "id": 20075,
          "rate": 0.042
         },
         {
          "Unemployment_rate_2007": 5.8,
          "id": 20077,
          "rate": 0.055999999999999994
         },
         {
          "Unemployment_rate_2007": 2.8,
          "id": 20079,
          "rate": 0.07400000000000001
         },
         {
          "Unemployment_rate_2007": 3.4,
          "id": 20081,
          "rate": 0.037000000000000005
         },
         {
          "Unemployment_rate_2007": 3.4,
          "id": 20083,
          "rate": 0.042
         },
         {
          "Unemployment_rate_2007": 3.2,
          "id": 20085,
          "rate": 0.06
         },
         {
          "Unemployment_rate_2007": 5.1,
          "id": 20087,
          "rate": 0.067
         },
         {
          "Unemployment_rate_2007": 4.4,
          "id": 20089,
          "rate": 0.049
         },
         {
          "Unemployment_rate_2007": 3,
          "id": 20091,
          "rate": 0.068
         },
         {
          "Unemployment_rate_2007": 3.1,
          "id": 20093,
          "rate": 0.045
         },
         {
          "Unemployment_rate_2007": 2.8,
          "id": 20095,
          "rate": 0.063
         },
         {
          "Unemployment_rate_2007": 2.7,
          "id": 20097,
          "rate": 0.049
         },
         {
          "Unemployment_rate_2007": 3.3,
          "id": 20099,
          "rate": 0.078
         },
         {
          "Unemployment_rate_2007": 4.6,
          "id": 20101,
          "rate": 0.034
         },
         {
          "Unemployment_rate_2007": 3.4,
          "id": 20103,
          "rate": 0.073
         },
         {
          "Unemployment_rate_2007": 3,
          "id": 20105,
          "rate": 0.063
         },
         {
          "Unemployment_rate_2007": 3.7,
          "id": 20107,
          "rate": 0.084
         },
         {
          "Unemployment_rate_2007": 2.9,
          "id": 20109,
          "rate": 0.04
         },
         {
          "Unemployment_rate_2007": 4,
          "id": 20111,
          "rate": 0.057
         },
         {
          "Unemployment_rate_2007": 5.5,
          "id": 20113,
          "rate": 0.051
         },
         {
          "Unemployment_rate_2007": 5,
          "id": 20115,
          "rate": 0.063
         },
         {
          "Unemployment_rate_2007": 2.9,
          "id": 20117,
          "rate": 0.049
         },
         {
          "Unemployment_rate_2007": 4.1,
          "id": 20119,
          "rate": 0.042
         },
         {
          "Unemployment_rate_2007": 3.2,
          "id": 20121,
          "rate": 0.068
         },
         {
          "Unemployment_rate_2007": 3.4,
          "id": 20123,
          "rate": 0.057999999999999996
         },
         {
          "Unemployment_rate_2007": 4.7,
          "id": 20125,
          "rate": 0.094
         },
         {
          "Unemployment_rate_2007": 4.9,
          "id": 20127,
          "rate": 0.068
         },
         {
          "Unemployment_rate_2007": 3.6,
          "id": 20129,
          "rate": 0.047
         },
         {
          "Unemployment_rate_2007": 5.4,
          "id": 20131,
          "rate": 0.043
         },
         {
          "Unemployment_rate_2007": 3.9,
          "id": 20133,
          "rate": 0.07
         },
         {
          "Unemployment_rate_2007": 6.4,
          "id": 20135,
          "rate": 0.04
         },
         {
          "Unemployment_rate_2007": 2.8,
          "id": 20137,
          "rate": 0.047
         },
         {
          "Unemployment_rate_2007": 4.1,
          "id": 20139,
          "rate": 0.07
         },
         {
          "Unemployment_rate_2007": 3.5,
          "id": 20141,
          "rate": 0.044000000000000004
         },
         {
          "Unemployment_rate_2007": 3.7,
          "id": 20143,
          "rate": 0.065
         },
         {
          "Unemployment_rate_2007": 3.2,
          "id": 20145,
          "rate": 0.037000000000000005
         },
         {
          "Unemployment_rate_2007": 2.9,
          "id": 20147,
          "rate": 0.06
         },
         {
          "Unemployment_rate_2007": 4.7,
          "id": 20149,
          "rate": 0.040999999999999995
         },
         {
          "Unemployment_rate_2007": 3.5,
          "id": 20151,
          "rate": 0.053
         },
         {
          "Unemployment_rate_2007": 4.9,
          "id": 20153,
          "rate": 0.035
         },
         {
          "Unemployment_rate_2007": 4.9,
          "id": 20155,
          "rate": 0.063
         },
         {
          "Unemployment_rate_2007": 2.7,
          "id": 20157,
          "rate": 0.040999999999999995
         },
         {
          "Unemployment_rate_2007": 3.1,
          "id": 20159,
          "rate": 0.051
         },
         {
          "Unemployment_rate_2007": 4.1,
          "id": 20161,
          "rate": 0.032
         },
         {
          "Unemployment_rate_2007": 2.9,
          "id": 20163,
          "rate": 0.073
         },
         {
          "Unemployment_rate_2007": 3.2,
          "id": 20165,
          "rate": 0.059000000000000004
         },
         {
          "Unemployment_rate_2007": 5.5,
          "id": 20167,
          "rate": 0.046
         },
         {
          "Unemployment_rate_2007": 3.8,
          "id": 20169,
          "rate": 0.057
         },
         {
          "Unemployment_rate_2007": 3.8,
          "id": 20171,
          "rate": 0.032
         },
         {
          "Unemployment_rate_2007": 3.1,
          "id": 20173,
          "rate": 0.08800000000000001
         },
         {
          "Unemployment_rate_2007": 3,
          "id": 20175,
          "rate": 0.051
         },
         {
          "Unemployment_rate_2007": 3.3,
          "id": 20177,
          "rate": 0.064
         },
         {
          "Unemployment_rate_2007": 3.1,
          "id": 20179,
          "rate": 0.032
         },
         {
          "Unemployment_rate_2007": 3.6,
          "id": 20181,
          "rate": 0.039
         },
         {
          "Unemployment_rate_2007": 4.2,
          "id": 20183,
          "rate": 0.043
         },
         {
          "Unemployment_rate_2007": 3.2,
          "id": 20185,
          "rate": 0.061
         },
         {
          "Unemployment_rate_2007": 3.9,
          "id": 20187,
          "rate": 0.034
         },
         {
          "Unemployment_rate_2007": 3.1,
          "id": 20189,
          "rate": 0.053
         },
         {
          "Unemployment_rate_2007": 3.7,
          "id": 20191,
          "rate": 0.09
         },
         {
          "Unemployment_rate_2007": 3.7,
          "id": 20193,
          "rate": 0.036000000000000004
         },
         {
          "Unemployment_rate_2007": 3.6,
          "id": 20195,
          "rate": 0.036000000000000004
         },
         {
          "Unemployment_rate_2007": 3.6,
          "id": 20197,
          "rate": 0.066
         },
         {
          "Unemployment_rate_2007": 2.8,
          "id": 20199,
          "rate": 0.059000000000000004
         },
         {
          "Unemployment_rate_2007": 4.2,
          "id": 20201,
          "rate": 0.045
         },
         {
          "Unemployment_rate_2007": 3.4,
          "id": 20203,
          "rate": 0.035
         },
         {
          "Unemployment_rate_2007": 4.6,
          "id": 20205,
          "rate": 0.102
         },
         {
          "Unemployment_rate_2007": 2.8,
          "id": 20207,
          "rate": 0.08900000000000001
         },
         {
          "Unemployment_rate_2007": 2.9,
          "id": 20209,
          "rate": 0.10400000000000001
         },
         {
          "Unemployment_rate_2007": 3.2,
          "id": 21001,
          "rate": 0.10099999999999999
         },
         {
          "Unemployment_rate_2007": 3.7,
          "id": 21003,
          "rate": 0.14300000000000002
         },
         {
          "Unemployment_rate_2007": 2.9,
          "id": 21005,
          "rate": 0.109
         },
         {
          "Unemployment_rate_2007": 3.3,
          "id": 21007,
          "rate": 0.102
         },
         {
          "Unemployment_rate_2007": 4.4,
          "id": 21009,
          "rate": 0.11599999999999999
         },
         {
          "Unemployment_rate_2007": 3,
          "id": 21011,
          "rate": 0.133
         },
         {
          "Unemployment_rate_2007": 3.3,
          "id": 21013,
          "rate": 0.125
         },
         {
          "Unemployment_rate_2007": 4,
          "id": 21015,
          "rate": 0.092
         },
         {
          "Unemployment_rate_2007": 2.9,
          "id": 21017,
          "rate": 0.091
         },
         {
          "Unemployment_rate_2007": 3.4,
          "id": 21019,
          "rate": 0.083
         },
         {
          "Unemployment_rate_2007": 3,
          "id": 21021,
          "rate": 0.11
         },
         {
          "Unemployment_rate_2007": 3.7,
          "id": 21023,
          "rate": 0.102
         },
         {
          "Unemployment_rate_2007": 5.2,
          "id": 21025,
          "rate": 0.1
         },
         {
          "Unemployment_rate_2007": 7.6,
          "id": 21027,
          "rate": 0.121
         },
         {
          "Unemployment_rate_2007": null,
          "id": 21029,
          "rate": 0.10800000000000001
         },
         {
          "Unemployment_rate_2007": 5.8,
          "id": 21031,
          "rate": 0.13699999999999998
         },
         {
          "Unemployment_rate_2007": 5.8,
          "id": 21033,
          "rate": 0.109
         },
         {
          "Unemployment_rate_2007": 5,
          "id": 21035,
          "rate": 0.08
         },
         {
          "Unemployment_rate_2007": 5.5,
          "id": 21037,
          "rate": 0.107
         },
         {
          "Unemployment_rate_2007": 5.2,
          "id": 21039,
          "rate": 0.091
         },
         {
          "Unemployment_rate_2007": 7.5,
          "id": 21041,
          "rate": 0.124
         },
         {
          "Unemployment_rate_2007": 8,
          "id": 21043,
          "rate": 0.135
         },
         {
          "Unemployment_rate_2007": 4.4,
          "id": 21045,
          "rate": 0.102
         },
         {
          "Unemployment_rate_2007": 4.9,
          "id": 21047,
          "rate": 0.129
         },
         {
          "Unemployment_rate_2007": 5.2,
          "id": 21049,
          "rate": 0.114
         },
         {
          "Unemployment_rate_2007": 6,
          "id": 21051,
          "rate": 0.135
         },
         {
          "Unemployment_rate_2007": 6,
          "id": 21053,
          "rate": 0.09
         },
         {
          "Unemployment_rate_2007": 7,
          "id": 21055,
          "rate": 0.10800000000000001
         },
         {
          "Unemployment_rate_2007": 6,
          "id": 21057,
          "rate": 0.13
         },
         {
          "Unemployment_rate_2007": 5.6,
          "id": 21059,
          "rate": 0.091
         },
         {
          "Unemployment_rate_2007": 6.3,
          "id": 21061,
          "rate": 0.128
         },
         {
          "Unemployment_rate_2007": 5.3,
          "id": 21063,
          "rate": 0.126
         },
         {
          "Unemployment_rate_2007": 5.4,
          "id": 21065,
          "rate": 0.129
         },
         {
          "Unemployment_rate_2007": 5,
          "id": 21067,
          "rate": 0.077
         },
         {
          "Unemployment_rate_2007": 6.1,
          "id": 21069,
          "rate": 0.122
         },
         {
          "Unemployment_rate_2007": 5.4,
          "id": 21071,
          "rate": 0.124
         },
         {
          "Unemployment_rate_2007": 7.1,
          "id": 21073,
          "rate": 0.091
         },
         {
          "Unemployment_rate_2007": 5.5,
          "id": 21075,
          "rate": 0.14400000000000002
         },
         {
          "Unemployment_rate_2007": 6.3,
          "id": 21077,
          "rate": 0.111
         },
         {
          "Unemployment_rate_2007": 4.9,
          "id": 21079,
          "rate": 0.11900000000000001
         },
         {
          "Unemployment_rate_2007": 10.6,
          "id": 21081,
          "rate": 0.10099999999999999
         },
         {
          "Unemployment_rate_2007": 5.2,
          "id": 21083,
          "rate": 0.10300000000000001
         },
         {
          "Unemployment_rate_2007": 6.1,
          "id": 21085,
          "rate": 0.16399999999999998
         },
         {
          "Unemployment_rate_2007": 6.9,
          "id": 21087,
          "rate": 0.124
         },
         {
          "Unemployment_rate_2007": 4.8,
          "id": 21089,
          "rate": 0.098
         },
         {
          "Unemployment_rate_2007": 6.3,
          "id": 21091,
          "rate": 0.136
         },
         {
          "Unemployment_rate_2007": 7.5,
          "id": 21093,
          "rate": 0.1
         },
         {
          "Unemployment_rate_2007": 6.4,
          "id": 21095,
          "rate": 0.125
         },
         {
          "Unemployment_rate_2007": 4,
          "id": 21097,
          "rate": 0.111
         },
         {
          "Unemployment_rate_2007": 6.4,
          "id": 21099,
          "rate": 0.106
         },
         {
          "Unemployment_rate_2007": 6.5,
          "id": 21101,
          "rate": 0.098
         },
         {
          "Unemployment_rate_2007": 4.5,
          "id": 21103,
          "rate": 0.107
         },
         {
          "Unemployment_rate_2007": 7.5,
          "id": 21105,
          "rate": 0.092
         },
         {
          "Unemployment_rate_2007": 5.4,
          "id": 21107,
          "rate": 0.091
         },
         {
          "Unemployment_rate_2007": 5.6,
          "id": 21109,
          "rate": 0.175
         },
         {
          "Unemployment_rate_2007": 5.5,
          "id": 21111,
          "rate": 0.105
         },
         {
          "Unemployment_rate_2007": 6.3,
          "id": 21113,
          "rate": 0.08800000000000001
         },
         {
          "Unemployment_rate_2007": 8.1,
          "id": 21115,
          "rate": 0.111
         },
         {
          "Unemployment_rate_2007": 6.1,
          "id": 21117,
          "rate": 0.1
         },
         {
          "Unemployment_rate_2007": 5.4,
          "id": 21119,
          "rate": 0.12
         },
         {
          "Unemployment_rate_2007": 5.1,
          "id": 21121,
          "rate": 0.115
         },
         {
          "Unemployment_rate_2007": 5.1,
          "id": 21123,
          "rate": 0.107
         },
         {
          "Unemployment_rate_2007": 9,
          "id": 21125,
          "rate": 0.10099999999999999
         },
         {
          "Unemployment_rate_2007": 4.9,
          "id": 21127,
          "rate": 0.131
         },
         {
          "Unemployment_rate_2007": 5.3,
          "id": 21129,
          "rate": 0.12300000000000001
         },
         {
          "Unemployment_rate_2007": 5,
          "id": 21131,
          "rate": 0.13699999999999998
         },
         {
          "Unemployment_rate_2007": 5.3,
          "id": 21133,
          "rate": 0.12
         },
         {
          "Unemployment_rate_2007": 6.8,
          "id": 21135,
          "rate": 0.151
         },
         {
          "Unemployment_rate_2007": 5.9,
          "id": 21137,
          "rate": 0.121
         },
         {
          "Unemployment_rate_2007": 13.6,
          "id": 21139,
          "rate": 0.098
         },
         {
          "Unemployment_rate_2007": 5.3,
          "id": 21141,
          "rate": 0.10400000000000001
         },
         {
          "Unemployment_rate_2007": 4.4,
          "id": 21143,
          "rate": 0.122
         },
         {
          "Unemployment_rate_2007": 6.1,
          "id": 21145,
          "rate": 0.091
         },
         {
          "Unemployment_rate_2007": 4.8,
          "id": 21147,
          "rate": 0.133
         },
         {
          "Unemployment_rate_2007": 6.9,
          "id": 21149,
          "rate": 0.106
         },
         {
          "Unemployment_rate_2007": 6.7,
          "id": 21151,
          "rate": 0.087
         },
         {
          "Unemployment_rate_2007": 5.1,
          "id": 21153,
          "rate": 0.214
         },
         {
          "Unemployment_rate_2007": 5.3,
          "id": 21155,
          "rate": 0.129
         },
         {
          "Unemployment_rate_2007": 7.8,
          "id": 21157,
          "rate": 0.107
         },
         {
          "Unemployment_rate_2007": 6.6,
          "id": 21159,
          "rate": 0.124
         },
         {
          "Unemployment_rate_2007": 8.7,
          "id": 21161,
          "rate": 0.111
         },
         {
          "Unemployment_rate_2007": 7.4,
          "id": 21163,
          "rate": 0.124
         },
         {
          "Unemployment_rate_2007": 7.6,
          "id": 21165,
          "rate": 0.147
         },
         {
          "Unemployment_rate_2007": 6.5,
          "id": 21167,
          "rate": 0.10800000000000001
         },
         {
          "Unemployment_rate_2007": 5.4,
          "id": 21169,
          "rate": 0.158
         },
         {
          "Unemployment_rate_2007": 5.3,
          "id": 21171,
          "rate": 0.14
         },
         {
          "Unemployment_rate_2007": 6.4,
          "id": 21173,
          "rate": 0.126
         },
         {
          "Unemployment_rate_2007": 4.9,
          "id": 21175,
          "rate": 0.145
         },
         {
          "Unemployment_rate_2007": 9,
          "id": 21177,
          "rate": 0.107
         },
         {
          "Unemployment_rate_2007": 5.8,
          "id": 21179,
          "rate": 0.115
         },
         {
          "Unemployment_rate_2007": 4.7,
          "id": 21181,
          "rate": 0.125
         },
         {
          "Unemployment_rate_2007": 10.4,
          "id": 21183,
          "rate": 0.094
         },
         {
          "Unemployment_rate_2007": 5.1,
          "id": 21185,
          "rate": 0.086
         },
         {
          "Unemployment_rate_2007": 5.8,
          "id": 21187,
          "rate": 0.10099999999999999
         },
         {
          "Unemployment_rate_2007": 7.8,
          "id": 21189,
          "rate": 0.11199999999999999
         },
         {
          "Unemployment_rate_2007": 4.6,
          "id": 21191,
          "rate": 0.11699999999999999
         },
         {
          "Unemployment_rate_2007": 6,
          "id": 21193,
          "rate": 0.125
         },
         {
          "Unemployment_rate_2007": 8.5,
          "id": 21195,
          "rate": 0.107
         },
         {
          "Unemployment_rate_2007": 5.2,
          "id": 21197,
          "rate": 0.16699999999999998
         },
         {
          "Unemployment_rate_2007": 5.6,
          "id": 21199,
          "rate": 0.1
         },
         {
          "Unemployment_rate_2007": 6.8,
          "id": 21201,
          "rate": 0.096
         },
         {
          "Unemployment_rate_2007": 5.8,
          "id": 21203,
          "rate": 0.128
         },
         {
          "Unemployment_rate_2007": 8.7,
          "id": 21205,
          "rate": 0.086
         },
         {
          "Unemployment_rate_2007": 7.9,
          "id": 21207,
          "rate": 0.10800000000000001
         },
         {
          "Unemployment_rate_2007": 5.8,
          "id": 21209,
          "rate": 0.091
         },
         {
          "Unemployment_rate_2007": 6.3,
          "id": 21211,
          "rate": 0.096
         },
         {
          "Unemployment_rate_2007": 5.2,
          "id": 21213,
          "rate": 0.11800000000000001
         },
         {
          "Unemployment_rate_2007": 4.8,
          "id": 21215,
          "rate": 0.102
         },
         {
          "Unemployment_rate_2007": 5,
          "id": 21217,
          "rate": 0.102
         },
         {
          "Unemployment_rate_2007": 9.2,
          "id": 21219,
          "rate": 0.126
         },
         {
          "Unemployment_rate_2007": 5.8,
          "id": 21221,
          "rate": 0.16
         },
         {
          "Unemployment_rate_2007": 7,
          "id": 21223,
          "rate": 0.107
         },
         {
          "Unemployment_rate_2007": 5.9,
          "id": 21225,
          "rate": 0.10800000000000001
         },
         {
          "Unemployment_rate_2007": 6.6,
          "id": 21227,
          "rate": 0.092
         },
         {
          "Unemployment_rate_2007": 5.9,
          "id": 21229,
          "rate": 0.127
         },
         {
          "Unemployment_rate_2007": 4.8,
          "id": 21231,
          "rate": 0.136
         },
         {
          "Unemployment_rate_2007": 6.6,
          "id": 21233,
          "rate": 0.08800000000000001
         },
         {
          "Unemployment_rate_2007": 5.3,
          "id": 21235,
          "rate": 0.114
         },
         {
          "Unemployment_rate_2007": 6.1,
          "id": 21237,
          "rate": 0.139
         },
         {
          "Unemployment_rate_2007": 4.4,
          "id": 21239,
          "rate": 0.083
         },
         {
          "Unemployment_rate_2007": 4.7,
          "id": 22001,
          "rate": 0.071
         },
         {
          "Unemployment_rate_2007": 5.1,
          "id": 22003,
          "rate": 0.10099999999999999
         },
         {
          "Unemployment_rate_2007": 6,
          "id": 22005,
          "rate": 0.067
         },
         {
          "Unemployment_rate_2007": 5.3,
          "id": 22007,
          "rate": 0.08800000000000001
         },
         {
          "Unemployment_rate_2007": 6.5,
          "id": 22009,
          "rate": 0.081
         },
         {
          "Unemployment_rate_2007": 5.8,
          "id": 22011,
          "rate": 0.08
         },
         {
          "Unemployment_rate_2007": 6.2,
          "id": 22013,
          "rate": 0.105
         },
         {
          "Unemployment_rate_2007": 5.5,
          "id": 22015,
          "rate": 0.064
         },
         {
          "Unemployment_rate_2007": 4.3,
          "id": 22017,
          "rate": 0.079
         },
         {
          "Unemployment_rate_2007": 5.6,
          "id": 22019,
          "rate": 0.07200000000000001
         },
         {
          "Unemployment_rate_2007": 6.5,
          "id": 22021,
          "rate": 0.107
         },
         {
          "Unemployment_rate_2007": 5.8,
          "id": 22023,
          "rate": 0.055999999999999994
         },
         {
          "Unemployment_rate_2007": 6.4,
          "id": 22025,
          "rate": 0.10300000000000001
         },
         {
          "Unemployment_rate_2007": 9.7,
          "id": 22027,
          "rate": 0.10300000000000001
         },
         {
          "Unemployment_rate_2007": 3.9,
          "id": 22029,
          "rate": 0.113
         },
         {
          "Unemployment_rate_2007": null,
          "id": 22031,
          "rate": 0.09
         },
         {
          "Unemployment_rate_2007": 3.8,
          "id": 22033,
          "rate": 0.068
         },
         {
          "Unemployment_rate_2007": 5.7,
          "id": 22035,
          "rate": 0.142
         },
         {
          "Unemployment_rate_2007": 4,
          "id": 22037,
          "rate": 0.08
         },
         {
          "Unemployment_rate_2007": 4.7,
          "id": 22039,
          "rate": 0.086
         },
         {
          "Unemployment_rate_2007": 5.2,
          "id": 22041,
          "rate": 0.113
         },
         {
          "Unemployment_rate_2007": 4.9,
          "id": 22043,
          "rate": 0.08199999999999999
         },
         {
          "Unemployment_rate_2007": 5.5,
          "id": 22045,
          "rate": 0.076
         },
         {
          "Unemployment_rate_2007": 4.1,
          "id": 22047,
          "rate": 0.10400000000000001
         },
         {
          "Unemployment_rate_2007": 5.2,
          "id": 22049,
          "rate": 0.078
         },
         {
          "Unemployment_rate_2007": 4.1,
          "id": 22051,
          "rate": 0.065
         },
         {
          "Unemployment_rate_2007": 4.8,
          "id": 22053,
          "rate": 0.064
         },
         {
          "Unemployment_rate_2007": 3.7,
          "id": 22055,
          "rate": 0.059000000000000004
         },
         {
          "Unemployment_rate_2007": 5.8,
          "id": 22057,
          "rate": 0.049
         },
         {
          "Unemployment_rate_2007": 5.5,
          "id": 22059,
          "rate": 0.073
         },
         {
          "Unemployment_rate_2007": 6.1,
          "id": 22061,
          "rate": 0.078
         },
         {
          "Unemployment_rate_2007": 5.8,
          "id": 22063,
          "rate": 0.07
         },
         {
          "Unemployment_rate_2007": 4.1,
          "id": 22065,
          "rate": 0.09300000000000001
         },
         {
          "Unemployment_rate_2007": 9.7,
          "id": 22067,
          "rate": 0.151
         },
         {
          "Unemployment_rate_2007": 4.8,
          "id": 22069,
          "rate": 0.084
         },
         {
          "Unemployment_rate_2007": 5.1,
          "id": 22071,
          "rate": 0.107
         },
         {
          "Unemployment_rate_2007": 6.7,
          "id": 22073,
          "rate": 0.076
         },
         {
          "Unemployment_rate_2007": 4.7,
          "id": 22075,
          "rate": 0.062
         },
         {
          "Unemployment_rate_2007": 3.7,
          "id": 22077,
          "rate": 0.079
         },
         {
          "Unemployment_rate_2007": 5.9,
          "id": 22079,
          "rate": 0.069
         },
         {
          "Unemployment_rate_2007": 4.4,
          "id": 22081,
          "rate": 0.096
         },
         {
          "Unemployment_rate_2007": 3.6,
          "id": 22083,
          "rate": 0.107
         },
         {
          "Unemployment_rate_2007": 3.5,
          "id": 22085,
          "rate": 0.081
         },
         {
          "Unemployment_rate_2007": 3,
          "id": 22087,
          "rate": 0.105
         },
         {
          "Unemployment_rate_2007": 2.9,
          "id": 22089,
          "rate": 0.065
         },
         {
          "Unemployment_rate_2007": 3.8,
          "id": 22091,
          "rate": 0.11800000000000001
         },
         {
          "Unemployment_rate_2007": 4.9,
          "id": 22093,
          "rate": 0.1
         },
         {
          "Unemployment_rate_2007": 3.9,
          "id": 22095,
          "rate": 0.084
         },
         {
          "Unemployment_rate_2007": 6.7,
          "id": 22097,
          "rate": 0.083
         },
         {
          "Unemployment_rate_2007": 8.1,
          "id": 22099,
          "rate": 0.075
         },
         {
          "Unemployment_rate_2007": 5.1,
          "id": 22101,
          "rate": 0.086
         },
         {
          "Unemployment_rate_2007": 5.1,
          "id": 22103,
          "rate": 0.052000000000000005
         },
         {
          "Unemployment_rate_2007": 5,
          "id": 22105,
          "rate": 0.081
         },
         {
          "Unemployment_rate_2007": 3.9,
          "id": 22107,
          "rate": 0.135
         },
         {
          "Unemployment_rate_2007": 4.7,
          "id": 22109,
          "rate": 0.052000000000000005
         },
         {
          "Unemployment_rate_2007": 4.2,
          "id": 22111,
          "rate": 0.122
         },
         {
          "Unemployment_rate_2007": 6.6,
          "id": 22113,
          "rate": 0.07200000000000001
         },
         {
          "Unemployment_rate_2007": 6.3,
          "id": 22115,
          "rate": 0.067
         },
         {
          "Unemployment_rate_2007": 4.5,
          "id": 22117,
          "rate": 0.096
         },
         {
          "Unemployment_rate_2007": 4.3,
          "id": 22119,
          "rate": 0.091
         },
         {
          "Unemployment_rate_2007": 3.8,
          "id": 22121,
          "rate": 0.07400000000000001
         },
         {
          "Unemployment_rate_2007": 7.5,
          "id": 22123,
          "rate": 0.17
         },
         {
          "Unemployment_rate_2007": 6.9,
          "id": 22125,
          "rate": 0.08199999999999999
         },
         {
          "Unemployment_rate_2007": 5,
          "id": 22127,
          "rate": 0.091
         },
         {
          "Unemployment_rate_2007": 4.6,
          "id": 23001,
          "rate": 0.084
         },
         {
          "Unemployment_rate_2007": 3.7,
          "id": 23003,
          "rate": 0.09300000000000001
         },
         {
          "Unemployment_rate_2007": 4.3,
          "id": 23005,
          "rate": 0.065
         },
         {
          "Unemployment_rate_2007": 3.2,
          "id": 23007,
          "rate": 0.11199999999999999
         },
         {
          "Unemployment_rate_2007": 4.6,
          "id": 23009,
          "rate": 0.068
         },
         {
          "Unemployment_rate_2007": 7.5,
          "id": 23011,
          "rate": 0.073
         },
         {
          "Unemployment_rate_2007": 3,
          "id": 23013,
          "rate": 0.07
         },
         {
          "Unemployment_rate_2007": 5.1,
          "id": 23015,
          "rate": 0.063
         },
         {
          "Unemployment_rate_2007": 3.9,
          "id": 23017,
          "rate": 0.109
         },
         {
          "Unemployment_rate_2007": 4.6,
          "id": 23019,
          "rate": 0.08
         },
         {
          "Unemployment_rate_2007": 5.8,
          "id": 23021,
          "rate": 0.11599999999999999
         },
         {
          "Unemployment_rate_2007": 5.2,
          "id": 23023,
          "rate": 0.067
         },
         {
          "Unemployment_rate_2007": 4.1,
          "id": 23025,
          "rate": 0.107
         },
         {
          "Unemployment_rate_2007": 9.5,
          "id": 23027,
          "rate": 0.078
         },
         {
          "Unemployment_rate_2007": 5.6,
          "id": 23029,
          "rate": 0.10400000000000001
         },
         {
          "Unemployment_rate_2007": 5,
          "id": 23031,
          "rate": 0.07400000000000001
         },
         {
          "Unemployment_rate_2007": null,
          "id": 24001,
          "rate": 0.075
         },
         {
          "Unemployment_rate_2007": 4.6,
          "id": 24003,
          "rate": 0.065
         },
         {
          "Unemployment_rate_2007": 6.3,
          "id": 24005,
          "rate": 0.077
         },
         {
          "Unemployment_rate_2007": 3.4,
          "id": 24009,
          "rate": 0.059000000000000004
         },
         {
          "Unemployment_rate_2007": 6.1,
          "id": 24011,
          "rate": 0.08800000000000001
         },
         {
          "Unemployment_rate_2007": 5.5,
          "id": 24013,
          "rate": 0.06
         },
         {
          "Unemployment_rate_2007": 4.6,
          "id": 24015,
          "rate": 0.086
         },
         {
          "Unemployment_rate_2007": 4.3,
          "id": 24017,
          "rate": 0.059000000000000004
         },
         {
          "Unemployment_rate_2007": 4.2,
          "id": 24019,
          "rate": 0.109
         },
         {
          "Unemployment_rate_2007": 5.9,
          "id": 24021,
          "rate": 0.059000000000000004
         },
         {
          "Unemployment_rate_2007": 5.1,
          "id": 24023,
          "rate": 0.069
         },
         {
          "Unemployment_rate_2007": 7.5,
          "id": 24025,
          "rate": 0.071
         },
         {
          "Unemployment_rate_2007": 3.9,
          "id": 24027,
          "rate": 0.054000000000000006
         },
         {
          "Unemployment_rate_2007": 6.9,
          "id": 24029,
          "rate": 0.071
         },
         {
          "Unemployment_rate_2007": 5.4,
          "id": 24031,
          "rate": 0.053
         },
         {
          "Unemployment_rate_2007": 7.7,
          "id": 24033,
          "rate": 0.073
         },
         {
          "Unemployment_rate_2007": 4,
          "id": 24035,
          "rate": 0.066
         },
         {
          "Unemployment_rate_2007": null,
          "id": 24037,
          "rate": 0.055999999999999994
         },
         {
          "Unemployment_rate_2007": 5.1,
          "id": 24039,
          "rate": 0.095
         },
         {
          "Unemployment_rate_2007": 3,
          "id": 24041,
          "rate": 0.068
         },
         {
          "Unemployment_rate_2007": 3.5,
          "id": 24043,
          "rate": 0.094
         },
         {
          "Unemployment_rate_2007": 2.8,
          "id": 24045,
          "rate": 0.077
         },
         {
          "Unemployment_rate_2007": 4.1,
          "id": 24047,
          "rate": 0.075
         },
         {
          "Unemployment_rate_2007": 2.9,
          "id": 24510,
          "rate": 0.106
         },
         {
          "Unemployment_rate_2007": 3.8,
          "id": 25001,
          "rate": 0.08
         },
         {
          "Unemployment_rate_2007": 2.9,
          "id": 25003,
          "rate": 0.084
         },
         {
          "Unemployment_rate_2007": 5.8,
          "id": 25005,
          "rate": 0.11800000000000001
         },
         {
          "Unemployment_rate_2007": 2.9,
          "id": 25007,
          "rate": 0.05
         },
         {
          "Unemployment_rate_2007": 4.4,
          "id": 25009,
          "rate": 0.10099999999999999
         },
         {
          "Unemployment_rate_2007": 3.3,
          "id": 25011,
          "rate": 0.087
         },
         {
          "Unemployment_rate_2007": 2.5,
          "id": 25013,
          "rate": 0.105
         },
         {
          "Unemployment_rate_2007": 3.5,
          "id": 25015,
          "rate": 0.073
         },
         {
          "Unemployment_rate_2007": 2.6,
          "id": 25017,
          "rate": 0.081
         },
         {
          "Unemployment_rate_2007": 3.6,
          "id": 25019,
          "rate": 0.05
         },
         {
          "Unemployment_rate_2007": 3.1,
          "id": 25021,
          "rate": 0.085
         },
         {
          "Unemployment_rate_2007": 2.9,
          "id": 25023,
          "rate": 0.09699999999999999
         },
         {
          "Unemployment_rate_2007": 5.3,
          "id": 25025,
          "rate": 0.09300000000000001
         },
         {
          "Unemployment_rate_2007": 3.4,
          "id": 25027,
          "rate": 0.10099999999999999
         },
         {
          "Unemployment_rate_2007": 4.3,
          "id": 26001,
          "rate": 0.16699999999999998
         },
         {
          "Unemployment_rate_2007": 3.9,
          "id": 26003,
          "rate": 0.12
         },
         {
          "Unemployment_rate_2007": 5.8,
          "id": 26005,
          "rate": 0.132
         },
         {
          "Unemployment_rate_2007": 5.5,
          "id": 26007,
          "rate": 0.139
         },
         {
          "Unemployment_rate_2007": null,
          "id": 26009,
          "rate": 0.147
         },
         {
          "Unemployment_rate_2007": 4.9,
          "id": 26011,
          "rate": 0.158
         },
         {
          "Unemployment_rate_2007": 4.5,
          "id": 26013,
          "rate": 0.243
         },
         {
          "Unemployment_rate_2007": 5.9,
          "id": 26015,
          "rate": 0.105
         },
         {
          "Unemployment_rate_2007": 3.6,
          "id": 26017,
          "rate": 0.12300000000000001
         },
         {
          "Unemployment_rate_2007": 4.9,
          "id": 26019,
          "rate": 0.12
         },
         {
          "Unemployment_rate_2007": 4.3,
          "id": 26021,
          "rate": 0.135
         },
         {
          "Unemployment_rate_2007": 5.7,
          "id": 26023,
          "rate": 0.14
         },
         {
          "Unemployment_rate_2007": 3.9,
          "id": 26025,
          "rate": 0.124
         },
         {
          "Unemployment_rate_2007": 3.8,
          "id": 26027,
          "rate": 0.114
         },
         {
          "Unemployment_rate_2007": 2.4,
          "id": 26029,
          "rate": 0.139
         },
         {
          "Unemployment_rate_2007": 4,
          "id": 26031,
          "rate": 0.086
         },
         {
          "Unemployment_rate_2007": 4.9,
          "id": 26033,
          "rate": 0.11599999999999999
         },
         {
          "Unemployment_rate_2007": 4.6,
          "id": 26035,
          "rate": 0.168
         },
         {
          "Unemployment_rate_2007": 5.1,
          "id": 26037,
          "rate": 0.094
         },
         {
          "Unemployment_rate_2007": null,
          "id": 26039,
          "rate": 0.13699999999999998
         },
         {
          "Unemployment_rate_2007": 10.3,
          "id": 26041,
          "rate": 0.115
         },
         {
          "Unemployment_rate_2007": 8.4,
          "id": 26043,
          "rate": 0.12
         },
         {
          "Unemployment_rate_2007": 6.4,
          "id": 26045,
          "rate": 0.10300000000000001
         },
         {
          "Unemployment_rate_2007": 8.4,
          "id": 26047,
          "rate": 0.122
         },
         {
          "Unemployment_rate_2007": 8.1,
          "id": 26049,
          "rate": 0.158
         },
         {
          "Unemployment_rate_2007": 9.9,
          "id": 26051,
          "rate": 0.165
         },
         {
          "Unemployment_rate_2007": 12.8,
          "id": 26053,
          "rate": 0.133
         },
         {
          "Unemployment_rate_2007": 5.5,
          "id": 26055,
          "rate": 0.12
         },
         {
          "Unemployment_rate_2007": 6.9,
          "id": 26057,
          "rate": 0.13699999999999998
         },
         {
          "Unemployment_rate_2007": 8,
          "id": 26059,
          "rate": 0.172
         },
         {
          "Unemployment_rate_2007": 6.9,
          "id": 26061,
          "rate": 0.102
         },
         {
          "Unemployment_rate_2007": 7.4,
          "id": 26063,
          "rate": 0.14800000000000002
         },
         {
          "Unemployment_rate_2007": 7,
          "id": 26065,
          "rate": 0.11599999999999999
         },
         {
          "Unemployment_rate_2007": 5.7,
          "id": 26067,
          "rate": 0.134
         },
         {
          "Unemployment_rate_2007": 8.8,
          "id": 26069,
          "rate": 0.16399999999999998
         },
         {
          "Unemployment_rate_2007": 10.4,
          "id": 26071,
          "rate": 0.11699999999999999
         },
         {
          "Unemployment_rate_2007": 8.9,
          "id": 26073,
          "rate": 0.085
         },
         {
          "Unemployment_rate_2007": 10.7,
          "id": 26075,
          "rate": 0.149
         },
         {
          "Unemployment_rate_2007": 5.5,
          "id": 26077,
          "rate": 0.11199999999999999
         },
         {
          "Unemployment_rate_2007": 8,
          "id": 26079,
          "rate": 0.14300000000000002
         },
         {
          "Unemployment_rate_2007": 7.7,
          "id": 26081,
          "rate": 0.11699999999999999
         },
         {
          "Unemployment_rate_2007": 6.1,
          "id": 26083,
          "rate": 0.11900000000000001
         },
         {
          "Unemployment_rate_2007": 5.3,
          "id": 26085,
          "rate": 0.175
         },
         {
          "Unemployment_rate_2007": 9.1,
          "id": 26087,
          "rate": 0.18100000000000002
         },
         {
          "Unemployment_rate_2007": 8.4,
          "id": 26089,
          "rate": 0.09
         },
         {
          "Unemployment_rate_2007": 10.1,
          "id": 26091,
          "rate": 0.161
         },
         {
          "Unemployment_rate_2007": 7.8,
          "id": 26093,
          "rate": 0.136
         },
         {
          "Unemployment_rate_2007": 6.6,
          "id": 26095,
          "rate": 0.132
         },
         {
          "Unemployment_rate_2007": 8.7,
          "id": 26097,
          "rate": 0.061
         },
         {
          "Unemployment_rate_2007": 8.8,
          "id": 26099,
          "rate": 0.18100000000000002
         },
         {
          "Unemployment_rate_2007": 7.2,
          "id": 26101,
          "rate": 0.126
         },
         {
          "Unemployment_rate_2007": 8,
          "id": 26103,
          "rate": 0.10099999999999999
         },
         {
          "Unemployment_rate_2007": 6.2,
          "id": 26105,
          "rate": 0.129
         },
         {
          "Unemployment_rate_2007": 7.6,
          "id": 26107,
          "rate": 0.13
         },
         {
          "Unemployment_rate_2007": 10,
          "id": 26109,
          "rate": 0.125
         },
         {
          "Unemployment_rate_2007": 7.4,
          "id": 26111,
          "rate": 0.102
         },
         {
          "Unemployment_rate_2007": 5.3,
          "id": 26113,
          "rate": 0.15
         },
         {
          "Unemployment_rate_2007": 7.7,
          "id": 26115,
          "rate": 0.142
         },
         {
          "Unemployment_rate_2007": 5.4,
          "id": 26117,
          "rate": 0.17600000000000002
         },
         {
          "Unemployment_rate_2007": 8.1,
          "id": 26119,
          "rate": 0.18899999999999997
         },
         {
          "Unemployment_rate_2007": 5.9,
          "id": 26121,
          "rate": 0.16
         },
         {
          "Unemployment_rate_2007": 11,
          "id": 26123,
          "rate": 0.138
         },
         {
          "Unemployment_rate_2007": 10.5,
          "id": 26125,
          "rate": 0.156
         },
         {
          "Unemployment_rate_2007": 8,
          "id": 26127,
          "rate": 0.152
         },
         {
          "Unemployment_rate_2007": 5.5,
          "id": 26129,
          "rate": 0.127
         },
         {
          "Unemployment_rate_2007": 8,
          "id": 26131,
          "rate": 0.138
         },
         {
          "Unemployment_rate_2007": 5.3,
          "id": 26133,
          "rate": 0.153
         },
         {
          "Unemployment_rate_2007": 9.1,
          "id": 26135,
          "rate": 0.191
         },
         {
          "Unemployment_rate_2007": 10.1,
          "id": 26137,
          "rate": 0.147
         },
         {
          "Unemployment_rate_2007": 7,
          "id": 26139,
          "rate": 0.128
         },
         {
          "Unemployment_rate_2007": 8.5,
          "id": 26141,
          "rate": 0.16
         },
         {
          "Unemployment_rate_2007": 6.3,
          "id": 26143,
          "rate": 0.146
         },
         {
          "Unemployment_rate_2007": 7.8,
          "id": 26145,
          "rate": 0.129
         },
         {
          "Unemployment_rate_2007": 7.6,
          "id": 26147,
          "rate": 0.19
         },
         {
          "Unemployment_rate_2007": 5.8,
          "id": 26149,
          "rate": 0.139
         },
         {
          "Unemployment_rate_2007": 5.6,
          "id": 26151,
          "rate": 0.17800000000000002
         },
         {
          "Unemployment_rate_2007": 8.6,
          "id": 26153,
          "rate": 0.127
         },
         {
          "Unemployment_rate_2007": 6.8,
          "id": 26155,
          "rate": 0.152
         },
         {
          "Unemployment_rate_2007": 11.7,
          "id": 26157,
          "rate": 0.163
         },
         {
          "Unemployment_rate_2007": 13.2,
          "id": 26159,
          "rate": 0.132
         },
         {
          "Unemployment_rate_2007": 7.3,
          "id": 26161,
          "rate": 0.09300000000000001
         },
         {
          "Unemployment_rate_2007": 8,
          "id": 26163,
          "rate": 0.183
         },
         {
          "Unemployment_rate_2007": 5.8,
          "id": 26165,
          "rate": 0.183
         },
         {
          "Unemployment_rate_2007": 8.4,
          "id": 27001,
          "rate": 0.081
         },
         {
          "Unemployment_rate_2007": 8.5,
          "id": 27003,
          "rate": 0.079
         },
         {
          "Unemployment_rate_2007": 8.4,
          "id": 27005,
          "rate": 0.064
         },
         {
          "Unemployment_rate_2007": 8.1,
          "id": 27007,
          "rate": 0.07200000000000001
         },
         {
          "Unemployment_rate_2007": 10.6,
          "id": 27009,
          "rate": 0.07
         },
         {
          "Unemployment_rate_2007": 9.3,
          "id": 27011,
          "rate": 0.045
         },
         {
          "Unemployment_rate_2007": 5.7,
          "id": 27013,
          "rate": 0.063
         },
         {
          "Unemployment_rate_2007": 12.7,
          "id": 27015,
          "rate": 0.055
         },
         {
          "Unemployment_rate_2007": 9.8,
          "id": 27017,
          "rate": 0.073
         },
         {
          "Unemployment_rate_2007": 7.2,
          "id": 27019,
          "rate": 0.07
         },
         {
          "Unemployment_rate_2007": 8.4,
          "id": 27021,
          "rate": 0.079
         },
         {
          "Unemployment_rate_2007": 6.4,
          "id": 27023,
          "rate": 0.061
         },
         {
          "Unemployment_rate_2007": 9.1,
          "id": 27025,
          "rate": 0.084
         },
         {
          "Unemployment_rate_2007": 10.9,
          "id": 27027,
          "rate": 0.036000000000000004
         },
         {
          "Unemployment_rate_2007": 8.3,
          "id": 27029,
          "rate": 0.091
         },
         {
          "Unemployment_rate_2007": 8.5,
          "id": 27031,
          "rate": 0.047
         },
         {
          "Unemployment_rate_2007": 7,
          "id": 27033,
          "rate": 0.052000000000000005
         },
         {
          "Unemployment_rate_2007": 4.9,
          "id": 27035,
          "rate": 0.07400000000000001
         },
         {
          "Unemployment_rate_2007": 8.3,
          "id": 27037,
          "rate": 0.069
         },
         {
          "Unemployment_rate_2007": 8.7,
          "id": 27039,
          "rate": 0.061
         },
         {
          "Unemployment_rate_2007": null,
          "id": 27041,
          "rate": 0.055999999999999994
         },
         {
          "Unemployment_rate_2007": 6.8,
          "id": 27043,
          "rate": 0.076
         },
         {
          "Unemployment_rate_2007": 4.5,
          "id": 27045,
          "rate": 0.07
         },
         {
          "Unemployment_rate_2007": 5.7,
          "id": 27047,
          "rate": 0.076
         },
         {
          "Unemployment_rate_2007": 6,
          "id": 27049,
          "rate": 0.067
         },
         {
          "Unemployment_rate_2007": 5,
          "id": 27051,
          "rate": 0.068
         },
         {
          "Unemployment_rate_2007": 4.7,
          "id": 27053,
          "rate": 0.073
         },
         {
          "Unemployment_rate_2007": 3.7,
          "id": 27055,
          "rate": 0.071
         },
         {
          "Unemployment_rate_2007": 4.8,
          "id": 27057,
          "rate": 0.073
         },
         {
          "Unemployment_rate_2007": 5.7,
          "id": 27059,
          "rate": 0.083
         },
         {
          "Unemployment_rate_2007": 3.9,
          "id": 27061,
          "rate": 0.092
         },
         {
          "Unemployment_rate_2007": 7.1,
          "id": 27063,
          "rate": 0.047
         },
         {
          "Unemployment_rate_2007": 4.3,
          "id": 27065,
          "rate": 0.10300000000000001
         },
         {
          "Unemployment_rate_2007": 5.8,
          "id": 27067,
          "rate": 0.055
         },
         {
          "Unemployment_rate_2007": 3.4,
          "id": 27069,
          "rate": 0.052000000000000005
         },
         {
          "Unemployment_rate_2007": 10.3,
          "id": 27071,
          "rate": 0.073
         },
         {
          "Unemployment_rate_2007": 4.8,
          "id": 27073,
          "rate": 0.054000000000000006
         },
         {
          "Unemployment_rate_2007": 4,
          "id": 27075,
          "rate": 0.075
         },
         {
          "Unemployment_rate_2007": 5.6,
          "id": 27077,
          "rate": 0.069
         },
         {
          "Unemployment_rate_2007": 4.1,
          "id": 27079,
          "rate": 0.086
         },
         {
          "Unemployment_rate_2007": 4.3,
          "id": 27081,
          "rate": 0.045
         },
         {
          "Unemployment_rate_2007": 4.4,
          "id": 27083,
          "rate": 0.049
         },
         {
          "Unemployment_rate_2007": 5.2,
          "id": 27085,
          "rate": 0.08
         },
         {
          "Unemployment_rate_2007": 5.1,
          "id": 27087,
          "rate": 0.06
         },
         {
          "Unemployment_rate_2007": 4.9,
          "id": 27089,
          "rate": 0.062
         },
         {
          "Unemployment_rate_2007": 4.9,
          "id": 27091,
          "rate": 0.069
         },
         {
          "Unemployment_rate_2007": 5.9,
          "id": 27093,
          "rate": 0.078
         },
         {
          "Unemployment_rate_2007": 4.1,
          "id": 27095,
          "rate": 0.105
         },
         {
          "Unemployment_rate_2007": 5.1,
          "id": 27097,
          "rate": 0.09
         },
         {
          "Unemployment_rate_2007": 6.4,
          "id": 27099,
          "rate": 0.055
         },
         {
          "Unemployment_rate_2007": 6,
          "id": 27101,
          "rate": 0.039
         },
         {
          "Unemployment_rate_2007": 7.2,
          "id": 27103,
          "rate": 0.061
         },
         {
          "Unemployment_rate_2007": 3.9,
          "id": 27105,
          "rate": 0.045
         },
         {
          "Unemployment_rate_2007": 8.3,
          "id": 27107,
          "rate": 0.051
         },
         {
          "Unemployment_rate_2007": 4.3,
          "id": 27109,
          "rate": 0.055
         },
         {
          "Unemployment_rate_2007": 5.7,
          "id": 27111,
          "rate": 0.063
         },
         {
          "Unemployment_rate_2007": 7,
          "id": 27113,
          "rate": 0.055999999999999994
         },
         {
          "Unemployment_rate_2007": 4.1,
          "id": 27115,
          "rate": 0.091
         },
         {
          "Unemployment_rate_2007": 4.5,
          "id": 27117,
          "rate": 0.053
         },
         {
          "Unemployment_rate_2007": 5,
          "id": 27119,
          "rate": 0.044000000000000004
         },
         {
          "Unemployment_rate_2007": 6.1,
          "id": 27121,
          "rate": 0.064
         },
         {
          "Unemployment_rate_2007": 4.5,
          "id": 27123,
          "rate": 0.07400000000000001
         },
         {
          "Unemployment_rate_2007": 3.8,
          "id": 27125,
          "rate": 0.067
         },
         {
          "Unemployment_rate_2007": 5,
          "id": 27127,
          "rate": 0.061
         },
         {
          "Unemployment_rate_2007": 6.7,
          "id": 27129,
          "rate": 0.064
         },
         {
          "Unemployment_rate_2007": 8,
          "id": 27131,
          "rate": 0.075
         },
         {
          "Unemployment_rate_2007": 4.4,
          "id": 27133,
          "rate": 0.051
         },
         {
          "Unemployment_rate_2007": 5.9,
          "id": 27135,
          "rate": 0.05
         },
         {
          "Unemployment_rate_2007": 7.6,
          "id": 27137,
          "rate": 0.08199999999999999
         },
         {
          "Unemployment_rate_2007": 6.2,
          "id": 27139,
          "rate": 0.068
         },
         {
          "Unemployment_rate_2007": 4,
          "id": 27141,
          "rate": 0.081
         },
         {
          "Unemployment_rate_2007": 4.3,
          "id": 27143,
          "rate": 0.065
         },
         {
          "Unemployment_rate_2007": 3.6,
          "id": 27145,
          "rate": 0.068
         },
         {
          "Unemployment_rate_2007": 3.5,
          "id": 27147,
          "rate": 0.077
         },
         {
          "Unemployment_rate_2007": 5.1,
          "id": 27149,
          "rate": 0.043
         },
         {
          "Unemployment_rate_2007": 3.8,
          "id": 27151,
          "rate": 0.066
         },
         {
          "Unemployment_rate_2007": 5.3,
          "id": 27153,
          "rate": 0.075
         },
         {
          "Unemployment_rate_2007": 6.9,
          "id": 27155,
          "rate": 0.062
         },
         {
          "Unemployment_rate_2007": 7.6,
          "id": 27157,
          "rate": 0.071
         },
         {
          "Unemployment_rate_2007": 3.7,
          "id": 27159,
          "rate": 0.08800000000000001
         },
         {
          "Unemployment_rate_2007": 4.6,
          "id": 27161,
          "rate": 0.07
         },
         {
          "Unemployment_rate_2007": 4.4,
          "id": 27163,
          "rate": 0.068
         },
         {
          "Unemployment_rate_2007": 4.4,
          "id": 27165,
          "rate": 0.075
         },
         {
          "Unemployment_rate_2007": 8.1,
          "id": 27167,
          "rate": 0.047
         },
         {
          "Unemployment_rate_2007": 4.7,
          "id": 27169,
          "rate": 0.07
         },
         {
          "Unemployment_rate_2007": 5.2,
          "id": 27171,
          "rate": 0.08199999999999999
         },
         {
          "Unemployment_rate_2007": 5,
          "id": 27173,
          "rate": 0.051
         },
         {
          "Unemployment_rate_2007": 3.2,
          "id": 28001,
          "rate": 0.08
         },
         {
          "Unemployment_rate_2007": 6.3,
          "id": 28003,
          "rate": 0.113
         },
         {
          "Unemployment_rate_2007": 5.6,
          "id": 28005,
          "rate": 0.086
         },
         {
          "Unemployment_rate_2007": 4,
          "id": 28007,
          "rate": 0.11800000000000001
         },
         {
          "Unemployment_rate_2007": 5,
          "id": 28009,
          "rate": 0.126
         },
         {
          "Unemployment_rate_2007": 5,
          "id": 28011,
          "rate": 0.09
         },
         {
          "Unemployment_rate_2007": 4.6,
          "id": 28013,
          "rate": 0.09699999999999999
         },
         {
          "Unemployment_rate_2007": 4.3,
          "id": 28015,
          "rate": 0.098
         },
         {
          "Unemployment_rate_2007": 3.7,
          "id": 28017,
          "rate": 0.132
         },
         {
          "Unemployment_rate_2007": 5.2,
          "id": 28019,
          "rate": 0.113
         },
         {
          "Unemployment_rate_2007": 5.4,
          "id": 28021,
          "rate": 0.15
         },
         {
          "Unemployment_rate_2007": 5.2,
          "id": 28023,
          "rate": 0.1
         },
         {
          "Unemployment_rate_2007": 4.4,
          "id": 28025,
          "rate": 0.17800000000000002
         },
         {
          "Unemployment_rate_2007": 7.4,
          "id": 28027,
          "rate": 0.111
         },
         {
          "Unemployment_rate_2007": 4.7,
          "id": 28029,
          "rate": 0.099
         },
         {
          "Unemployment_rate_2007": 4,
          "id": 28031,
          "rate": 0.077
         },
         {
          "Unemployment_rate_2007": 5,
          "id": 28033,
          "rate": 0.07200000000000001
         },
         {
          "Unemployment_rate_2007": 3.8,
          "id": 28035,
          "rate": 0.077
         },
         {
          "Unemployment_rate_2007": 4.2,
          "id": 28037,
          "rate": 0.09
         },
         {
          "Unemployment_rate_2007": 5.1,
          "id": 28039,
          "rate": 0.1
         },
         {
          "Unemployment_rate_2007": 4.3,
          "id": 28041,
          "rate": 0.099
         },
         {
          "Unemployment_rate_2007": null,
          "id": 28043,
          "rate": 0.11
         },
         {
          "Unemployment_rate_2007": 6.4,
          "id": 28045,
          "rate": 0.075
         },
         {
          "Unemployment_rate_2007": 6.9,
          "id": 28047,
          "rate": 0.07200000000000001
         },
         {
          "Unemployment_rate_2007": 6.3,
          "id": 28049,
          "rate": 0.079
         },
         {
          "Unemployment_rate_2007": 7.5,
          "id": 28051,
          "rate": 0.166
         },
         {
          "Unemployment_rate_2007": 9.3,
          "id": 28053,
          "rate": 0.102
         },
         {
          "Unemployment_rate_2007": 8,
          "id": 28055,
          "rate": 0.092
         },
         {
          "Unemployment_rate_2007": 8.1,
          "id": 28057,
          "rate": 0.096
         },
         {
          "Unemployment_rate_2007": 6.3,
          "id": 28059,
          "rate": 0.08
         },
         {
          "Unemployment_rate_2007": 10,
          "id": 28061,
          "rate": 0.102
         },
         {
          "Unemployment_rate_2007": 7.5,
          "id": 28063,
          "rate": 0.155
         },
         {
          "Unemployment_rate_2007": 10.9,
          "id": 28065,
          "rate": 0.106
         },
         {
          "Unemployment_rate_2007": 7.3,
          "id": 28067,
          "rate": 0.071
         },
         {
          "Unemployment_rate_2007": 14.8,
          "id": 28069,
          "rate": 0.10300000000000001
         },
         {
          "Unemployment_rate_2007": 8.9,
          "id": 28071,
          "rate": 0.069
         },
         {
          "Unemployment_rate_2007": 7.4,
          "id": 28073,
          "rate": 0.066
         },
         {
          "Unemployment_rate_2007": 5.3,
          "id": 28075,
          "rate": 0.087
         },
         {
          "Unemployment_rate_2007": 3.9,
          "id": 28077,
          "rate": 0.102
         },
         {
          "Unemployment_rate_2007": 5,
          "id": 28079,
          "rate": 0.087
         },
         {
          "Unemployment_rate_2007": 6.9,
          "id": 28081,
          "rate": 0.098
         },
         {
          "Unemployment_rate_2007": 7.1,
          "id": 28083,
          "rate": 0.11599999999999999
         },
         {
          "Unemployment_rate_2007": 7.5,
          "id": 28085,
          "rate": 0.08800000000000001
         },
         {
          "Unemployment_rate_2007": 7.2,
          "id": 28087,
          "rate": 0.102
         },
         {
          "Unemployment_rate_2007": 5.2,
          "id": 28089,
          "rate": 0.063
         },
         {
          "Unemployment_rate_2007": 5.3,
          "id": 28091,
          "rate": 0.10099999999999999
         },
         {
          "Unemployment_rate_2007": 5.5,
          "id": 28093,
          "rate": 0.11199999999999999
         },
         {
          "Unemployment_rate_2007": 10.7,
          "id": 28095,
          "rate": 0.13699999999999998
         },
         {
          "Unemployment_rate_2007": 8.8,
          "id": 28097,
          "rate": 0.127
         },
         {
          "Unemployment_rate_2007": 7.6,
          "id": 28099,
          "rate": 0.084
         },
         {
          "Unemployment_rate_2007": 7.1,
          "id": 28101,
          "rate": 0.079
         },
         {
          "Unemployment_rate_2007": 5.4,
          "id": 28103,
          "rate": 0.17600000000000002
         },
         {
          "Unemployment_rate_2007": 6,
          "id": 28105,
          "rate": 0.08
         },
         {
          "Unemployment_rate_2007": 13.1,
          "id": 28107,
          "rate": 0.11900000000000001
         },
         {
          "Unemployment_rate_2007": 7,
          "id": 28109,
          "rate": 0.083
         },
         {
          "Unemployment_rate_2007": 4.6,
          "id": 28111,
          "rate": 0.10400000000000001
         },
         {
          "Unemployment_rate_2007": 7.8,
          "id": 28113,
          "rate": 0.098
         },
         {
          "Unemployment_rate_2007": 4.7,
          "id": 28115,
          "rate": 0.087
         },
         {
          "Unemployment_rate_2007": 4.2,
          "id": 28117,
          "rate": 0.115
         },
         {
          "Unemployment_rate_2007": 6.3,
          "id": 28119,
          "rate": 0.111
         },
         {
          "Unemployment_rate_2007": 7.5,
          "id": 28121,
          "rate": 0.055999999999999994
         },
         {
          "Unemployment_rate_2007": 6.3,
          "id": 28123,
          "rate": 0.059000000000000004
         },
         {
          "Unemployment_rate_2007": 6.1,
          "id": 28125,
          "rate": 0.09
         },
         {
          "Unemployment_rate_2007": 7.9,
          "id": 28127,
          "rate": 0.08199999999999999
         },
         {
          "Unemployment_rate_2007": 6.4,
          "id": 28129,
          "rate": 0.08199999999999999
         },
         {
          "Unemployment_rate_2007": 7.4,
          "id": 28131,
          "rate": 0.07200000000000001
         },
         {
          "Unemployment_rate_2007": 4.7,
          "id": 28133,
          "rate": 0.11800000000000001
         },
         {
          "Unemployment_rate_2007": 6.3,
          "id": 28135,
          "rate": 0.099
         },
         {
          "Unemployment_rate_2007": 7.4,
          "id": 28137,
          "rate": 0.10300000000000001
         },
         {
          "Unemployment_rate_2007": 9.2,
          "id": 28139,
          "rate": 0.125
         },
         {
          "Unemployment_rate_2007": 9.1,
          "id": 28141,
          "rate": 0.10099999999999999
         },
         {
          "Unemployment_rate_2007": 5,
          "id": 28143,
          "rate": 0.13
         },
         {
          "Unemployment_rate_2007": 5.6,
          "id": 28145,
          "rate": 0.08800000000000001
         },
         {
          "Unemployment_rate_2007": 12.4,
          "id": 28147,
          "rate": 0.10300000000000001
         },
         {
          "Unemployment_rate_2007": 6.5,
          "id": 28149,
          "rate": 0.091
         },
         {
          "Unemployment_rate_2007": 7.9,
          "id": 28151,
          "rate": 0.113
         },
         {
          "Unemployment_rate_2007": 5.9,
          "id": 28153,
          "rate": 0.094
         },
         {
          "Unemployment_rate_2007": 6.7,
          "id": 28155,
          "rate": 0.135
         },
         {
          "Unemployment_rate_2007": 6.6,
          "id": 28157,
          "rate": 0.10099999999999999
         },
         {
          "Unemployment_rate_2007": 6.4,
          "id": 28159,
          "rate": 0.151
         },
         {
          "Unemployment_rate_2007": 7.5,
          "id": 28161,
          "rate": 0.129
         },
         {
          "Unemployment_rate_2007": 8.2,
          "id": 28163,
          "rate": 0.105
         },
         {
          "Unemployment_rate_2007": 3.9,
          "id": 29001,
          "rate": 0.065
         },
         {
          "Unemployment_rate_2007": 4.9,
          "id": 29003,
          "rate": 0.076
         },
         {
          "Unemployment_rate_2007": 8.2,
          "id": 29005,
          "rate": 0.079
         },
         {
          "Unemployment_rate_2007": 5.5,
          "id": 29007,
          "rate": 0.092
         },
         {
          "Unemployment_rate_2007": 5.4,
          "id": 29009,
          "rate": 0.081
         },
         {
          "Unemployment_rate_2007": 5.6,
          "id": 29011,
          "rate": 0.11699999999999999
         },
         {
          "Unemployment_rate_2007": 9.5,
          "id": 29013,
          "rate": 0.10800000000000001
         },
         {
          "Unemployment_rate_2007": 7.7,
          "id": 29015,
          "rate": 0.09300000000000001
         },
         {
          "Unemployment_rate_2007": 6,
          "id": 29017,
          "rate": 0.08800000000000001
         },
         {
          "Unemployment_rate_2007": 7,
          "id": 29019,
          "rate": 0.062
         },
         {
          "Unemployment_rate_2007": 7.9,
          "id": 29021,
          "rate": 0.087
         },
         {
          "Unemployment_rate_2007": 7.9,
          "id": 29023,
          "rate": 0.08
         },
         {
          "Unemployment_rate_2007": 6.1,
          "id": 29025,
          "rate": 0.086
         },
         {
          "Unemployment_rate_2007": 6.3,
          "id": 29027,
          "rate": 0.08
         },
         {
          "Unemployment_rate_2007": 6.1,
          "id": 29029,
          "rate": 0.079
         },
         {
          "Unemployment_rate_2007": 8.4,
          "id": 29031,
          "rate": 0.069
         },
         {
          "Unemployment_rate_2007": 6.4,
          "id": 29033,
          "rate": 0.098
         },
         {
          "Unemployment_rate_2007": 8.1,
          "id": 29035,
          "rate": 0.087
         },
         {
          "Unemployment_rate_2007": 8.4,
          "id": 29037,
          "rate": 0.09699999999999999
         },
         {
          "Unemployment_rate_2007": 6.6,
          "id": 29039,
          "rate": 0.086
         },
         {
          "Unemployment_rate_2007": 7.7,
          "id": 29041,
          "rate": 0.105
         },
         {
          "Unemployment_rate_2007": 7.6,
          "id": 29043,
          "rate": 0.08
         },
         {
          "Unemployment_rate_2007": null,
          "id": 29045,
          "rate": 0.113
         },
         {
          "Unemployment_rate_2007": 4.8,
          "id": 29047,
          "rate": 0.086
         },
         {
          "Unemployment_rate_2007": 3.9,
          "id": 29049,
          "rate": 0.087
         },
         {
          "Unemployment_rate_2007": 4.4,
          "id": 29051,
          "rate": 0.067
         },
         {
          "Unemployment_rate_2007": 4.9,
          "id": 29053,
          "rate": 0.084
         },
         {
          "Unemployment_rate_2007": 4.9,
          "id": 29055,
          "rate": 0.107
         },
         {
          "Unemployment_rate_2007": 8.7,
          "id": 29057,
          "rate": 0.10099999999999999
         },
         {
          "Unemployment_rate_2007": 6.1,
          "id": 29059,
          "rate": 0.094
         },
         {
          "Unemployment_rate_2007": 5.9,
          "id": 29061,
          "rate": 0.087
         },
         {
          "Unemployment_rate_2007": 5.4,
          "id": 29063,
          "rate": 0.09300000000000001
         },
         {
          "Unemployment_rate_2007": 3.7,
          "id": 29065,
          "rate": 0.094
         },
         {
          "Unemployment_rate_2007": 4.5,
          "id": 29067,
          "rate": 0.098
         },
         {
          "Unemployment_rate_2007": 6.6,
          "id": 29069,
          "rate": 0.111
         },
         {
          "Unemployment_rate_2007": 5.5,
          "id": 29071,
          "rate": 0.115
         },
         {
          "Unemployment_rate_2007": 4.4,
          "id": 29073,
          "rate": 0.10800000000000001
         },
         {
          "Unemployment_rate_2007": 4.9,
          "id": 29075,
          "rate": 0.068
         },
         {
          "Unemployment_rate_2007": 4.3,
          "id": 29077,
          "rate": 0.083
         },
         {
          "Unemployment_rate_2007": 5.1,
          "id": 29079,
          "rate": 0.069
         },
         {
          "Unemployment_rate_2007": 6.3,
          "id": 29081,
          "rate": 0.078
         },
         {
          "Unemployment_rate_2007": 5,
          "id": 29083,
          "rate": 0.096
         },
         {
          "Unemployment_rate_2007": 5.7,
          "id": 29085,
          "rate": 0.12300000000000001
         },
         {
          "Unemployment_rate_2007": 5.6,
          "id": 29087,
          "rate": 0.071
         },
         {
          "Unemployment_rate_2007": 3.9,
          "id": 29089,
          "rate": 0.083
         },
         {
          "Unemployment_rate_2007": 5.5,
          "id": 29091,
          "rate": 0.092
         },
         {
          "Unemployment_rate_2007": 4.3,
          "id": 29093,
          "rate": 0.087
         },
         {
          "Unemployment_rate_2007": 5.2,
          "id": 29095,
          "rate": 0.109
         },
         {
          "Unemployment_rate_2007": 3.9,
          "id": 29097,
          "rate": 0.084
         },
         {
          "Unemployment_rate_2007": 4.5,
          "id": 29099,
          "rate": 0.106
         },
         {
          "Unemployment_rate_2007": 7,
          "id": 29101,
          "rate": 0.08
         },
         {
          "Unemployment_rate_2007": 5.3,
          "id": 29103,
          "rate": 0.059000000000000004
         },
         {
          "Unemployment_rate_2007": 5.3,
          "id": 29105,
          "rate": 0.11
         },
         {
          "Unemployment_rate_2007": 4.5,
          "id": 29107,
          "rate": 0.09
         },
         {
          "Unemployment_rate_2007": 5.2,
          "id": 29109,
          "rate": 0.078
         },
         {
          "Unemployment_rate_2007": 6.7,
          "id": 29111,
          "rate": 0.083
         },
         {
          "Unemployment_rate_2007": 5.9,
          "id": 29113,
          "rate": 0.113
         },
         {
          "Unemployment_rate_2007": 8,
          "id": 29115,
          "rate": 0.10300000000000001
         },
         {
          "Unemployment_rate_2007": 5.6,
          "id": 29117,
          "rate": 0.078
         },
         {
          "Unemployment_rate_2007": 5.5,
          "id": 29119,
          "rate": 0.07
         },
         {
          "Unemployment_rate_2007": 4.1,
          "id": 29121,
          "rate": 0.079
         },
         {
          "Unemployment_rate_2007": 4,
          "id": 29123,
          "rate": 0.098
         },
         {
          "Unemployment_rate_2007": 4.8,
          "id": 29125,
          "rate": 0.087
         },
         {
          "Unemployment_rate_2007": 4.6,
          "id": 29127,
          "rate": 0.08900000000000001
         },
         {
          "Unemployment_rate_2007": 5.6,
          "id": 29129,
          "rate": 0.079
         },
         {
          "Unemployment_rate_2007": 7.5,
          "id": 29131,
          "rate": 0.106
         },
         {
          "Unemployment_rate_2007": 5,
          "id": 29133,
          "rate": 0.09699999999999999
         },
         {
          "Unemployment_rate_2007": 4.5,
          "id": 29135,
          "rate": 0.078
         },
         {
          "Unemployment_rate_2007": 4.7,
          "id": 29137,
          "rate": 0.11
         },
         {
          "Unemployment_rate_2007": 5.3,
          "id": 29139,
          "rate": 0.10300000000000001
         },
         {
          "Unemployment_rate_2007": 5.9,
          "id": 29141,
          "rate": 0.113
         },
         {
          "Unemployment_rate_2007": 4.5,
          "id": 29143,
          "rate": 0.08900000000000001
         },
         {
          "Unemployment_rate_2007": 5.2,
          "id": 29145,
          "rate": 0.079
         },
         {
          "Unemployment_rate_2007": 4.6,
          "id": 29147,
          "rate": 0.059000000000000004
         },
         {
          "Unemployment_rate_2007": 3.8,
          "id": 29149,
          "rate": 0.09
         },
         {
          "Unemployment_rate_2007": 5.6,
          "id": 29151,
          "rate": 0.099
         },
         {
          "Unemployment_rate_2007": 5.2,
          "id": 29153,
          "rate": 0.076
         },
         {
          "Unemployment_rate_2007": 4,
          "id": 29155,
          "rate": 0.121
         },
         {
          "Unemployment_rate_2007": 4,
          "id": 29157,
          "rate": 0.07200000000000001
         },
         {
          "Unemployment_rate_2007": 5.7,
          "id": 29159,
          "rate": 0.081
         },
         {
          "Unemployment_rate_2007": 6.4,
          "id": 29161,
          "rate": 0.071
         },
         {
          "Unemployment_rate_2007": 4.4,
          "id": 29163,
          "rate": 0.083
         },
         {
          "Unemployment_rate_2007": 4.1,
          "id": 29165,
          "rate": 0.08
         },
         {
          "Unemployment_rate_2007": 5,
          "id": 29167,
          "rate": 0.08900000000000001
         },
         {
          "Unemployment_rate_2007": 5.7,
          "id": 29169,
          "rate": 0.068
         },
         {
          "Unemployment_rate_2007": 5.2,
          "id": 29171,
          "rate": 0.07400000000000001
         },
         {
          "Unemployment_rate_2007": 5.3,
          "id": 29173,
          "rate": 0.08
         },
         {
          "Unemployment_rate_2007": 4.1,
          "id": 29175,
          "rate": 0.094
         },
         {
          "Unemployment_rate_2007": 5.3,
          "id": 29177,
          "rate": 0.083
         },
         {
          "Unemployment_rate_2007": 6.6,
          "id": 29179,
          "rate": 0.127
         },
         {
          "Unemployment_rate_2007": 4.6,
          "id": 29181,
          "rate": 0.095
         },
         {
          "Unemployment_rate_2007": 5.7,
          "id": 29183,
          "rate": 0.087
         },
         {
          "Unemployment_rate_2007": 5.5,
          "id": 29185,
          "rate": 0.10300000000000001
         },
         {
          "Unemployment_rate_2007": 6.2,
          "id": 29186,
          "rate": 0.09300000000000001
         },
         {
          "Unemployment_rate_2007": 6.9,
          "id": 29187,
          "rate": 0.109
         },
         {
          "Unemployment_rate_2007": 4.7,
          "id": 29189,
          "rate": 0.096
         },
         {
          "Unemployment_rate_2007": 3.7,
          "id": 29195,
          "rate": 0.079
         },
         {
          "Unemployment_rate_2007": 5.2,
          "id": 29197,
          "rate": 0.078
         },
         {
          "Unemployment_rate_2007": 4.7,
          "id": 29199,
          "rate": 0.122
         },
         {
          "Unemployment_rate_2007": 5.2,
          "id": 29201,
          "rate": 0.092
         },
         {
          "Unemployment_rate_2007": 6.6,
          "id": 29203,
          "rate": 0.096
         },
         {
          "Unemployment_rate_2007": 3.9,
          "id": 29205,
          "rate": 0.081
         },
         {
          "Unemployment_rate_2007": 5.2,
          "id": 29207,
          "rate": 0.09
         },
         {
          "Unemployment_rate_2007": 4.9,
          "id": 29209,
          "rate": 0.09
         },
         {
          "Unemployment_rate_2007": 5,
          "id": 29211,
          "rate": 0.064
         },
         {
          "Unemployment_rate_2007": 3.9,
          "id": 29213,
          "rate": 0.086
         },
         {
          "Unemployment_rate_2007": 4.8,
          "id": 29215,
          "rate": 0.08800000000000001
         },
         {
          "Unemployment_rate_2007": 5.2,
          "id": 29217,
          "rate": 0.079
         },
         {
          "Unemployment_rate_2007": 5.5,
          "id": 29219,
          "rate": 0.11199999999999999
         },
         {
          "Unemployment_rate_2007": 4.9,
          "id": 29221,
          "rate": 0.13699999999999998
         },
         {
          "Unemployment_rate_2007": 5.4,
          "id": 29223,
          "rate": 0.095
         },
         {
          "Unemployment_rate_2007": 5.3,
          "id": 29225,
          "rate": 0.09
         },
         {
          "Unemployment_rate_2007": 6.9,
          "id": 29227,
          "rate": 0.084
         },
         {
          "Unemployment_rate_2007": 6.7,
          "id": 29229,
          "rate": 0.096
         },
         {
          "Unemployment_rate_2007": 4.1,
          "id": 29510,
          "rate": 0.111
         },
         {
          "Unemployment_rate_2007": 6.5,
          "id": 30001,
          "rate": 0.044000000000000004
         },
         {
          "Unemployment_rate_2007": 4.7,
          "id": 30003,
          "rate": 0.102
         },
         {
          "Unemployment_rate_2007": 5.8,
          "id": 30005,
          "rate": 0.05
         },
         {
          "Unemployment_rate_2007": 5,
          "id": 30007,
          "rate": 0.062
         },
         {
          "Unemployment_rate_2007": 5.1,
          "id": 30009,
          "rate": 0.048
         },
         {
          "Unemployment_rate_2007": 5.7,
          "id": 30011,
          "rate": 0.039
         },
         {
          "Unemployment_rate_2007": 4.8,
          "id": 30013,
          "rate": 0.052000000000000005
         },
         {
          "Unemployment_rate_2007": 5.8,
          "id": 30015,
          "rate": 0.042
         },
         {
          "Unemployment_rate_2007": 6.9,
          "id": 30017,
          "rate": 0.046
         },
         {
          "Unemployment_rate_2007": 5,
          "id": 30019,
          "rate": 0.042
         },
         {
          "Unemployment_rate_2007": 6.4,
          "id": 30021,
          "rate": 0.048
         },
         {
          "Unemployment_rate_2007": 6.4,
          "id": 30023,
          "rate": 0.065
         },
         {
          "Unemployment_rate_2007": 6.2,
          "id": 30025,
          "rate": 0.037000000000000005
         },
         {
          "Unemployment_rate_2007": 6.8,
          "id": 30027,
          "rate": 0.047
         },
         {
          "Unemployment_rate_2007": 5.7,
          "id": 30029,
          "rate": 0.08800000000000001
         },
         {
          "Unemployment_rate_2007": 4.9,
          "id": 30031,
          "rate": 0.055
         },
         {
          "Unemployment_rate_2007": 5.4,
          "id": 30033,
          "rate": 0.034
         },
         {
          "Unemployment_rate_2007": 8.3,
          "id": 30035,
          "rate": 0.07200000000000001
         },
         {
          "Unemployment_rate_2007": 6.9,
          "id": 30037,
          "rate": 0.047
         },
         {
          "Unemployment_rate_2007": 4.8,
          "id": 30039,
          "rate": 0.08199999999999999
         },
         {
          "Unemployment_rate_2007": 4.6,
          "id": 30041,
          "rate": 0.051
         },
         {
          "Unemployment_rate_2007": 6,
          "id": 30043,
          "rate": 0.057999999999999996
         },
         {
          "Unemployment_rate_2007": 7.1,
          "id": 30045,
          "rate": 0.046
         },
         {
          "Unemployment_rate_2007": null,
          "id": 30047,
          "rate": 0.083
         },
         {
          "Unemployment_rate_2007": 2.8,
          "id": 30049,
          "rate": 0.043
         },
         {
          "Unemployment_rate_2007": 6.7,
          "id": 30051,
          "rate": 0.047
         },
         {
          "Unemployment_rate_2007": 3.8,
          "id": 30053,
          "rate": 0.111
         },
         {
          "Unemployment_rate_2007": 3.2,
          "id": 30055,
          "rate": 0.032
         },
         {
          "Unemployment_rate_2007": 2.9,
          "id": 30057,
          "rate": 0.048
         },
         {
          "Unemployment_rate_2007": 3.1,
          "id": 30059,
          "rate": 0.078
         },
         {
          "Unemployment_rate_2007": 3.5,
          "id": 30061,
          "rate": 0.086
         },
         {
          "Unemployment_rate_2007": 3.1,
          "id": 30063,
          "rate": 0.055999999999999994
         },
         {
          "Unemployment_rate_2007": 3.4,
          "id": 30065,
          "rate": 0.075
         },
         {
          "Unemployment_rate_2007": 2.7,
          "id": 30067,
          "rate": 0.061
         },
         {
          "Unemployment_rate_2007": 2.8,
          "id": 30069,
          "rate": 0.045
         },
         {
          "Unemployment_rate_2007": 4.8,
          "id": 30071,
          "rate": 0.048
         },
         {
          "Unemployment_rate_2007": 2,
          "id": 30073,
          "rate": 0.06
         },
         {
          "Unemployment_rate_2007": 4,
          "id": 30075,
          "rate": 0.04
         },
         {
          "Unemployment_rate_2007": 4,
          "id": 30077,
          "rate": 0.073
         },
         {
          "Unemployment_rate_2007": 2.6,
          "id": 30079,
          "rate": 0.031
         },
         {
          "Unemployment_rate_2007": 3,
          "id": 30081,
          "rate": 0.075
         },
         {
          "Unemployment_rate_2007": 8,
          "id": 30083,
          "rate": 0.046
         },
         {
          "Unemployment_rate_2007": 3.9,
          "id": 30085,
          "rate": 0.075
         },
         {
          "Unemployment_rate_2007": 4.8,
          "id": 30087,
          "rate": 0.073
         },
         {
          "Unemployment_rate_2007": 4.1,
          "id": 30089,
          "rate": 0.11199999999999999
         },
         {
          "Unemployment_rate_2007": 3.1,
          "id": 30091,
          "rate": 0.043
         },
         {
          "Unemployment_rate_2007": 3.7,
          "id": 30093,
          "rate": 0.055
         },
         {
          "Unemployment_rate_2007": 5.5,
          "id": 30095,
          "rate": 0.052000000000000005
         },
         {
          "Unemployment_rate_2007": 3,
          "id": 30097,
          "rate": 0.031
         },
         {
          "Unemployment_rate_2007": 2.9,
          "id": 30099,
          "rate": 0.04
         },
         {
          "Unemployment_rate_2007": 7.5,
          "id": 30101,
          "rate": 0.040999999999999995
         },
         {
          "Unemployment_rate_2007": 2.2,
          "id": 30103,
          "rate": 0.051
         },
         {
          "Unemployment_rate_2007": 2.9,
          "id": 30105,
          "rate": 0.046
         },
         {
          "Unemployment_rate_2007": 5.7,
          "id": 30107,
          "rate": 0.043
         },
         {
          "Unemployment_rate_2007": 4.7,
          "id": 30109,
          "rate": 0.040999999999999995
         },
         {
          "Unemployment_rate_2007": 3.4,
          "id": 30111,
          "rate": 0.047
         },
         {
          "Unemployment_rate_2007": 5.4,
          "id": 31001,
          "rate": 0.055999999999999994
         },
         {
          "Unemployment_rate_2007": 3.5,
          "id": 31003,
          "rate": 0.036000000000000004
         },
         {
          "Unemployment_rate_2007": 5.1,
          "id": 31005,
          "rate": 0.044000000000000004
         },
         {
          "Unemployment_rate_2007": 4.2,
          "id": 31007,
          "rate": 0.035
         },
         {
          "Unemployment_rate_2007": 4,
          "id": 31009,
          "rate": 0.052000000000000005
         },
         {
          "Unemployment_rate_2007": 3.2,
          "id": 31011,
          "rate": 0.039
         },
         {
          "Unemployment_rate_2007": 5.3,
          "id": 31013,
          "rate": 0.071
         },
         {
          "Unemployment_rate_2007": 3.5,
          "id": 31015,
          "rate": 0.036000000000000004
         },
         {
          "Unemployment_rate_2007": 4.5,
          "id": 31017,
          "rate": 0.031
         },
         {
          "Unemployment_rate_2007": 2.4,
          "id": 31019,
          "rate": 0.035
         },
         {
          "Unemployment_rate_2007": 6.3,
          "id": 31021,
          "rate": 0.057
         },
         {
          "Unemployment_rate_2007": 5.2,
          "id": 31023,
          "rate": 0.039
         },
         {
          "Unemployment_rate_2007": 6.6,
          "id": 31025,
          "rate": 0.046
         },
         {
          "Unemployment_rate_2007": 2.7,
          "id": 31027,
          "rate": 0.032
         },
         {
          "Unemployment_rate_2007": 3.6,
          "id": 31029,
          "rate": 0.03
         },
         {
          "Unemployment_rate_2007": 3.1,
          "id": 31031,
          "rate": 0.025
         },
         {
          "Unemployment_rate_2007": 1.8,
          "id": 31033,
          "rate": 0.040999999999999995
         },
         {
          "Unemployment_rate_2007": 3.1,
          "id": 31035,
          "rate": 0.043
         },
         {
          "Unemployment_rate_2007": 2.5,
          "id": 31037,
          "rate": 0.04
         },
         {
          "Unemployment_rate_2007": 3.2,
          "id": 31039,
          "rate": 0.035
         },
         {
          "Unemployment_rate_2007": 3.5,
          "id": 31041,
          "rate": 0.031
         },
         {
          "Unemployment_rate_2007": 3.4,
          "id": 31043,
          "rate": 0.055
         },
         {
          "Unemployment_rate_2007": 2.7,
          "id": 31045,
          "rate": 0.044000000000000004
         },
         {
          "Unemployment_rate_2007": 2.7,
          "id": 31047,
          "rate": 0.048
         },
         {
          "Unemployment_rate_2007": null,
          "id": 31049,
          "rate": 0.038
         },
         {
          "Unemployment_rate_2007": 2.7,
          "id": 31051,
          "rate": 0.037000000000000005
         },
         {
          "Unemployment_rate_2007": 2.8,
          "id": 31053,
          "rate": 0.049
         },
         {
          "Unemployment_rate_2007": 3.8,
          "id": 31055,
          "rate": 0.05
         },
         {
          "Unemployment_rate_2007": 2,
          "id": 31057,
          "rate": 0.04
         },
         {
          "Unemployment_rate_2007": 3.8,
          "id": 31059,
          "rate": 0.044000000000000004
         },
         {
          "Unemployment_rate_2007": 2.4,
          "id": 31061,
          "rate": 0.037000000000000005
         },
         {
          "Unemployment_rate_2007": 3.2,
          "id": 31063,
          "rate": 0.03
         },
         {
          "Unemployment_rate_2007": 3,
          "id": 31065,
          "rate": 0.040999999999999995
         },
         {
          "Unemployment_rate_2007": 2.6,
          "id": 31067,
          "rate": 0.059000000000000004
         },
         {
          "Unemployment_rate_2007": 2.2,
          "id": 31069,
          "rate": 0.044000000000000004
         },
         {
          "Unemployment_rate_2007": 4,
          "id": 31071,
          "rate": 0.025
         },
         {
          "Unemployment_rate_2007": 2.5,
          "id": 31073,
          "rate": 0.038
         },
         {
          "Unemployment_rate_2007": 3.3,
          "id": 31075,
          "rate": 0.031
         },
         {
          "Unemployment_rate_2007": 2.4,
          "id": 31077,
          "rate": 0.033
         },
         {
          "Unemployment_rate_2007": 2.5,
          "id": 31079,
          "rate": 0.044000000000000004
         },
         {
          "Unemployment_rate_2007": 2.2,
          "id": 31081,
          "rate": 0.034
         },
         {
          "Unemployment_rate_2007": 2.4,
          "id": 31083,
          "rate": 0.036000000000000004
         },
         {
          "Unemployment_rate_2007": 2.8,
          "id": 31085,
          "rate": 0.042
         },
         {
          "Unemployment_rate_2007": 2.2,
          "id": 31087,
          "rate": 0.066
         },
         {
          "Unemployment_rate_2007": 2.7,
          "id": 31089,
          "rate": 0.032
         },
         {
          "Unemployment_rate_2007": 2.1,
          "id": 31091,
          "rate": 0.04
         },
         {
          "Unemployment_rate_2007": 4,
          "id": 31093,
          "rate": 0.038
         },
         {
          "Unemployment_rate_2007": 2.7,
          "id": 31095,
          "rate": 0.046
         },
         {
          "Unemployment_rate_2007": 3,
          "id": 31097,
          "rate": 0.039
         },
         {
          "Unemployment_rate_2007": 2.9,
          "id": 31099,
          "rate": 0.038
         },
         {
          "Unemployment_rate_2007": 3.1,
          "id": 31101,
          "rate": 0.039
         },
         {
          "Unemployment_rate_2007": 3.2,
          "id": 31103,
          "rate": 0.044000000000000004
         },
         {
          "Unemployment_rate_2007": 3.4,
          "id": 31105,
          "rate": 0.043
         },
         {
          "Unemployment_rate_2007": 2.6,
          "id": 31107,
          "rate": 0.036000000000000004
         },
         {
          "Unemployment_rate_2007": 2.5,
          "id": 31109,
          "rate": 0.042
         },
         {
          "Unemployment_rate_2007": 2.8,
          "id": 31111,
          "rate": 0.04
         },
         {
          "Unemployment_rate_2007": 2.3,
          "id": 31113,
          "rate": 0.043
         },
         {
          "Unemployment_rate_2007": 3,
          "id": 31115,
          "rate": 0.032
         },
         {
          "Unemployment_rate_2007": 3.6,
          "id": 31117,
          "rate": 0.04
         },
         {
          "Unemployment_rate_2007": 2.7,
          "id": 31119,
          "rate": 0.042
         },
         {
          "Unemployment_rate_2007": 2.5,
          "id": 31121,
          "rate": 0.04
         },
         {
          "Unemployment_rate_2007": 3.2,
          "id": 31123,
          "rate": 0.040999999999999995
         },
         {
          "Unemployment_rate_2007": 2.6,
          "id": 31125,
          "rate": 0.036000000000000004
         },
         {
          "Unemployment_rate_2007": 2.7,
          "id": 31127,
          "rate": 0.054000000000000006
         },
         {
          "Unemployment_rate_2007": 2.8,
          "id": 31129,
          "rate": 0.047
         },
         {
          "Unemployment_rate_2007": 2.2,
          "id": 31131,
          "rate": 0.05
         },
         {
          "Unemployment_rate_2007": 2.6,
          "id": 31133,
          "rate": 0.040999999999999995
         },
         {
          "Unemployment_rate_2007": 3.5,
          "id": 31135,
          "rate": 0.031
         },
         {
          "Unemployment_rate_2007": 2.7,
          "id": 31137,
          "rate": 0.038
         },
         {
          "Unemployment_rate_2007": 2.6,
          "id": 31139,
          "rate": 0.036000000000000004
         },
         {
          "Unemployment_rate_2007": 2.8,
          "id": 31141,
          "rate": 0.044000000000000004
         },
         {
          "Unemployment_rate_2007": 2.8,
          "id": 31143,
          "rate": 0.042
         },
         {
          "Unemployment_rate_2007": 2.7,
          "id": 31145,
          "rate": 0.042
         },
         {
          "Unemployment_rate_2007": 2.9,
          "id": 31147,
          "rate": 0.057
         },
         {
          "Unemployment_rate_2007": 2.2,
          "id": 31149,
          "rate": 0.031
         },
         {
          "Unemployment_rate_2007": 2.5,
          "id": 31151,
          "rate": 0.04
         },
         {
          "Unemployment_rate_2007": 3.7,
          "id": 31153,
          "rate": 0.047
         },
         {
          "Unemployment_rate_2007": 2.8,
          "id": 31155,
          "rate": 0.045
         },
         {
          "Unemployment_rate_2007": 2.9,
          "id": 31157,
          "rate": 0.048
         },
         {
          "Unemployment_rate_2007": 2.8,
          "id": 31159,
          "rate": 0.037000000000000005
         },
         {
          "Unemployment_rate_2007": 2.6,
          "id": 31161,
          "rate": 0.035
         },
         {
          "Unemployment_rate_2007": 2.8,
          "id": 31163,
          "rate": 0.03
         },
         {
          "Unemployment_rate_2007": 4.2,
          "id": 31165,
          "rate": 0.038
         },
         {
          "Unemployment_rate_2007": 2,
          "id": 31167,
          "rate": 0.036000000000000004
         },
         {
          "Unemployment_rate_2007": 3.2,
          "id": 31169,
          "rate": 0.043
         },
         {
          "Unemployment_rate_2007": 2.9,
          "id": 31171,
          "rate": 0.038
         },
         {
          "Unemployment_rate_2007": 2.6,
          "id": 31173,
          "rate": 0.138
         },
         {
          "Unemployment_rate_2007": 2.5,
          "id": 31175,
          "rate": 0.028999999999999998
         },
         {
          "Unemployment_rate_2007": 3.8,
          "id": 31177,
          "rate": 0.040999999999999995
         },
         {
          "Unemployment_rate_2007": 2.6,
          "id": 31179,
          "rate": 0.038
         },
         {
          "Unemployment_rate_2007": 3,
          "id": 31181,
          "rate": 0.042
         },
         {
          "Unemployment_rate_2007": 3,
          "id": 31183,
          "rate": 0.032
         },
         {
          "Unemployment_rate_2007": 2.4,
          "id": 31185,
          "rate": 0.057
         },
         {
          "Unemployment_rate_2007": 2.3,
          "id": 32001,
          "rate": 0.099
         },
         {
          "Unemployment_rate_2007": 3,
          "id": 32003,
          "rate": 0.139
         },
         {
          "Unemployment_rate_2007": 2.4,
          "id": 32005,
          "rate": 0.126
         },
         {
          "Unemployment_rate_2007": 2.8,
          "id": 32007,
          "rate": 0.068
         },
         {
          "Unemployment_rate_2007": 2.5,
          "id": 32009,
          "rate": 0.083
         },
         {
          "Unemployment_rate_2007": 4.1,
          "id": 32011,
          "rate": 0.09300000000000001
         },
         {
          "Unemployment_rate_2007": 2.6,
          "id": 32013,
          "rate": 0.086
         },
         {
          "Unemployment_rate_2007": 2.7,
          "id": 32015,
          "rate": 0.07200000000000001
         },
         {
          "Unemployment_rate_2007": 2.9,
          "id": 32017,
          "rate": 0.094
         },
         {
          "Unemployment_rate_2007": 3.1,
          "id": 32019,
          "rate": 0.163
         },
         {
          "Unemployment_rate_2007": 3,
          "id": 32021,
          "rate": 0.105
         },
         {
          "Unemployment_rate_2007": 2.7,
          "id": 32023,
          "rate": 0.161
         },
         {
          "Unemployment_rate_2007": 2.7,
          "id": 32027,
          "rate": 0.106
         },
         {
          "Unemployment_rate_2007": 2.7,
          "id": 32029,
          "rate": 0.14800000000000002
         },
         {
          "Unemployment_rate_2007": 2.8,
          "id": 32031,
          "rate": 0.131
         },
         {
          "Unemployment_rate_2007": 3,
          "id": 32033,
          "rate": 0.084
         },
         {
          "Unemployment_rate_2007": 2.7,
          "id": 32510,
          "rate": 0.128
         },
         {
          "Unemployment_rate_2007": 3.7,
          "id": 33001,
          "rate": 0.07
         },
         {
          "Unemployment_rate_2007": 6.5,
          "id": 33003,
          "rate": 0.054000000000000006
         },
         {
          "Unemployment_rate_2007": 2.4,
          "id": 33005,
          "rate": 0.065
         },
         {
          "Unemployment_rate_2007": 2.8,
          "id": 33007,
          "rate": 0.078
         },
         {
          "Unemployment_rate_2007": 2.5,
          "id": 33009,
          "rate": 0.055999999999999994
         },
         {
          "Unemployment_rate_2007": 3.3,
          "id": 33011,
          "rate": 0.075
         },
         {
          "Unemployment_rate_2007": 2.9,
          "id": 33013,
          "rate": 0.063
         },
         {
          "Unemployment_rate_2007": 2.7,
          "id": 33015,
          "rate": 0.075
         },
         {
          "Unemployment_rate_2007": null,
          "id": 33017,
          "rate": 0.066
         },
         {
          "Unemployment_rate_2007": 4.3,
          "id": 33019,
          "rate": 0.065
         },
         {
          "Unemployment_rate_2007": 4.5,
          "id": 34001,
          "rate": 0.122
         },
         {
          "Unemployment_rate_2007": 4.8,
          "id": 34003,
          "rate": 0.084
         },
         {
          "Unemployment_rate_2007": 3.3,
          "id": 34005,
          "rate": 0.091
         },
         {
          "Unemployment_rate_2007": 3.2,
          "id": 34007,
          "rate": 0.109
         },
         {
          "Unemployment_rate_2007": 4.2,
          "id": 34009,
          "rate": 0.085
         },
         {
          "Unemployment_rate_2007": 3.6,
          "id": 34011,
          "rate": 0.126
         },
         {
          "Unemployment_rate_2007": 3.2,
          "id": 34013,
          "rate": 0.111
         },
         {
          "Unemployment_rate_2007": 4.2,
          "id": 34015,
          "rate": 0.1
         },
         {
          "Unemployment_rate_2007": 6.4,
          "id": 34017,
          "rate": 0.11599999999999999
         },
         {
          "Unemployment_rate_2007": 6.2,
          "id": 34019,
          "rate": 0.069
         },
         {
          "Unemployment_rate_2007": 6.5,
          "id": 34021,
          "rate": 0.081
         },
         {
          "Unemployment_rate_2007": 5,
          "id": 34023,
          "rate": 0.092
         },
         {
          "Unemployment_rate_2007": 4.9,
          "id": 34025,
          "rate": 0.087
         },
         {
          "Unemployment_rate_2007": 4.3,
          "id": 34027,
          "rate": 0.076
         },
         {
          "Unemployment_rate_2007": 3.6,
          "id": 34029,
          "rate": 0.096
         },
         {
          "Unemployment_rate_2007": 4.8,
          "id": 34031,
          "rate": 0.11699999999999999
         },
         {
          "Unemployment_rate_2007": null,
          "id": 34033,
          "rate": 0.10099999999999999
         },
         {
          "Unemployment_rate_2007": 3.6,
          "id": 34035,
          "rate": 0.079
         },
         {
          "Unemployment_rate_2007": 3.4,
          "id": 34037,
          "rate": 0.085
         },
         {
          "Unemployment_rate_2007": 3.5,
          "id": 34039,
          "rate": 0.098
         },
         {
          "Unemployment_rate_2007": 4.6,
          "id": 34041,
          "rate": 0.08800000000000001
         },
         {
          "Unemployment_rate_2007": 3,
          "id": 35001,
          "rate": 0.075
         },
         {
          "Unemployment_rate_2007": 3.5,
          "id": 35003,
          "rate": 0.081
         },
         {
          "Unemployment_rate_2007": 3.3,
          "id": 35005,
          "rate": 0.068
         },
         {
          "Unemployment_rate_2007": 3.8,
          "id": 35006,
          "rate": 0.063
         },
         {
          "Unemployment_rate_2007": 3.3,
          "id": 35007,
          "rate": 0.08
         },
         {
          "Unemployment_rate_2007": 3,
          "id": 35009,
          "rate": 0.044000000000000004
         },
         {
          "Unemployment_rate_2007": null,
          "id": 35011,
          "rate": 0.043
         },
         {
          "Unemployment_rate_2007": 5.9,
          "id": 35013,
          "rate": 0.069
         },
         {
          "Unemployment_rate_2007": 3.4,
          "id": 35015,
          "rate": 0.06
         },
         {
          "Unemployment_rate_2007": 3.8,
          "id": 35017,
          "rate": 0.12300000000000001
         },
         {
          "Unemployment_rate_2007": 4.8,
          "id": 35019,
          "rate": 0.075
         },
         {
          "Unemployment_rate_2007": 6.6,
          "id": 35021,
          "rate": 0.045
         },
         {
          "Unemployment_rate_2007": 6.5,
          "id": 35023,
          "rate": 0.076
         },
         {
          "Unemployment_rate_2007": 5.3,
          "id": 35025,
          "rate": 0.083
         },
         {
          "Unemployment_rate_2007": 4.3,
          "id": 35027,
          "rate": 0.051
         },
         {
          "Unemployment_rate_2007": 5,
          "id": 35028,
          "rate": 0.028999999999999998
         },
         {
          "Unemployment_rate_2007": 2.8,
          "id": 35029,
          "rate": 0.134
         },
         {
          "Unemployment_rate_2007": 3.8,
          "id": 35031,
          "rate": 0.086
         },
         {
          "Unemployment_rate_2007": 3.9,
          "id": 35033,
          "rate": 0.131
         },
         {
          "Unemployment_rate_2007": 3.7,
          "id": 35035,
          "rate": 0.068
         },
         {
          "Unemployment_rate_2007": 3,
          "id": 35037,
          "rate": 0.059000000000000004
         },
         {
          "Unemployment_rate_2007": 4.6,
          "id": 35039,
          "rate": 0.07200000000000001
         },
         {
          "Unemployment_rate_2007": 5.3,
          "id": 35041,
          "rate": 0.044000000000000004
         },
         {
          "Unemployment_rate_2007": 5,
          "id": 35043,
          "rate": 0.09
         },
         {
          "Unemployment_rate_2007": 3.1,
          "id": 35045,
          "rate": 0.083
         },
         {
          "Unemployment_rate_2007": 3.9,
          "id": 35047,
          "rate": 0.078
         },
         {
          "Unemployment_rate_2007": 4.5,
          "id": 35049,
          "rate": 0.065
         },
         {
          "Unemployment_rate_2007": 3.8,
          "id": 35051,
          "rate": 0.048
         },
         {
          "Unemployment_rate_2007": null,
          "id": 35053,
          "rate": 0.05
         },
         {
          "Unemployment_rate_2007": 3.6,
          "id": 35055,
          "rate": 0.087
         },
         {
          "Unemployment_rate_2007": 4.9,
          "id": 35057,
          "rate": 0.08800000000000001
         },
         {
          "Unemployment_rate_2007": 3.9,
          "id": 35059,
          "rate": 0.055
         },
         {
          "Unemployment_rate_2007": 4.2,
          "id": 35061,
          "rate": 0.085
         },
         {
          "Unemployment_rate_2007": 3.5,
          "id": 36001,
          "rate": 0.071
         },
         {
          "Unemployment_rate_2007": 2.8,
          "id": 36003,
          "rate": 0.079
         },
         {
          "Unemployment_rate_2007": 3.9,
          "id": 36005,
          "rate": 0.133
         },
         {
          "Unemployment_rate_2007": 4.2,
          "id": 36007,
          "rate": 0.085
         },
         {
          "Unemployment_rate_2007": 3,
          "id": 36009,
          "rate": 0.085
         },
         {
          "Unemployment_rate_2007": 3.8,
          "id": 36011,
          "rate": 0.08
         },
         {
          "Unemployment_rate_2007": 5.9,
          "id": 36013,
          "rate": 0.078
         },
         {
          "Unemployment_rate_2007": 2.8,
          "id": 36015,
          "rate": 0.08900000000000001
         },
         {
          "Unemployment_rate_2007": 3,
          "id": 36017,
          "rate": 0.087
         },
         {
          "Unemployment_rate_2007": 2.5,
          "id": 36019,
          "rate": 0.09
         },
         {
          "Unemployment_rate_2007": 3.1,
          "id": 36021,
          "rate": 0.077
         },
         {
          "Unemployment_rate_2007": 2.2,
          "id": 36023,
          "rate": 0.085
         },
         {
          "Unemployment_rate_2007": 10.1,
          "id": 36025,
          "rate": 0.084
         },
         {
          "Unemployment_rate_2007": 4.6,
          "id": 36027,
          "rate": 0.08199999999999999
         },
         {
          "Unemployment_rate_2007": 7.9,
          "id": 36029,
          "rate": 0.083
         },
         {
          "Unemployment_rate_2007": 3.8,
          "id": 36031,
          "rate": 0.078
         },
         {
          "Unemployment_rate_2007": 4.5,
          "id": 36033,
          "rate": 0.078
         },
         {
          "Unemployment_rate_2007": 4.8,
          "id": 36035,
          "rate": 0.091
         },
         {
          "Unemployment_rate_2007": 2.8,
          "id": 36037,
          "rate": 0.07200000000000001
         },
         {
          "Unemployment_rate_2007": 4.3,
          "id": 36039,
          "rate": 0.084
         },
         {
          "Unemployment_rate_2007": 3.4,
          "id": 36041,
          "rate": 0.055999999999999994
         },
         {
          "Unemployment_rate_2007": 4.2,
          "id": 36043,
          "rate": 0.076
         },
         {
          "Unemployment_rate_2007": 3,
          "id": 36045,
          "rate": 0.078
         },
         {
          "Unemployment_rate_2007": 3.5,
          "id": 36047,
          "rate": 0.11
         },
         {
          "Unemployment_rate_2007": 3.2,
          "id": 36049,
          "rate": 0.076
         },
         {
          "Unemployment_rate_2007": 4.9,
          "id": 36051,
          "rate": 0.075
         },
         {
          "Unemployment_rate_2007": 4.6,
          "id": 36053,
          "rate": 0.07400000000000001
         },
         {
          "Unemployment_rate_2007": 2.7,
          "id": 36055,
          "rate": 0.083
         },
         {
          "Unemployment_rate_2007": 3.9,
          "id": 36057,
          "rate": 0.08800000000000001
         },
         {
          "Unemployment_rate_2007": null,
          "id": 36059,
          "rate": 0.07200000000000001
         },
         {
          "Unemployment_rate_2007": 3.9,
          "id": 36061,
          "rate": 0.092
         },
         {
          "Unemployment_rate_2007": 5.5,
          "id": 36063,
          "rate": 0.08800000000000001
         },
         {
          "Unemployment_rate_2007": 6.8,
          "id": 36065,
          "rate": 0.073
         },
         {
          "Unemployment_rate_2007": 4.4,
          "id": 36067,
          "rate": 0.079
         },
         {
          "Unemployment_rate_2007": 5.1,
          "id": 36069,
          "rate": 0.067
         },
         {
          "Unemployment_rate_2007": 4.4,
          "id": 36071,
          "rate": 0.08199999999999999
         },
         {
          "Unemployment_rate_2007": 4.5,
          "id": 36073,
          "rate": 0.08199999999999999
         },
         {
          "Unemployment_rate_2007": 4.6,
          "id": 36075,
          "rate": 0.09300000000000001
         },
         {
          "Unemployment_rate_2007": 4.9,
          "id": 36077,
          "rate": 0.068
         },
         {
          "Unemployment_rate_2007": 5.6,
          "id": 36079,
          "rate": 0.07
         },
         {
          "Unemployment_rate_2007": 3.9,
          "id": 36081,
          "rate": 0.091
         },
         {
          "Unemployment_rate_2007": 5.2,
          "id": 36083,
          "rate": 0.077
         },
         {
          "Unemployment_rate_2007": 4.3,
          "id": 36085,
          "rate": 0.08900000000000001
         },
         {
          "Unemployment_rate_2007": 3.9,
          "id": 36087,
          "rate": 0.07400000000000001
         },
         {
          "Unemployment_rate_2007": 4.7,
          "id": 36089,
          "rate": 0.08900000000000001
         },
         {
          "Unemployment_rate_2007": 5.7,
          "id": 36091,
          "rate": 0.064
         },
         {
          "Unemployment_rate_2007": 5.5,
          "id": 36093,
          "rate": 0.078
         },
         {
          "Unemployment_rate_2007": 5.4,
          "id": 36095,
          "rate": 0.076
         },
         {
          "Unemployment_rate_2007": 4.5,
          "id": 36097,
          "rate": 0.07400000000000001
         },
         {
          "Unemployment_rate_2007": 4.8,
          "id": 36099,
          "rate": 0.073
         },
         {
          "Unemployment_rate_2007": 4.7,
          "id": 36101,
          "rate": 0.095
         },
         {
          "Unemployment_rate_2007": 4.9,
          "id": 36103,
          "rate": 0.075
         },
         {
          "Unemployment_rate_2007": 5.5,
          "id": 36105,
          "rate": 0.086
         },
         {
          "Unemployment_rate_2007": 5.4,
          "id": 36107,
          "rate": 0.079
         },
         {
          "Unemployment_rate_2007": 5.4,
          "id": 36109,
          "rate": 0.055999999999999994
         },
         {
          "Unemployment_rate_2007": 4.9,
          "id": 36111,
          "rate": 0.081
         },
         {
          "Unemployment_rate_2007": 4.7,
          "id": 36113,
          "rate": 0.07200000000000001
         },
         {
          "Unemployment_rate_2007": 4.4,
          "id": 36115,
          "rate": 0.07400000000000001
         },
         {
          "Unemployment_rate_2007": 5.8,
          "id": 36117,
          "rate": 0.078
         },
         {
          "Unemployment_rate_2007": 3.7,
          "id": 36119,
          "rate": 0.07400000000000001
         },
         {
          "Unemployment_rate_2007": 4.3,
          "id": 36121,
          "rate": 0.078
         },
         {
          "Unemployment_rate_2007": 5.3,
          "id": 36123,
          "rate": 0.06
         },
         {
          "Unemployment_rate_2007": 4.3,
          "id": 37001,
          "rate": 0.11800000000000001
         },
         {
          "Unemployment_rate_2007": 4.1,
          "id": 37003,
          "rate": 0.136
         },
         {
          "Unemployment_rate_2007": 4.2,
          "id": 37005,
          "rate": 0.109
         },
         {
          "Unemployment_rate_2007": 4.3,
          "id": 37007,
          "rate": 0.14800000000000002
         },
         {
          "Unemployment_rate_2007": 5.8,
          "id": 37009,
          "rate": 0.1
         },
         {
          "Unemployment_rate_2007": 5.6,
          "id": 37011,
          "rate": 0.079
         },
         {
          "Unemployment_rate_2007": 4.5,
          "id": 37013,
          "rate": 0.11199999999999999
         },
         {
          "Unemployment_rate_2007": 3.4,
          "id": 37015,
          "rate": 0.105
         },
         {
          "Unemployment_rate_2007": 4.5,
          "id": 37017,
          "rate": 0.12
         },
         {
          "Unemployment_rate_2007": 4.3,
          "id": 37019,
          "rate": 0.105
         },
         {
          "Unemployment_rate_2007": 4.6,
          "id": 37021,
          "rate": 0.08199999999999999
         },
         {
          "Unemployment_rate_2007": 3.9,
          "id": 37023,
          "rate": 0.141
         },
         {
          "Unemployment_rate_2007": 5.8,
          "id": 37025,
          "rate": 0.114
         },
         {
          "Unemployment_rate_2007": 3.7,
          "id": 37027,
          "rate": 0.152
         },
         {
          "Unemployment_rate_2007": 4.1,
          "id": 37029,
          "rate": 0.071
         },
         {
          "Unemployment_rate_2007": 5.8,
          "id": 37031,
          "rate": 0.076
         },
         {
          "Unemployment_rate_2007": 5,
          "id": 37033,
          "rate": 0.124
         },
         {
          "Unemployment_rate_2007": 4.4,
          "id": 37035,
          "rate": 0.136
         },
         {
          "Unemployment_rate_2007": 5.2,
          "id": 37037,
          "rate": 0.08
         },
         {
          "Unemployment_rate_2007": 3.9,
          "id": 37039,
          "rate": 0.142
         },
         {
          "Unemployment_rate_2007": 5.2,
          "id": 37041,
          "rate": 0.11900000000000001
         },
         {
          "Unemployment_rate_2007": 4.7,
          "id": 37043,
          "rate": 0.10800000000000001
         },
         {
          "Unemployment_rate_2007": 3.4,
          "id": 37045,
          "rate": 0.14300000000000002
         },
         {
          "Unemployment_rate_2007": 4.3,
          "id": 37047,
          "rate": 0.125
         },
         {
          "Unemployment_rate_2007": 4.5,
          "id": 37049,
          "rate": 0.1
         },
         {
          "Unemployment_rate_2007": 4.1,
          "id": 37051,
          "rate": 0.091
         },
         {
          "Unemployment_rate_2007": 4.7,
          "id": 37053,
          "rate": 0.05
         },
         {
          "Unemployment_rate_2007": 3.7,
          "id": 37055,
          "rate": 0.068
         },
         {
          "Unemployment_rate_2007": 4.9,
          "id": 37057,
          "rate": 0.125
         },
         {
          "Unemployment_rate_2007": 4.2,
          "id": 37059,
          "rate": 0.121
         },
         {
          "Unemployment_rate_2007": null,
          "id": 37061,
          "rate": 0.087
         },
         {
          "Unemployment_rate_2007": 5.1,
          "id": 37063,
          "rate": 0.08
         },
         {
          "Unemployment_rate_2007": 5.2,
          "id": 37065,
          "rate": 0.163
         },
         {
          "Unemployment_rate_2007": 5.2,
          "id": 37067,
          "rate": 0.095
         },
         {
          "Unemployment_rate_2007": 7.3,
          "id": 37069,
          "rate": 0.09699999999999999
         },
         {
          "Unemployment_rate_2007": 5,
          "id": 37071,
          "rate": 0.133
         },
         {
          "Unemployment_rate_2007": 4.7,
          "id": 37073,
          "rate": 0.071
         },
         {
          "Unemployment_rate_2007": 5.6,
          "id": 37075,
          "rate": 0.134
         },
         {
          "Unemployment_rate_2007": 5.6,
          "id": 37077,
          "rate": 0.102
         },
         {
          "Unemployment_rate_2007": 6.2,
          "id": 37079,
          "rate": 0.102
         },
         {
          "Unemployment_rate_2007": 4.5,
          "id": 37081,
          "rate": 0.11
         },
         {
          "Unemployment_rate_2007": 3.5,
          "id": 37083,
          "rate": 0.131
         },
         {
          "Unemployment_rate_2007": 6,
          "id": 37085,
          "rate": 0.109
         },
         {
          "Unemployment_rate_2007": 4.4,
          "id": 37087,
          "rate": 0.085
         },
         {
          "Unemployment_rate_2007": 7.1,
          "id": 37089,
          "rate": 0.086
         },
         {
          "Unemployment_rate_2007": 4,
          "id": 37091,
          "rate": 0.094
         },
         {
          "Unemployment_rate_2007": 4,
          "id": 37093,
          "rate": 0.083
         },
         {
          "Unemployment_rate_2007": 6.7,
          "id": 37095,
          "rate": 0.059000000000000004
         },
         {
          "Unemployment_rate_2007": 5.5,
          "id": 37097,
          "rate": 0.121
         },
         {
          "Unemployment_rate_2007": 3.8,
          "id": 37099,
          "rate": 0.078
         },
         {
          "Unemployment_rate_2007": 6.2,
          "id": 37101,
          "rate": 0.095
         },
         {
          "Unemployment_rate_2007": 6.1,
          "id": 37103,
          "rate": 0.109
         },
         {
          "Unemployment_rate_2007": 4,
          "id": 37105,
          "rate": 0.135
         },
         {
          "Unemployment_rate_2007": 6,
          "id": 37107,
          "rate": 0.114
         },
         {
          "Unemployment_rate_2007": 5.4,
          "id": 37109,
          "rate": 0.132
         },
         {
          "Unemployment_rate_2007": 4.3,
          "id": 37111,
          "rate": 0.141
         },
         {
          "Unemployment_rate_2007": 5.3,
          "id": 37113,
          "rate": 0.092
         },
         {
          "Unemployment_rate_2007": 3.2,
          "id": 37115,
          "rate": 0.09300000000000001
         },
         {
          "Unemployment_rate_2007": 4.9,
          "id": 37117,
          "rate": 0.106
         },
         {
          "Unemployment_rate_2007": 5.6,
          "id": 37119,
          "rate": 0.11
         },
         {
          "Unemployment_rate_2007": 4.9,
          "id": 37121,
          "rate": 0.11
         },
         {
          "Unemployment_rate_2007": 4.4,
          "id": 37123,
          "rate": 0.133
         },
         {
          "Unemployment_rate_2007": 3.8,
          "id": 37125,
          "rate": 0.095
         },
         {
          "Unemployment_rate_2007": 7.5,
          "id": 37127,
          "rate": 0.11900000000000001
         },
         {
          "Unemployment_rate_2007": 4.4,
          "id": 37129,
          "rate": 0.091
         },
         {
          "Unemployment_rate_2007": 4.4,
          "id": 37131,
          "rate": 0.107
         },
         {
          "Unemployment_rate_2007": 5.7,
          "id": 37133,
          "rate": 0.083
         },
         {
          "Unemployment_rate_2007": 4.3,
          "id": 37135,
          "rate": 0.063
         },
         {
          "Unemployment_rate_2007": 7.1,
          "id": 37137,
          "rate": 0.10099999999999999
         },
         {
          "Unemployment_rate_2007": 5.1,
          "id": 37139,
          "rate": 0.091
         },
         {
          "Unemployment_rate_2007": 5.4,
          "id": 37141,
          "rate": 0.10800000000000001
         },
         {
          "Unemployment_rate_2007": 4.7,
          "id": 37143,
          "rate": 0.10300000000000001
         },
         {
          "Unemployment_rate_2007": 6.4,
          "id": 37145,
          "rate": 0.10800000000000001
         },
         {
          "Unemployment_rate_2007": 4.8,
          "id": 37147,
          "rate": 0.1
         },
         {
          "Unemployment_rate_2007": 4,
          "id": 37149,
          "rate": 0.08199999999999999
         },
         {
          "Unemployment_rate_2007": 3.5,
          "id": 37151,
          "rate": 0.11
         },
         {
          "Unemployment_rate_2007": 5.2,
          "id": 37153,
          "rate": 0.132
         },
         {
          "Unemployment_rate_2007": 5.1,
          "id": 37155,
          "rate": 0.115
         },
         {
          "Unemployment_rate_2007": 5.7,
          "id": 37157,
          "rate": 0.11699999999999999
         },
         {
          "Unemployment_rate_2007": 4.6,
          "id": 37159,
          "rate": 0.128
         },
         {
          "Unemployment_rate_2007": 3.7,
          "id": 37161,
          "rate": 0.14300000000000002
         },
         {
          "Unemployment_rate_2007": 4.1,
          "id": 37163,
          "rate": 0.083
         },
         {
          "Unemployment_rate_2007": 4.4,
          "id": 37165,
          "rate": 0.165
         },
         {
          "Unemployment_rate_2007": 5.6,
          "id": 37167,
          "rate": 0.11900000000000001
         },
         {
          "Unemployment_rate_2007": 5.3,
          "id": 37169,
          "rate": 0.10099999999999999
         },
         {
          "Unemployment_rate_2007": 4.9,
          "id": 37171,
          "rate": 0.11800000000000001
         },
         {
          "Unemployment_rate_2007": 5.6,
          "id": 37173,
          "rate": 0.091
         },
         {
          "Unemployment_rate_2007": 4.1,
          "id": 37175,
          "rate": 0.085
         },
         {
          "Unemployment_rate_2007": 3.9,
          "id": 37177,
          "rate": 0.08800000000000001
         },
         {
          "Unemployment_rate_2007": 5.3,
          "id": 37179,
          "rate": 0.1
         },
         {
          "Unemployment_rate_2007": 4.5,
          "id": 37181,
          "rate": 0.13
         },
         {
          "Unemployment_rate_2007": 7.1,
          "id": 37183,
          "rate": 0.083
         },
         {
          "Unemployment_rate_2007": 6.3,
          "id": 37185,
          "rate": 0.127
         },
         {
          "Unemployment_rate_2007": 4.6,
          "id": 37187,
          "rate": 0.11699999999999999
         },
         {
          "Unemployment_rate_2007": 5.3,
          "id": 37189,
          "rate": 0.069
         },
         {
          "Unemployment_rate_2007": 3.8,
          "id": 37191,
          "rate": 0.08800000000000001
         },
         {
          "Unemployment_rate_2007": 6,
          "id": 37193,
          "rate": 0.129
         },
         {
          "Unemployment_rate_2007": 4.5,
          "id": 37195,
          "rate": 0.11900000000000001
         },
         {
          "Unemployment_rate_2007": 3.2,
          "id": 37197,
          "rate": 0.09300000000000001
         },
         {
          "Unemployment_rate_2007": 4.3,
          "id": 37199,
          "rate": 0.109
         },
         {
          "Unemployment_rate_2007": 5,
          "id": 38001,
          "rate": 0.027000000000000003
         },
         {
          "Unemployment_rate_2007": 4.2,
          "id": 38003,
          "rate": 0.034
         },
         {
          "Unemployment_rate_2007": 5.2,
          "id": 38005,
          "rate": 0.053
         },
         {
          "Unemployment_rate_2007": 6.7,
          "id": 38007,
          "rate": 0.013000000000000001
         },
         {
          "Unemployment_rate_2007": 5.1,
          "id": 38009,
          "rate": 0.028999999999999998
         },
         {
          "Unemployment_rate_2007": 3.4,
          "id": 38011,
          "rate": 0.027000000000000003
         },
         {
          "Unemployment_rate_2007": 4.7,
          "id": 38013,
          "rate": 0.022000000000000002
         },
         {
          "Unemployment_rate_2007": 7.4,
          "id": 38015,
          "rate": 0.027999999999999997
         },
         {
          "Unemployment_rate_2007": 6.2,
          "id": 38017,
          "rate": 0.037000000000000005
         },
         {
          "Unemployment_rate_2007": 6.2,
          "id": 38019,
          "rate": 0.025
         },
         {
          "Unemployment_rate_2007": 6,
          "id": 38021,
          "rate": 0.040999999999999995
         },
         {
          "Unemployment_rate_2007": 6.4,
          "id": 38023,
          "rate": 0.034
         },
         {
          "Unemployment_rate_2007": 4,
          "id": 38025,
          "rate": 0.036000000000000004
         },
         {
          "Unemployment_rate_2007": 10,
          "id": 38027,
          "rate": 0.038
         },
         {
          "Unemployment_rate_2007": 4.9,
          "id": 38029,
          "rate": 0.051
         },
         {
          "Unemployment_rate_2007": 4.4,
          "id": 38031,
          "rate": 0.027999999999999997
         },
         {
          "Unemployment_rate_2007": 5.3,
          "id": 38033,
          "rate": 0.025
         },
         {
          "Unemployment_rate_2007": 6.3,
          "id": 38035,
          "rate": 0.035
         },
         {
          "Unemployment_rate_2007": 3.7,
          "id": 38037,
          "rate": 0.032
         },
         {
          "Unemployment_rate_2007": 5.6,
          "id": 38039,
          "rate": 0.036000000000000004
         },
         {
          "Unemployment_rate_2007": 3.9,
          "id": 38041,
          "rate": 0.027000000000000003
         },
         {
          "Unemployment_rate_2007": 6.6,
          "id": 38043,
          "rate": 0.034
         },
         {
          "Unemployment_rate_2007": 3.5,
          "id": 38045,
          "rate": 0.043
         },
         {
          "Unemployment_rate_2007": 6.2,
          "id": 38047,
          "rate": 0.027000000000000003
         },
         {
          "Unemployment_rate_2007": 6.4,
          "id": 38049,
          "rate": 0.028999999999999998
         },
         {
          "Unemployment_rate_2007": 3.4,
          "id": 38051,
          "rate": 0.031
         },
         {
          "Unemployment_rate_2007": 4.5,
          "id": 38053,
          "rate": 0.022000000000000002
         },
         {
          "Unemployment_rate_2007": 5.4,
          "id": 38055,
          "rate": 0.034
         },
         {
          "Unemployment_rate_2007": 6.3,
          "id": 38057,
          "rate": 0.033
         },
         {
          "Unemployment_rate_2007": 4.3,
          "id": 38059,
          "rate": 0.03
         },
         {
          "Unemployment_rate_2007": 5.8,
          "id": 38061,
          "rate": 0.044000000000000004
         },
         {
          "Unemployment_rate_2007": null,
          "id": 38063,
          "rate": 0.028999999999999998
         },
         {
          "Unemployment_rate_2007": 2.5,
          "id": 38065,
          "rate": 0.031
         },
         {
          "Unemployment_rate_2007": 3.1,
          "id": 38067,
          "rate": 0.051
         },
         {
          "Unemployment_rate_2007": 6.6,
          "id": 38069,
          "rate": 0.04
         },
         {
          "Unemployment_rate_2007": 2.6,
          "id": 38071,
          "rate": 0.032
         },
         {
          "Unemployment_rate_2007": 3.6,
          "id": 38073,
          "rate": 0.06
         },
         {
          "Unemployment_rate_2007": 2,
          "id": 38075,
          "rate": 0.033
         },
         {
          "Unemployment_rate_2007": 2.6,
          "id": 38077,
          "rate": 0.043
         },
         {
          "Unemployment_rate_2007": 2.7,
          "id": 38079,
          "rate": 0.09699999999999999
         },
         {
          "Unemployment_rate_2007": 2.6,
          "id": 38081,
          "rate": 0.065
         },
         {
          "Unemployment_rate_2007": 3,
          "id": 38083,
          "rate": 0.037000000000000005
         },
         {
          "Unemployment_rate_2007": 2.7,
          "id": 38085,
          "rate": 0.043
         },
         {
          "Unemployment_rate_2007": 3.3,
          "id": 38087,
          "rate": 0.012
         },
         {
          "Unemployment_rate_2007": 3.8,
          "id": 38089,
          "rate": 0.027999999999999997
         },
         {
          "Unemployment_rate_2007": 5.5,
          "id": 38091,
          "rate": 0.021
         },
         {
          "Unemployment_rate_2007": 5.2,
          "id": 38093,
          "rate": 0.032
         },
         {
          "Unemployment_rate_2007": 3.4,
          "id": 38095,
          "rate": 0.026000000000000002
         },
         {
          "Unemployment_rate_2007": 2.7,
          "id": 38097,
          "rate": 0.035
         },
         {
          "Unemployment_rate_2007": 2.9,
          "id": 38099,
          "rate": 0.045
         },
         {
          "Unemployment_rate_2007": 3.6,
          "id": 38101,
          "rate": 0.027999999999999997
         },
         {
          "Unemployment_rate_2007": 2.7,
          "id": 38103,
          "rate": 0.038
         },
         {
          "Unemployment_rate_2007": 4,
          "id": 38105,
          "rate": 0.02
         },
         {
          "Unemployment_rate_2007": 4.8,
          "id": 39001,
          "rate": 0.138
         },
         {
          "Unemployment_rate_2007": 3.2,
          "id": 39003,
          "rate": 0.102
         },
         {
          "Unemployment_rate_2007": 3.6,
          "id": 39005,
          "rate": 0.114
         },
         {
          "Unemployment_rate_2007": 5,
          "id": 39007,
          "rate": 0.126
         },
         {
          "Unemployment_rate_2007": 2.8,
          "id": 39009,
          "rate": 0.086
         },
         {
          "Unemployment_rate_2007": 3.1,
          "id": 39011,
          "rate": 0.10099999999999999
         },
         {
          "Unemployment_rate_2007": 4.6,
          "id": 39013,
          "rate": 0.092
         },
         {
          "Unemployment_rate_2007": 4.1,
          "id": 39015,
          "rate": 0.11900000000000001
         },
         {
          "Unemployment_rate_2007": 3.4,
          "id": 39017,
          "rate": 0.091
         },
         {
          "Unemployment_rate_2007": 5.8,
          "id": 39019,
          "rate": 0.132
         },
         {
          "Unemployment_rate_2007": 4.1,
          "id": 39021,
          "rate": 0.114
         },
         {
          "Unemployment_rate_2007": 4.2,
          "id": 39023,
          "rate": 0.099
         },
         {
          "Unemployment_rate_2007": 5.6,
          "id": 39025,
          "rate": 0.094
         },
         {
          "Unemployment_rate_2007": 4.5,
          "id": 39027,
          "rate": 0.139
         },
         {
          "Unemployment_rate_2007": 4,
          "id": 39029,
          "rate": 0.125
         },
         {
          "Unemployment_rate_2007": 3.1,
          "id": 39031,
          "rate": 0.12300000000000001
         },
         {
          "Unemployment_rate_2007": 3,
          "id": 39033,
          "rate": 0.132
         },
         {
          "Unemployment_rate_2007": 3.3,
          "id": 39035,
          "rate": 0.085
         },
         {
          "Unemployment_rate_2007": 9.1,
          "id": 39037,
          "rate": 0.099
         },
         {
          "Unemployment_rate_2007": 3.6,
          "id": 39039,
          "rate": 0.11699999999999999
         },
         {
          "Unemployment_rate_2007": 5,
          "id": 39041,
          "rate": 0.067
         },
         {
          "Unemployment_rate_2007": 6.3,
          "id": 39043,
          "rate": 0.095
         },
         {
          "Unemployment_rate_2007": 1.6,
          "id": 39045,
          "rate": 0.08199999999999999
         },
         {
          "Unemployment_rate_2007": 2.5,
          "id": 39047,
          "rate": 0.11699999999999999
         },
         {
          "Unemployment_rate_2007": 2.3,
          "id": 39049,
          "rate": 0.08199999999999999
         },
         {
          "Unemployment_rate_2007": 2.9,
          "id": 39051,
          "rate": 0.121
         },
         {
          "Unemployment_rate_2007": 3.9,
          "id": 39053,
          "rate": 0.095
         },
         {
          "Unemployment_rate_2007": 3.3,
          "id": 39055,
          "rate": 0.065
         },
         {
          "Unemployment_rate_2007": 4.2,
          "id": 39057,
          "rate": 0.094
         },
         {
          "Unemployment_rate_2007": 3,
          "id": 39059,
          "rate": 0.10800000000000001
         },
         {
          "Unemployment_rate_2007": 4.6,
          "id": 39061,
          "rate": 0.08900000000000001
         },
         {
          "Unemployment_rate_2007": 1.9,
          "id": 39063,
          "rate": 0.091
         },
         {
          "Unemployment_rate_2007": null,
          "id": 39065,
          "rate": 0.11199999999999999
         },
         {
          "Unemployment_rate_2007": 7.7,
          "id": 39067,
          "rate": 0.106
         },
         {
          "Unemployment_rate_2007": 6.3,
          "id": 39069,
          "rate": 0.109
         },
         {
          "Unemployment_rate_2007": 6,
          "id": 39071,
          "rate": 0.153
         },
         {
          "Unemployment_rate_2007": 7,
          "id": 39073,
          "rate": 0.10400000000000001
         },
         {
          "Unemployment_rate_2007": 6.1,
          "id": 39075,
          "rate": 0.063
         },
         {
          "Unemployment_rate_2007": 4.4,
          "id": 39077,
          "rate": 0.128
         },
         {
          "Unemployment_rate_2007": 5.6,
          "id": 39079,
          "rate": 0.105
         },
         {
          "Unemployment_rate_2007": 6.5,
          "id": 39081,
          "rate": 0.127
         },
         {
          "Unemployment_rate_2007": 5.1,
          "id": 39083,
          "rate": 0.087
         },
         {
          "Unemployment_rate_2007": 6.2,
          "id": 39085,
          "rate": 0.079
         },
         {
          "Unemployment_rate_2007": 5.9,
          "id": 39087,
          "rate": 0.084
         },
         {
          "Unemployment_rate_2007": 6.2,
          "id": 39089,
          "rate": 0.08900000000000001
         },
         {
          "Unemployment_rate_2007": 5.1,
          "id": 39091,
          "rate": 0.11199999999999999
         },
         {
          "Unemployment_rate_2007": 4.8,
          "id": 39093,
          "rate": 0.091
         },
         {
          "Unemployment_rate_2007": 6.2,
          "id": 39095,
          "rate": 0.113
         },
         {
          "Unemployment_rate_2007": 6.8,
          "id": 39097,
          "rate": 0.085
         },
         {
          "Unemployment_rate_2007": 7,
          "id": 39099,
          "rate": 0.11800000000000001
         },
         {
          "Unemployment_rate_2007": 5.7,
          "id": 39101,
          "rate": 0.102
         },
         {
          "Unemployment_rate_2007": 5.6,
          "id": 39103,
          "rate": 0.075
         },
         {
          "Unemployment_rate_2007": 5.6,
          "id": 39105,
          "rate": 0.152
         },
         {
          "Unemployment_rate_2007": 4,
          "id": 39107,
          "rate": 0.078
         },
         {
          "Unemployment_rate_2007": 6,
          "id": 39109,
          "rate": 0.11
         },
         {
          "Unemployment_rate_2007": 5,
          "id": 39111,
          "rate": 0.115
         },
         {
          "Unemployment_rate_2007": 4.8,
          "id": 39113,
          "rate": 0.11
         },
         {
          "Unemployment_rate_2007": 4.7,
          "id": 39115,
          "rate": 0.146
         },
         {
          "Unemployment_rate_2007": 6.3,
          "id": 39117,
          "rate": 0.1
         },
         {
          "Unemployment_rate_2007": 6.2,
          "id": 39119,
          "rate": 0.11900000000000001
         },
         {
          "Unemployment_rate_2007": 4.5,
          "id": 39121,
          "rate": 0.14
         },
         {
          "Unemployment_rate_2007": 5.2,
          "id": 39123,
          "rate": 0.107
         },
         {
          "Unemployment_rate_2007": 6.4,
          "id": 39125,
          "rate": 0.115
         },
         {
          "Unemployment_rate_2007": 5.1,
          "id": 39127,
          "rate": 0.128
         },
         {
          "Unemployment_rate_2007": 4.5,
          "id": 39129,
          "rate": 0.10300000000000001
         },
         {
          "Unemployment_rate_2007": 6,
          "id": 39131,
          "rate": 0.147
         },
         {
          "Unemployment_rate_2007": 6.2,
          "id": 39133,
          "rate": 0.092
         },
         {
          "Unemployment_rate_2007": 6.3,
          "id": 39135,
          "rate": 0.111
         },
         {
          "Unemployment_rate_2007": 5.9,
          "id": 39137,
          "rate": 0.09
         },
         {
          "Unemployment_rate_2007": 6.4,
          "id": 39139,
          "rate": 0.11800000000000001
         },
         {
          "Unemployment_rate_2007": 4,
          "id": 39141,
          "rate": 0.115
         },
         {
          "Unemployment_rate_2007": 8.1,
          "id": 39143,
          "rate": 0.10800000000000001
         },
         {
          "Unemployment_rate_2007": 7.9,
          "id": 39145,
          "rate": 0.121
         },
         {
          "Unemployment_rate_2007": 6.4,
          "id": 39147,
          "rate": 0.12
         },
         {
          "Unemployment_rate_2007": 5.4,
          "id": 39149,
          "rate": 0.11900000000000001
         },
         {
          "Unemployment_rate_2007": 4.8,
          "id": 39151,
          "rate": 0.11
         },
         {
          "Unemployment_rate_2007": 5.2,
          "id": 39153,
          "rate": 0.096
         },
         {
          "Unemployment_rate_2007": 5.3,
          "id": 39155,
          "rate": 0.135
         },
         {
          "Unemployment_rate_2007": 5,
          "id": 39157,
          "rate": 0.102
         },
         {
          "Unemployment_rate_2007": 5.7,
          "id": 39159,
          "rate": 0.08
         },
         {
          "Unemployment_rate_2007": 6.8,
          "id": 39161,
          "rate": 0.132
         },
         {
          "Unemployment_rate_2007": 5.2,
          "id": 39163,
          "rate": 0.113
         },
         {
          "Unemployment_rate_2007": 6.2,
          "id": 39165,
          "rate": 0.085
         },
         {
          "Unemployment_rate_2007": 5.5,
          "id": 39167,
          "rate": 0.094
         },
         {
          "Unemployment_rate_2007": 4.8,
          "id": 39169,
          "rate": 0.08900000000000001
         },
         {
          "Unemployment_rate_2007": 8.9,
          "id": 39171,
          "rate": 0.141
         },
         {
          "Unemployment_rate_2007": 3.8,
          "id": 39173,
          "rate": 0.1
         },
         {
          "Unemployment_rate_2007": 5.4,
          "id": 39175,
          "rate": 0.11199999999999999
         },
         {
          "Unemployment_rate_2007": 8.2,
          "id": 40001,
          "rate": 0.076
         },
         {
          "Unemployment_rate_2007": 6.2,
          "id": 40003,
          "rate": 0.055
         },
         {
          "Unemployment_rate_2007": 9.3,
          "id": 40005,
          "rate": 0.084
         },
         {
          "Unemployment_rate_2007": 5.8,
          "id": 40007,
          "rate": 0.033
         },
         {
          "Unemployment_rate_2007": 7.8,
          "id": 40009,
          "rate": 0.059000000000000004
         },
         {
          "Unemployment_rate_2007": 7.4,
          "id": 40011,
          "rate": 0.057
         },
         {
          "Unemployment_rate_2007": 7.2,
          "id": 40013,
          "rate": 0.052000000000000005
         },
         {
          "Unemployment_rate_2007": 5,
          "id": 40015,
          "rate": 0.061
         },
         {
          "Unemployment_rate_2007": 7.3,
          "id": 40017,
          "rate": 0.055
         },
         {
          "Unemployment_rate_2007": 6.1,
          "id": 40019,
          "rate": 0.057
         },
         {
          "Unemployment_rate_2007": 9.5,
          "id": 40021,
          "rate": 0.055999999999999994
         },
         {
          "Unemployment_rate_2007": 5.3,
          "id": 40023,
          "rate": 0.076
         },
         {
          "Unemployment_rate_2007": 5.8,
          "id": 40025,
          "rate": 0.035
         },
         {
          "Unemployment_rate_2007": 4.8,
          "id": 40027,
          "rate": 0.052000000000000005
         },
         {
          "Unemployment_rate_2007": 6.5,
          "id": 40029,
          "rate": 0.08800000000000001
         },
         {
          "Unemployment_rate_2007": 6.9,
          "id": 40031,
          "rate": 0.051
         },
         {
          "Unemployment_rate_2007": 6.1,
          "id": 40033,
          "rate": 0.04
         },
         {
          "Unemployment_rate_2007": 7.4,
          "id": 40035,
          "rate": 0.055
         },
         {
          "Unemployment_rate_2007": 5.7,
          "id": 40037,
          "rate": 0.081
         },
         {
          "Unemployment_rate_2007": 4.8,
          "id": 40039,
          "rate": 0.049
         },
         {
          "Unemployment_rate_2007": 5.8,
          "id": 40041,
          "rate": 0.06
         },
         {
          "Unemployment_rate_2007": 5.4,
          "id": 40043,
          "rate": 0.046
         },
         {
          "Unemployment_rate_2007": 6.2,
          "id": 40045,
          "rate": 0.045
         },
         {
          "Unemployment_rate_2007": 5.4,
          "id": 40047,
          "rate": 0.045
         },
         {
          "Unemployment_rate_2007": 4.3,
          "id": 40049,
          "rate": 0.059000000000000004
         },
         {
          "Unemployment_rate_2007": 5.5,
          "id": 40051,
          "rate": 0.07400000000000001
         },
         {
          "Unemployment_rate_2007": 7.9,
          "id": 40053,
          "rate": 0.042
         },
         {
          "Unemployment_rate_2007": 4.6,
          "id": 40055,
          "rate": 0.079
         },
         {
          "Unemployment_rate_2007": 5.2,
          "id": 40057,
          "rate": 0.069
         },
         {
          "Unemployment_rate_2007": 4.8,
          "id": 40059,
          "rate": 0.043
         },
         {
          "Unemployment_rate_2007": 6,
          "id": 40061,
          "rate": 0.084
         },
         {
          "Unemployment_rate_2007": 5.3,
          "id": 40063,
          "rate": 0.107
         },
         {
          "Unemployment_rate_2007": 6.5,
          "id": 40065,
          "rate": 0.048
         },
         {
          "Unemployment_rate_2007": null,
          "id": 40067,
          "rate": 0.086
         },
         {
          "Unemployment_rate_2007": 4.7,
          "id": 40069,
          "rate": 0.07
         },
         {
          "Unemployment_rate_2007": 4.4,
          "id": 40071,
          "rate": 0.081
         },
         {
          "Unemployment_rate_2007": 5.4,
          "id": 40073,
          "rate": 0.043
         },
         {
          "Unemployment_rate_2007": 2.7,
          "id": 40075,
          "rate": 0.062
         },
         {
          "Unemployment_rate_2007": 2.4,
          "id": 40077,
          "rate": 0.10400000000000001
         },
         {
          "Unemployment_rate_2007": 4.2,
          "id": 40079,
          "rate": 0.087
         },
         {
          "Unemployment_rate_2007": 3.5,
          "id": 40081,
          "rate": 0.067
         },
         {
          "Unemployment_rate_2007": 5,
          "id": 40083,
          "rate": 0.055999999999999994
         },
         {
          "Unemployment_rate_2007": 3.8,
          "id": 40085,
          "rate": 0.054000000000000006
         },
         {
          "Unemployment_rate_2007": 3.4,
          "id": 40087,
          "rate": 0.055999999999999994
         },
         {
          "Unemployment_rate_2007": 4.1,
          "id": 40089,
          "rate": 0.11599999999999999
         },
         {
          "Unemployment_rate_2007": 5.3,
          "id": 40091,
          "rate": 0.08199999999999999
         },
         {
          "Unemployment_rate_2007": 3.8,
          "id": 40093,
          "rate": 0.045
         },
         {
          "Unemployment_rate_2007": 3.7,
          "id": 40095,
          "rate": 0.075
         },
         {
          "Unemployment_rate_2007": 6.2,
          "id": 40097,
          "rate": 0.081
         },
         {
          "Unemployment_rate_2007": 4.3,
          "id": 40099,
          "rate": 0.047
         },
         {
          "Unemployment_rate_2007": 2.7,
          "id": 40101,
          "rate": 0.081
         },
         {
          "Unemployment_rate_2007": 4.6,
          "id": 40103,
          "rate": 0.077
         },
         {
          "Unemployment_rate_2007": 4.4,
          "id": 40105,
          "rate": 0.09300000000000001
         },
         {
          "Unemployment_rate_2007": 3,
          "id": 40107,
          "rate": 0.08900000000000001
         },
         {
          "Unemployment_rate_2007": 4.6,
          "id": 40109,
          "rate": 0.061
         },
         {
          "Unemployment_rate_2007": 3.1,
          "id": 40111,
          "rate": 0.085
         },
         {
          "Unemployment_rate_2007": 2.5,
          "id": 40113,
          "rate": 0.07400000000000001
         },
         {
          "Unemployment_rate_2007": 2.9,
          "id": 40115,
          "rate": 0.062
         },
         {
          "Unemployment_rate_2007": 3.3,
          "id": 40117,
          "rate": 0.08199999999999999
         },
         {
          "Unemployment_rate_2007": 4.4,
          "id": 40119,
          "rate": 0.063
         },
         {
          "Unemployment_rate_2007": 3.2,
          "id": 40121,
          "rate": 0.065
         },
         {
          "Unemployment_rate_2007": 4.9,
          "id": 40123,
          "rate": 0.051
         },
         {
          "Unemployment_rate_2007": 3.4,
          "id": 40125,
          "rate": 0.065
         },
         {
          "Unemployment_rate_2007": 2.8,
          "id": 40127,
          "rate": 0.08900000000000001
         },
         {
          "Unemployment_rate_2007": 4.1,
          "id": 40129,
          "rate": 0.045
         },
         {
          "Unemployment_rate_2007": 6.1,
          "id": 40131,
          "rate": 0.07200000000000001
         },
         {
          "Unemployment_rate_2007": 3.4,
          "id": 40133,
          "rate": 0.092
         },
         {
          "Unemployment_rate_2007": 4.9,
          "id": 40135,
          "rate": 0.087
         },
         {
          "Unemployment_rate_2007": 4.3,
          "id": 40137,
          "rate": 0.084
         },
         {
          "Unemployment_rate_2007": 4.2,
          "id": 40139,
          "rate": 0.038
         },
         {
          "Unemployment_rate_2007": 2.6,
          "id": 40141,
          "rate": 0.055999999999999994
         },
         {
          "Unemployment_rate_2007": 4.4,
          "id": 40143,
          "rate": 0.068
         },
         {
          "Unemployment_rate_2007": 5,
          "id": 40145,
          "rate": 0.066
         },
         {
          "Unemployment_rate_2007": 5.5,
          "id": 40147,
          "rate": 0.059000000000000004
         },
         {
          "Unemployment_rate_2007": 4.2,
          "id": 40149,
          "rate": 0.063
         },
         {
          "Unemployment_rate_2007": 3.9,
          "id": 40151,
          "rate": 0.042
         },
         {
          "Unemployment_rate_2007": 3.1,
          "id": 40153,
          "rate": 0.065
         },
         {
          "Unemployment_rate_2007": 3.8,
          "id": 41001,
          "rate": 0.085
         },
         {
          "Unemployment_rate_2007": 6.4,
          "id": 41003,
          "rate": 0.075
         },
         {
          "Unemployment_rate_2007": 5.4,
          "id": 41005,
          "rate": 0.10400000000000001
         },
         {
          "Unemployment_rate_2007": 2.8,
          "id": 41007,
          "rate": 0.08199999999999999
         },
         {
          "Unemployment_rate_2007": 4.3,
          "id": 41009,
          "rate": 0.126
         },
         {
          "Unemployment_rate_2007": 4.3,
          "id": 41011,
          "rate": 0.11699999999999999
         },
         {
          "Unemployment_rate_2007": 2.9,
          "id": 41013,
          "rate": 0.161
         },
         {
          "Unemployment_rate_2007": 5.5,
          "id": 41015,
          "rate": 0.11199999999999999
         },
         {
          "Unemployment_rate_2007": 3.4,
          "id": 41017,
          "rate": 0.135
         },
         {
          "Unemployment_rate_2007": 5,
          "id": 41019,
          "rate": 0.14
         },
         {
          "Unemployment_rate_2007": 5,
          "id": 41021,
          "rate": 0.055999999999999994
         },
         {
          "Unemployment_rate_2007": 4.4,
          "id": 41023,
          "rate": 0.099
         },
         {
          "Unemployment_rate_2007": 5.5,
          "id": 41025,
          "rate": 0.15
         },
         {
          "Unemployment_rate_2007": 4.2,
          "id": 41027,
          "rate": 0.066
         },
         {
          "Unemployment_rate_2007": 4.9,
          "id": 41029,
          "rate": 0.115
         },
         {
          "Unemployment_rate_2007": 4.5,
          "id": 41031,
          "rate": 0.129
         },
         {
          "Unemployment_rate_2007": 3.7,
          "id": 41033,
          "rate": 0.133
         },
         {
          "Unemployment_rate_2007": 3.9,
          "id": 41035,
          "rate": 0.12
         },
         {
          "Unemployment_rate_2007": 3.6,
          "id": 41037,
          "rate": 0.10099999999999999
         },
         {
          "Unemployment_rate_2007": 4.2,
          "id": 41039,
          "rate": 0.115
         },
         {
          "Unemployment_rate_2007": 4.9,
          "id": 41041,
          "rate": 0.094
         },
         {
          "Unemployment_rate_2007": 2.7,
          "id": 41043,
          "rate": 0.136
         },
         {
          "Unemployment_rate_2007": 3.8,
          "id": 41045,
          "rate": 0.09300000000000001
         },
         {
          "Unemployment_rate_2007": 5.5,
          "id": 41047,
          "rate": 0.10300000000000001
         },
         {
          "Unemployment_rate_2007": 5.8,
          "id": 41049,
          "rate": 0.07400000000000001
         },
         {
          "Unemployment_rate_2007": 3.6,
          "id": 41051,
          "rate": 0.109
         },
         {
          "Unemployment_rate_2007": 3.1,
          "id": 41053,
          "rate": 0.09300000000000001
         },
         {
          "Unemployment_rate_2007": 4.7,
          "id": 41055,
          "rate": 0.076
         },
         {
          "Unemployment_rate_2007": 3.9,
          "id": 41057,
          "rate": 0.08199999999999999
         },
         {
          "Unemployment_rate_2007": 3.8,
          "id": 41059,
          "rate": 0.078
         },
         {
          "Unemployment_rate_2007": 3.5,
          "id": 41061,
          "rate": 0.102
         },
         {
          "Unemployment_rate_2007": 3,
          "id": 41063,
          "rate": 0.087
         },
         {
          "Unemployment_rate_2007": 5.9,
          "id": 41065,
          "rate": 0.08
         },
         {
          "Unemployment_rate_2007": 2.6,
          "id": 41067,
          "rate": 0.096
         },
         {
          "Unemployment_rate_2007": null,
          "id": 41069,
          "rate": 0.067
         },
         {
          "Unemployment_rate_2007": 5.8,
          "id": 41071,
          "rate": 0.11
         },
         {
          "Unemployment_rate_2007": 4.1,
          "id": 42001,
          "rate": 0.07400000000000001
         },
         {
          "Unemployment_rate_2007": 4.6,
          "id": 42003,
          "rate": 0.07200000000000001
         },
         {
          "Unemployment_rate_2007": 4.7,
          "id": 42005,
          "rate": 0.08
         },
         {
          "Unemployment_rate_2007": 5.7,
          "id": 42007,
          "rate": 0.084
         },
         {
          "Unemployment_rate_2007": 6.6,
          "id": 42009,
          "rate": 0.109
         },
         {
          "Unemployment_rate_2007": 6.2,
          "id": 42011,
          "rate": 0.091
         },
         {
          "Unemployment_rate_2007": 6.5,
          "id": 42013,
          "rate": 0.07400000000000001
         },
         {
          "Unemployment_rate_2007": 5,
          "id": 42015,
          "rate": 0.076
         },
         {
          "Unemployment_rate_2007": 7.7,
          "id": 42017,
          "rate": 0.073
         },
         {
          "Unemployment_rate_2007": 4.5,
          "id": 42019,
          "rate": 0.071
         },
         {
          "Unemployment_rate_2007": 8,
          "id": 42021,
          "rate": 0.08800000000000001
         },
         {
          "Unemployment_rate_2007": 7.3,
          "id": 42023,
          "rate": 0.16699999999999998
         },
         {
          "Unemployment_rate_2007": 4.5,
          "id": 42025,
          "rate": 0.1
         },
         {
          "Unemployment_rate_2007": 5.6,
          "id": 42027,
          "rate": 0.055999999999999994
         },
         {
          "Unemployment_rate_2007": 6.7,
          "id": 42029,
          "rate": 0.063
         },
         {
          "Unemployment_rate_2007": 7,
          "id": 42031,
          "rate": 0.083
         },
         {
          "Unemployment_rate_2007": 6.9,
          "id": 42033,
          "rate": 0.098
         },
         {
          "Unemployment_rate_2007": 7.3,
          "id": 42035,
          "rate": 0.08199999999999999
         },
         {
          "Unemployment_rate_2007": 5.2,
          "id": 42037,
          "rate": 0.08199999999999999
         },
         {
          "Unemployment_rate_2007": 5.5,
          "id": 42039,
          "rate": 0.10099999999999999
         },
         {
          "Unemployment_rate_2007": 6.3,
          "id": 42041,
          "rate": 0.068
         },
         {
          "Unemployment_rate_2007": 5.6,
          "id": 42043,
          "rate": 0.081
         },
         {
          "Unemployment_rate_2007": 5.4,
          "id": 42045,
          "rate": 0.079
         },
         {
          "Unemployment_rate_2007": 5.4,
          "id": 42047,
          "rate": 0.129
         },
         {
          "Unemployment_rate_2007": 4.9,
          "id": 42049,
          "rate": 0.092
         },
         {
          "Unemployment_rate_2007": 4.9,
          "id": 42051,
          "rate": 0.091
         },
         {
          "Unemployment_rate_2007": 4.8,
          "id": 42053,
          "rate": 0.102
         },
         {
          "Unemployment_rate_2007": 4.9,
          "id": 42055,
          "rate": 0.086
         },
         {
          "Unemployment_rate_2007": 5.8,
          "id": 42057,
          "rate": 0.14300000000000002
         },
         {
          "Unemployment_rate_2007": 5.5,
          "id": 42059,
          "rate": 0.078
         },
         {
          "Unemployment_rate_2007": 6.1,
          "id": 42061,
          "rate": 0.102
         },
         {
          "Unemployment_rate_2007": 4.9,
          "id": 42063,
          "rate": 0.078
         },
         {
          "Unemployment_rate_2007": 4.3,
          "id": 42065,
          "rate": 0.095
         },
         {
          "Unemployment_rate_2007": 5.6,
          "id": 42067,
          "rate": 0.076
         },
         {
          "Unemployment_rate_2007": 5,
          "id": 42069,
          "rate": 0.083
         },
         {
          "Unemployment_rate_2007": null,
          "id": 42071,
          "rate": 0.075
         },
         {
          "Unemployment_rate_2007": 3.3,
          "id": 42073,
          "rate": 0.08900000000000001
         },
         {
          "Unemployment_rate_2007": 4.1,
          "id": 42075,
          "rate": 0.07
         },
         {
          "Unemployment_rate_2007": 5,
          "id": 42077,
          "rate": 0.09300000000000001
         },
         {
          "Unemployment_rate_2007": 4.5,
          "id": 42079,
          "rate": 0.092
         },
         {
          "Unemployment_rate_2007": 5.6,
          "id": 42081,
          "rate": 0.09300000000000001
         },
         {
          "Unemployment_rate_2007": 4.2,
          "id": 42083,
          "rate": 0.1
         },
         {
          "Unemployment_rate_2007": 4.2,
          "id": 42085,
          "rate": 0.113
         },
         {
          "Unemployment_rate_2007": 4.7,
          "id": 42087,
          "rate": 0.10400000000000001
         },
         {
          "Unemployment_rate_2007": 3.8,
          "id": 42089,
          "rate": 0.09
         },
         {
          "Unemployment_rate_2007": 4,
          "id": 42091,
          "rate": 0.07
         },
         {
          "Unemployment_rate_2007": 5.3,
          "id": 42093,
          "rate": 0.059000000000000004
         },
         {
          "Unemployment_rate_2007": 6,
          "id": 42095,
          "rate": 0.08800000000000001
         },
         {
          "Unemployment_rate_2007": 5.4,
          "id": 42097,
          "rate": 0.094
         },
         {
          "Unemployment_rate_2007": 3.5,
          "id": 42099,
          "rate": 0.081
         },
         {
          "Unemployment_rate_2007": 3.1,
          "id": 42101,
          "rate": 0.11
         },
         {
          "Unemployment_rate_2007": 4.8,
          "id": 42103,
          "rate": 0.086
         },
         {
          "Unemployment_rate_2007": 5.5,
          "id": 42105,
          "rate": 0.10300000000000001
         },
         {
          "Unemployment_rate_2007": 5.2,
          "id": 42107,
          "rate": 0.10099999999999999
         },
         {
          "Unemployment_rate_2007": 5,
          "id": 42109,
          "rate": 0.086
         },
         {
          "Unemployment_rate_2007": 4.9,
          "id": 42111,
          "rate": 0.085
         },
         {
          "Unemployment_rate_2007": 3.3,
          "id": 42113,
          "rate": 0.079
         },
         {
          "Unemployment_rate_2007": 3.9,
          "id": 42115,
          "rate": 0.078
         },
         {
          "Unemployment_rate_2007": 4.1,
          "id": 42117,
          "rate": 0.078
         },
         {
          "Unemployment_rate_2007": 4.7,
          "id": 42119,
          "rate": 0.08800000000000001
         },
         {
          "Unemployment_rate_2007": 4.8,
          "id": 42121,
          "rate": 0.087
         },
         {
          "Unemployment_rate_2007": 5.7,
          "id": 42123,
          "rate": 0.073
         },
         {
          "Unemployment_rate_2007": 6.6,
          "id": 42125,
          "rate": 0.079
         },
         {
          "Unemployment_rate_2007": 3.4,
          "id": 42127,
          "rate": 0.066
         },
         {
          "Unemployment_rate_2007": 5.6,
          "id": 42129,
          "rate": 0.078
         },
         {
          "Unemployment_rate_2007": 5,
          "id": 42131,
          "rate": 0.069
         },
         {
          "Unemployment_rate_2007": 5.2,
          "id": 42133,
          "rate": 0.084
         },
         {
          "Unemployment_rate_2007": 4.7,
          "id": 44001,
          "rate": 0.111
         },
         {
          "Unemployment_rate_2007": 4.6,
          "id": 44003,
          "rate": 0.11900000000000001
         },
         {
          "Unemployment_rate_2007": 4.2,
          "id": 44005,
          "rate": 0.1
         },
         {
          "Unemployment_rate_2007": 4.8,
          "id": 44007,
          "rate": 0.135
         },
         {
          "Unemployment_rate_2007": 3.4,
          "id": 44009,
          "rate": 0.092
         },
         {
          "Unemployment_rate_2007": 5.2,
          "id": 45001,
          "rate": 0.14800000000000002
         },
         {
          "Unemployment_rate_2007": 3.5,
          "id": 45003,
          "rate": 0.094
         },
         {
          "Unemployment_rate_2007": 4.4,
          "id": 45005,
          "rate": 0.225
         },
         {
          "Unemployment_rate_2007": 5,
          "id": 45007,
          "rate": 0.125
         },
         {
          "Unemployment_rate_2007": 4.9,
          "id": 45009,
          "rate": 0.18100000000000002
         },
         {
          "Unemployment_rate_2007": 5,
          "id": 45011,
          "rate": 0.19
         },
         {
          "Unemployment_rate_2007": 5.5,
          "id": 45013,
          "rate": 0.087
         },
         {
          "Unemployment_rate_2007": 5.2,
          "id": 45015,
          "rate": 0.107
         },
         {
          "Unemployment_rate_2007": 4.9,
          "id": 45017,
          "rate": 0.14400000000000002
         },
         {
          "Unemployment_rate_2007": 3.5,
          "id": 45019,
          "rate": 0.09
         },
         {
          "Unemployment_rate_2007": 3.9,
          "id": 45021,
          "rate": 0.162
         },
         {
          "Unemployment_rate_2007": 4.4,
          "id": 45023,
          "rate": 0.21100000000000002
         },
         {
          "Unemployment_rate_2007": 5.1,
          "id": 45025,
          "rate": 0.168
         },
         {
          "Unemployment_rate_2007": 4.1,
          "id": 45027,
          "rate": 0.161
         },
         {
          "Unemployment_rate_2007": 6.1,
          "id": 45029,
          "rate": 0.142
         },
         {
          "Unemployment_rate_2007": 5.4,
          "id": 45031,
          "rate": 0.13
         },
         {
          "Unemployment_rate_2007": 7.2,
          "id": 45033,
          "rate": 0.172
         },
         {
          "Unemployment_rate_2007": 5,
          "id": 45035,
          "rate": 0.10300000000000001
         },
         {
          "Unemployment_rate_2007": 4.6,
          "id": 45037,
          "rate": 0.107
         },
         {
          "Unemployment_rate_2007": 5.5,
          "id": 45039,
          "rate": 0.129
         },
         {
          "Unemployment_rate_2007": 4.6,
          "id": 45041,
          "rate": 0.11699999999999999
         },
         {
          "Unemployment_rate_2007": 4.3,
          "id": 45043,
          "rate": 0.125
         },
         {
          "Unemployment_rate_2007": 5.5,
          "id": 45045,
          "rate": 0.102
         },
         {
          "Unemployment_rate_2007": 5.3,
          "id": 45047,
          "rate": 0.13699999999999998
         },
         {
          "Unemployment_rate_2007": 4.9,
          "id": 45049,
          "rate": 0.161
         },
         {
          "Unemployment_rate_2007": 4.6,
          "id": 45051,
          "rate": 0.109
         },
         {
          "Unemployment_rate_2007": 4.6,
          "id": 45053,
          "rate": 0.107
         },
         {
          "Unemployment_rate_2007": 4.2,
          "id": 45055,
          "rate": 0.10400000000000001
         },
         {
          "Unemployment_rate_2007": 4.6,
          "id": 45057,
          "rate": 0.179
         },
         {
          "Unemployment_rate_2007": 5.3,
          "id": 45059,
          "rate": 0.11699999999999999
         },
         {
          "Unemployment_rate_2007": 3.8,
          "id": 45061,
          "rate": 0.157
         },
         {
          "Unemployment_rate_2007": null,
          "id": 45063,
          "rate": 0.083
         },
         {
          "Unemployment_rate_2007": 4.5,
          "id": 45065,
          "rate": 0.157
         },
         {
          "Unemployment_rate_2007": 5,
          "id": 45067,
          "rate": 0.21
         },
         {
          "Unemployment_rate_2007": 4.5,
          "id": 45069,
          "rate": 0.20199999999999999
         },
         {
          "Unemployment_rate_2007": 5.6,
          "id": 45071,
          "rate": 0.11699999999999999
         },
         {
          "Unemployment_rate_2007": 4.3,
          "id": 45073,
          "rate": 0.142
         },
         {
          "Unemployment_rate_2007": null,
          "id": 45075,
          "rate": 0.187
         },
         {
          "Unemployment_rate_2007": 8.1,
          "id": 45077,
          "rate": 0.106
         },
         {
          "Unemployment_rate_2007": 5.4,
          "id": 45079,
          "rate": 0.095
         },
         {
          "Unemployment_rate_2007": 10.3,
          "id": 45081,
          "rate": 0.094
         },
         {
          "Unemployment_rate_2007": 5.8,
          "id": 45083,
          "rate": 0.122
         },
         {
          "Unemployment_rate_2007": 9.1,
          "id": 45085,
          "rate": 0.139
         },
         {
          "Unemployment_rate_2007": 9.3,
          "id": 45087,
          "rate": 0.20600000000000002
         },
         {
          "Unemployment_rate_2007": 4.4,
          "id": 45089,
          "rate": 0.154
         },
         {
          "Unemployment_rate_2007": 4.8,
          "id": 45091,
          "rate": 0.141
         },
         {
          "Unemployment_rate_2007": 6.3,
          "id": 46003,
          "rate": 0.04
         },
         {
          "Unemployment_rate_2007": 4.4,
          "id": 46005,
          "rate": 0.03
         },
         {
          "Unemployment_rate_2007": 6.8,
          "id": 46007,
          "rate": 0.06
         },
         {
          "Unemployment_rate_2007": 10.9,
          "id": 46009,
          "rate": 0.049
         },
         {
          "Unemployment_rate_2007": 7.7,
          "id": 46011,
          "rate": 0.032
         },
         {
          "Unemployment_rate_2007": 8.4,
          "id": 46013,
          "rate": 0.031
         },
         {
          "Unemployment_rate_2007": 6.1,
          "id": 46015,
          "rate": 0.027000000000000003
         },
         {
          "Unemployment_rate_2007": 6.5,
          "id": 46017,
          "rate": 0.172
         },
         {
          "Unemployment_rate_2007": 9.1,
          "id": 46019,
          "rate": 0.039
         },
         {
          "Unemployment_rate_2007": 4.4,
          "id": 46021,
          "rate": 0.045
         },
         {
          "Unemployment_rate_2007": 6.3,
          "id": 46023,
          "rate": 0.048
         },
         {
          "Unemployment_rate_2007": 8.5,
          "id": 46025,
          "rate": 0.047
         },
         {
          "Unemployment_rate_2007": 6.1,
          "id": 46027,
          "rate": 0.037000000000000005
         },
         {
          "Unemployment_rate_2007": 6.2,
          "id": 46029,
          "rate": 0.057999999999999996
         },
         {
          "Unemployment_rate_2007": 4.7,
          "id": 46031,
          "rate": 0.055999999999999994
         },
         {
          "Unemployment_rate_2007": 6.9,
          "id": 46033,
          "rate": 0.03
         },
         {
          "Unemployment_rate_2007": 6.7,
          "id": 46035,
          "rate": 0.043
         },
         {
          "Unemployment_rate_2007": 5,
          "id": 46037,
          "rate": 0.053
         },
         {
          "Unemployment_rate_2007": 4.6,
          "id": 46039,
          "rate": 0.048
         },
         {
          "Unemployment_rate_2007": 5.4,
          "id": 46041,
          "rate": 0.10400000000000001
         },
         {
          "Unemployment_rate_2007": 9.6,
          "id": 46043,
          "rate": 0.031
         },
         {
          "Unemployment_rate_2007": 7.2,
          "id": 46045,
          "rate": 0.027000000000000003
         },
         {
          "Unemployment_rate_2007": 8.1,
          "id": 46047,
          "rate": 0.049
         },
         {
          "Unemployment_rate_2007": 4.1,
          "id": 46049,
          "rate": 0.031
         },
         {
          "Unemployment_rate_2007": 10,
          "id": 46051,
          "rate": 0.035
         },
         {
          "Unemployment_rate_2007": 11.5,
          "id": 46053,
          "rate": 0.031
         },
         {
          "Unemployment_rate_2007": 11.9,
          "id": 46055,
          "rate": 0.036000000000000004
         },
         {
          "Unemployment_rate_2007": 5.6,
          "id": 46057,
          "rate": 0.051
         },
         {
          "Unemployment_rate_2007": 6.9,
          "id": 46059,
          "rate": 0.027999999999999997
         },
         {
          "Unemployment_rate_2007": 8.1,
          "id": 46061,
          "rate": 0.03
         },
         {
          "Unemployment_rate_2007": 5.1,
          "id": 46063,
          "rate": 0.023
         },
         {
          "Unemployment_rate_2007": 5.2,
          "id": 46065,
          "rate": 0.027000000000000003
         },
         {
          "Unemployment_rate_2007": 5.3,
          "id": 46067,
          "rate": 0.039
         },
         {
          "Unemployment_rate_2007": 5.6,
          "id": 46069,
          "rate": 0.036000000000000004
         },
         {
          "Unemployment_rate_2007": 7,
          "id": 46071,
          "rate": 0.062
         },
         {
          "Unemployment_rate_2007": 9,
          "id": 46073,
          "rate": 0.026000000000000002
         },
         {
          "Unemployment_rate_2007": 9,
          "id": 46075,
          "rate": 0.024
         },
         {
          "Unemployment_rate_2007": 5.4,
          "id": 46077,
          "rate": 0.051
         },
         {
          "Unemployment_rate_2007": null,
          "id": 46079,
          "rate": 0.057999999999999996
         },
         {
          "Unemployment_rate_2007": 2.9,
          "id": 46081,
          "rate": 0.038
         },
         {
          "Unemployment_rate_2007": 2.4,
          "id": 46083,
          "rate": 0.039
         },
         {
          "Unemployment_rate_2007": 4,
          "id": 46085,
          "rate": 0.057
         },
         {
          "Unemployment_rate_2007": 3.8,
          "id": 46087,
          "rate": 0.045
         },
         {
          "Unemployment_rate_2007": 2.2,
          "id": 46089,
          "rate": 0.05
         },
         {
          "Unemployment_rate_2007": 2.3,
          "id": 46091,
          "rate": 0.047
         },
         {
          "Unemployment_rate_2007": 2.6,
          "id": 46093,
          "rate": 0.04
         },
         {
          "Unemployment_rate_2007": 11,
          "id": 46095,
          "rate": 0.068
         },
         {
          "Unemployment_rate_2007": 2.7,
          "id": 46097,
          "rate": 0.057
         },
         {
          "Unemployment_rate_2007": 3.1,
          "id": 46099,
          "rate": 0.047
         },
         {
          "Unemployment_rate_2007": 3.3,
          "id": 46101,
          "rate": 0.061
         },
         {
          "Unemployment_rate_2007": 3.6,
          "id": 46103,
          "rate": 0.044000000000000004
         },
         {
          "Unemployment_rate_2007": 2.5,
          "id": 46105,
          "rate": 0.039
         },
         {
          "Unemployment_rate_2007": 2.6,
          "id": 46107,
          "rate": 0.032
         },
         {
          "Unemployment_rate_2007": 5.6,
          "id": 46109,
          "rate": 0.048
         },
         {
          "Unemployment_rate_2007": 2.8,
          "id": 46111,
          "rate": 0.038
         },
         {
          "Unemployment_rate_2007": 2.4,
          "id": 46113,
          "rate": 0.126
         },
         {
          "Unemployment_rate_2007": 4.8,
          "id": 46115,
          "rate": 0.034
         },
         {
          "Unemployment_rate_2007": 3.5,
          "id": 46117,
          "rate": 0.021
         },
         {
          "Unemployment_rate_2007": 9.6,
          "id": 46119,
          "rate": 0.024
         },
         {
          "Unemployment_rate_2007": 2.5,
          "id": 46121,
          "rate": 0.084
         },
         {
          "Unemployment_rate_2007": 2.5,
          "id": 46123,
          "rate": 0.028999999999999998
         },
         {
          "Unemployment_rate_2007": 3.2,
          "id": 46125,
          "rate": 0.044000000000000004
         },
         {
          "Unemployment_rate_2007": 3.1,
          "id": 46127,
          "rate": 0.053
         },
         {
          "Unemployment_rate_2007": 3.4,
          "id": 46129,
          "rate": 0.04
         },
         {
          "Unemployment_rate_2007": 3.2,
          "id": 46135,
          "rate": 0.053
         },
         {
          "Unemployment_rate_2007": 2.5,
          "id": 46137,
          "rate": 0.078
         },
         {
          "Unemployment_rate_2007": 2.8,
          "id": 47001,
          "rate": 0.09699999999999999
         },
         {
          "Unemployment_rate_2007": 2.7,
          "id": 47003,
          "rate": 0.121
         },
         {
          "Unemployment_rate_2007": 3,
          "id": 47005,
          "rate": 0.128
         },
         {
          "Unemployment_rate_2007": 2.5,
          "id": 47007,
          "rate": 0.13699999999999998
         },
         {
          "Unemployment_rate_2007": 2.3,
          "id": 47009,
          "rate": 0.09300000000000001
         },
         {
          "Unemployment_rate_2007": 3,
          "id": 47011,
          "rate": 0.09300000000000001
         },
         {
          "Unemployment_rate_2007": 3.3,
          "id": 47013,
          "rate": 0.131
         },
         {
          "Unemployment_rate_2007": 5.3,
          "id": 47015,
          "rate": 0.10800000000000001
         },
         {
          "Unemployment_rate_2007": 2.4,
          "id": 47017,
          "rate": 0.16399999999999998
         },
         {
          "Unemployment_rate_2007": 2.1,
          "id": 47019,
          "rate": 0.098
         },
         {
          "Unemployment_rate_2007": 2.8,
          "id": 47021,
          "rate": 0.094
         },
         {
          "Unemployment_rate_2007": 2.9,
          "id": 47023,
          "rate": 0.115
         },
         {
          "Unemployment_rate_2007": 2.5,
          "id": 47025,
          "rate": 0.111
         },
         {
          "Unemployment_rate_2007": 2.3,
          "id": 47027,
          "rate": 0.126
         },
         {
          "Unemployment_rate_2007": 4.3,
          "id": 47029,
          "rate": 0.122
         },
         {
          "Unemployment_rate_2007": 2.7,
          "id": 47031,
          "rate": 0.102
         },
         {
          "Unemployment_rate_2007": 4.2,
          "id": 47033,
          "rate": 0.134
         },
         {
          "Unemployment_rate_2007": 4.2,
          "id": 47035,
          "rate": 0.10800000000000001
         },
         {
          "Unemployment_rate_2007": 2.8,
          "id": 47037,
          "rate": 0.092
         },
         {
          "Unemployment_rate_2007": 4.4,
          "id": 47039,
          "rate": 0.142
         },
         {
          "Unemployment_rate_2007": 3.5,
          "id": 47041,
          "rate": 0.102
         },
         {
          "Unemployment_rate_2007": 2.5,
          "id": 47043,
          "rate": 0.098
         },
         {
          "Unemployment_rate_2007": 3.7,
          "id": 47045,
          "rate": 0.14
         },
         {
          "Unemployment_rate_2007": null,
          "id": 47047,
          "rate": 0.10800000000000001
         },
         {
          "Unemployment_rate_2007": 2.7,
          "id": 47049,
          "rate": 0.13
         },
         {
          "Unemployment_rate_2007": 2.9,
          "id": 47051,
          "rate": 0.10400000000000001
         },
         {
          "Unemployment_rate_2007": 2.9,
          "id": 47053,
          "rate": 0.157
         },
         {
          "Unemployment_rate_2007": 4,
          "id": 47055,
          "rate": 0.14
         },
         {
          "Unemployment_rate_2007": 2.4,
          "id": 47057,
          "rate": 0.135
         },
         {
          "Unemployment_rate_2007": 3.2,
          "id": 47059,
          "rate": 0.14300000000000002
         },
         {
          "Unemployment_rate_2007": 2.3,
          "id": 47061,
          "rate": 0.13
         },
         {
          "Unemployment_rate_2007": 2.2,
          "id": 47063,
          "rate": 0.125
         },
         {
          "Unemployment_rate_2007": 5.7,
          "id": 47065,
          "rate": 0.087
         },
         {
          "Unemployment_rate_2007": 2.9,
          "id": 47067,
          "rate": 0.183
         },
         {
          "Unemployment_rate_2007": 3,
          "id": 47069,
          "rate": 0.127
         },
         {
          "Unemployment_rate_2007": 3,
          "id": 47071,
          "rate": 0.111
         },
         {
          "Unemployment_rate_2007": 3.9,
          "id": 47073,
          "rate": 0.10300000000000001
         },
         {
          "Unemployment_rate_2007": 2.6,
          "id": 47075,
          "rate": 0.18
         },
         {
          "Unemployment_rate_2007": 5.9,
          "id": 47077,
          "rate": 0.18100000000000002
         },
         {
          "Unemployment_rate_2007": null,
          "id": 47079,
          "rate": 0.131
         },
         {
          "Unemployment_rate_2007": 4.2,
          "id": 47081,
          "rate": 0.124
         },
         {
          "Unemployment_rate_2007": 4.8,
          "id": 47083,
          "rate": 0.11599999999999999
         },
         {
          "Unemployment_rate_2007": 6.1,
          "id": 47085,
          "rate": 0.11900000000000001
         },
         {
          "Unemployment_rate_2007": 5.8,
          "id": 47087,
          "rate": 0.127
         },
         {
          "Unemployment_rate_2007": 3.9,
          "id": 47089,
          "rate": 0.11800000000000001
         },
         {
          "Unemployment_rate_2007": 4.5,
          "id": 47091,
          "rate": 0.122
         },
         {
          "Unemployment_rate_2007": 5.3,
          "id": 47093,
          "rate": 0.081
         },
         {
          "Unemployment_rate_2007": 4.8,
          "id": 47095,
          "rate": 0.107
         },
         {
          "Unemployment_rate_2007": 6.3,
          "id": 47097,
          "rate": 0.18899999999999997
         },
         {
          "Unemployment_rate_2007": 4.9,
          "id": 47099,
          "rate": 0.146
         },
         {
          "Unemployment_rate_2007": 3.8,
          "id": 47101,
          "rate": 0.149
         },
         {
          "Unemployment_rate_2007": 5.3,
          "id": 47103,
          "rate": 0.069
         },
         {
          "Unemployment_rate_2007": 5.4,
          "id": 47105,
          "rate": 0.095
         },
         {
          "Unemployment_rate_2007": 7.9,
          "id": 47107,
          "rate": 0.13
         },
         {
          "Unemployment_rate_2007": 6.3,
          "id": 47109,
          "rate": 0.127
         },
         {
          "Unemployment_rate_2007": 4.5,
          "id": 47111,
          "rate": 0.11199999999999999
         },
         {
          "Unemployment_rate_2007": 6.1,
          "id": 47113,
          "rate": 0.11
         },
         {
          "Unemployment_rate_2007": 5.5,
          "id": 47115,
          "rate": 0.121
         },
         {
          "Unemployment_rate_2007": 3.8,
          "id": 47117,
          "rate": 0.163
         },
         {
          "Unemployment_rate_2007": 5.6,
          "id": 47119,
          "rate": 0.11900000000000001
         },
         {
          "Unemployment_rate_2007": 4.4,
          "id": 47121,
          "rate": 0.136
         },
         {
          "Unemployment_rate_2007": 4.2,
          "id": 47123,
          "rate": 0.161
         },
         {
          "Unemployment_rate_2007": 5,
          "id": 47125,
          "rate": 0.09
         },
         {
          "Unemployment_rate_2007": 6.1,
          "id": 47127,
          "rate": 0.09699999999999999
         },
         {
          "Unemployment_rate_2007": 6.3,
          "id": 47129,
          "rate": 0.11599999999999999
         },
         {
          "Unemployment_rate_2007": 4.9,
          "id": 47131,
          "rate": 0.10400000000000001
         },
         {
          "Unemployment_rate_2007": 6.9,
          "id": 47133,
          "rate": 0.12
         },
         {
          "Unemployment_rate_2007": 6.2,
          "id": 47135,
          "rate": 0.17600000000000002
         },
         {
          "Unemployment_rate_2007": 5.3,
          "id": 47137,
          "rate": 0.134
         },
         {
          "Unemployment_rate_2007": 6.9,
          "id": 47139,
          "rate": 0.114
         },
         {
          "Unemployment_rate_2007": 5.9,
          "id": 47141,
          "rate": 0.09699999999999999
         },
         {
          "Unemployment_rate_2007": 4.7,
          "id": 47143,
          "rate": 0.127
         },
         {
          "Unemployment_rate_2007": 3.9,
          "id": 47145,
          "rate": 0.08900000000000001
         },
         {
          "Unemployment_rate_2007": 5.6,
          "id": 47147,
          "rate": 0.10099999999999999
         },
         {
          "Unemployment_rate_2007": 6.5,
          "id": 47149,
          "rate": 0.095
         },
         {
          "Unemployment_rate_2007": 5.4,
          "id": 47151,
          "rate": 0.184
         },
         {
          "Unemployment_rate_2007": 4.6,
          "id": 47153,
          "rate": 0.128
         },
         {
          "Unemployment_rate_2007": 7,
          "id": 47155,
          "rate": 0.092
         },
         {
          "Unemployment_rate_2007": 6.5,
          "id": 47157,
          "rate": 0.102
         },
         {
          "Unemployment_rate_2007": 6.2,
          "id": 47159,
          "rate": 0.128
         },
         {
          "Unemployment_rate_2007": 5.4,
          "id": 47161,
          "rate": 0.111
         },
         {
          "Unemployment_rate_2007": 5.4,
          "id": 47163,
          "rate": 0.08800000000000001
         },
         {
          "Unemployment_rate_2007": 5.5,
          "id": 47165,
          "rate": 0.09699999999999999
         },
         {
          "Unemployment_rate_2007": 6.8,
          "id": 47167,
          "rate": 0.11599999999999999
         },
         {
          "Unemployment_rate_2007": 5.1,
          "id": 47169,
          "rate": 0.12
         },
         {
          "Unemployment_rate_2007": 5.6,
          "id": 47171,
          "rate": 0.10300000000000001
         },
         {
          "Unemployment_rate_2007": 3.4,
          "id": 47173,
          "rate": 0.107
         },
         {
          "Unemployment_rate_2007": 5.8,
          "id": 47175,
          "rate": 0.142
         },
         {
          "Unemployment_rate_2007": 6.6,
          "id": 47177,
          "rate": 0.125
         },
         {
          "Unemployment_rate_2007": 8.1,
          "id": 47179,
          "rate": 0.086
         },
         {
          "Unemployment_rate_2007": 7.3,
          "id": 47181,
          "rate": 0.129
         },
         {
          "Unemployment_rate_2007": 3.6,
          "id": 47183,
          "rate": 0.13
         },
         {
          "Unemployment_rate_2007": 3.9,
          "id": 47185,
          "rate": 0.135
         },
         {
          "Unemployment_rate_2007": 5.5,
          "id": 47187,
          "rate": 0.075
         },
         {
          "Unemployment_rate_2007": 6,
          "id": 47189,
          "rate": 0.09
         },
         {
          "Unemployment_rate_2007": 6,
          "id": 48001,
          "rate": 0.094
         },
         {
          "Unemployment_rate_2007": 4.9,
          "id": 48003,
          "rate": 0.076
         },
         {
          "Unemployment_rate_2007": 5.9,
          "id": 48005,
          "rate": 0.08900000000000001
         },
         {
          "Unemployment_rate_2007": 7.5,
          "id": 48007,
          "rate": 0.073
         },
         {
          "Unemployment_rate_2007": 7.8,
          "id": 48009,
          "rate": 0.065
         },
         {
          "Unemployment_rate_2007": 6.2,
          "id": 48011,
          "rate": 0.051
         },
         {
          "Unemployment_rate_2007": 5.9,
          "id": 48013,
          "rate": 0.079
         },
         {
          "Unemployment_rate_2007": 4.7,
          "id": 48015,
          "rate": 0.084
         },
         {
          "Unemployment_rate_2007": 4.1,
          "id": 48017,
          "rate": 0.052000000000000005
         },
         {
          "Unemployment_rate_2007": 5.8,
          "id": 48019,
          "rate": 0.068
         },
         {
          "Unemployment_rate_2007": 5.5,
          "id": 48021,
          "rate": 0.08
         },
         {
          "Unemployment_rate_2007": 7.2,
          "id": 48023,
          "rate": 0.051
         },
         {
          "Unemployment_rate_2007": 7.6,
          "id": 48025,
          "rate": 0.10300000000000001
         },
         {
          "Unemployment_rate_2007": 8.1,
          "id": 48027,
          "rate": 0.071
         },
         {
          "Unemployment_rate_2007": 5,
          "id": 48029,
          "rate": 0.07200000000000001
         },
         {
          "Unemployment_rate_2007": 4.5,
          "id": 48031,
          "rate": 0.057999999999999996
         },
         {
          "Unemployment_rate_2007": 5.8,
          "id": 48033,
          "rate": 0.062
         },
         {
          "Unemployment_rate_2007": 4.4,
          "id": 48035,
          "rate": 0.086
         },
         {
          "Unemployment_rate_2007": 4.4,
          "id": 48037,
          "rate": 0.078
         },
         {
          "Unemployment_rate_2007": 3.7,
          "id": 48039,
          "rate": 0.08900000000000001
         },
         {
          "Unemployment_rate_2007": 7,
          "id": 48041,
          "rate": 0.062
         },
         {
          "Unemployment_rate_2007": 4.8,
          "id": 48043,
          "rate": 0.051
         },
         {
          "Unemployment_rate_2007": 5,
          "id": 48045,
          "rate": 0.059000000000000004
         },
         {
          "Unemployment_rate_2007": 5.1,
          "id": 48047,
          "rate": 0.099
         },
         {
          "Unemployment_rate_2007": 5.3,
          "id": 48049,
          "rate": 0.07200000000000001
         },
         {
          "Unemployment_rate_2007": 6.1,
          "id": 48051,
          "rate": 0.07400000000000001
         },
         {
          "Unemployment_rate_2007": 4,
          "id": 48053,
          "rate": 0.063
         },
         {
          "Unemployment_rate_2007": 4.1,
          "id": 48055,
          "rate": 0.08199999999999999
         },
         {
          "Unemployment_rate_2007": 5.1,
          "id": 48057,
          "rate": 0.095
         },
         {
          "Unemployment_rate_2007": 5.7,
          "id": 48059,
          "rate": 0.063
         },
         {
          "Unemployment_rate_2007": 5.2,
          "id": 48061,
          "rate": 0.10800000000000001
         },
         {
          "Unemployment_rate_2007": 4.4,
          "id": 48063,
          "rate": 0.096
         },
         {
          "Unemployment_rate_2007": 5.9,
          "id": 48065,
          "rate": 0.067
         },
         {
          "Unemployment_rate_2007": 6.4,
          "id": 48067,
          "rate": 0.125
         },
         {
          "Unemployment_rate_2007": 4,
          "id": 48069,
          "rate": 0.053
         },
         {
          "Unemployment_rate_2007": 7.4,
          "id": 48071,
          "rate": 0.107
         },
         {
          "Unemployment_rate_2007": 6.5,
          "id": 48073,
          "rate": 0.09699999999999999
         },
         {
          "Unemployment_rate_2007": 6,
          "id": 48075,
          "rate": 0.064
         },
         {
          "Unemployment_rate_2007": 3.7,
          "id": 48077,
          "rate": 0.07400000000000001
         },
         {
          "Unemployment_rate_2007": 4,
          "id": 48079,
          "rate": 0.07200000000000001
         },
         {
          "Unemployment_rate_2007": null,
          "id": 48081,
          "rate": 0.086
         },
         {
          "Unemployment_rate_2007": 5,
          "id": 48083,
          "rate": 0.069
         },
         {
          "Unemployment_rate_2007": 3.2,
          "id": 48085,
          "rate": 0.078
         },
         {
          "Unemployment_rate_2007": 4.3,
          "id": 48087,
          "rate": 0.059000000000000004
         },
         {
          "Unemployment_rate_2007": 4,
          "id": 48089,
          "rate": 0.066
         },
         {
          "Unemployment_rate_2007": 3.2,
          "id": 48091,
          "rate": 0.066
         },
         {
          "Unemployment_rate_2007": 3.4,
          "id": 48093,
          "rate": 0.061
         },
         {
          "Unemployment_rate_2007": 4.1,
          "id": 48095,
          "rate": 0.08199999999999999
         },
         {
          "Unemployment_rate_2007": 3.7,
          "id": 48097,
          "rate": 0.065
         },
         {
          "Unemployment_rate_2007": 4.3,
          "id": 48099,
          "rate": 0.087
         },
         {
          "Unemployment_rate_2007": 3.8,
          "id": 48101,
          "rate": 0.055999999999999994
         },
         {
          "Unemployment_rate_2007": 4.1,
          "id": 48103,
          "rate": 0.095
         },
         {
          "Unemployment_rate_2007": 3.8,
          "id": 48105,
          "rate": 0.09699999999999999
         },
         {
          "Unemployment_rate_2007": 5.9,
          "id": 48107,
          "rate": 0.07
         },
         {
          "Unemployment_rate_2007": 4.4,
          "id": 48109,
          "rate": 0.045
         },
         {
          "Unemployment_rate_2007": 4.1,
          "id": 48111,
          "rate": 0.044000000000000004
         },
         {
          "Unemployment_rate_2007": 3.3,
          "id": 48113,
          "rate": 0.087
         },
         {
          "Unemployment_rate_2007": 4,
          "id": 48115,
          "rate": 0.087
         },
         {
          "Unemployment_rate_2007": 4.2,
          "id": 48117,
          "rate": 0.057999999999999996
         },
         {
          "Unemployment_rate_2007": 4.7,
          "id": 48119,
          "rate": 0.084
         },
         {
          "Unemployment_rate_2007": 4.4,
          "id": 48121,
          "rate": 0.077
         },
         {
          "Unemployment_rate_2007": 3.6,
          "id": 48123,
          "rate": 0.083
         },
         {
          "Unemployment_rate_2007": 3.3,
          "id": 48125,
          "rate": 0.06
         },
         {
          "Unemployment_rate_2007": 4.2,
          "id": 48127,
          "rate": 0.11
         },
         {
          "Unemployment_rate_2007": 5.3,
          "id": 48129,
          "rate": 0.07
         },
         {
          "Unemployment_rate_2007": 4.1,
          "id": 48131,
          "rate": 0.125
         },
         {
          "Unemployment_rate_2007": 3.8,
          "id": 48133,
          "rate": 0.084
         },
         {
          "Unemployment_rate_2007": 3.4,
          "id": 48135,
          "rate": 0.092
         },
         {
          "Unemployment_rate_2007": 4.4,
          "id": 48137,
          "rate": 0.067
         },
         {
          "Unemployment_rate_2007": 4.4,
          "id": 48139,
          "rate": 0.086
         },
         {
          "Unemployment_rate_2007": 3.4,
          "id": 48141,
          "rate": 0.098
         },
         {
          "Unemployment_rate_2007": 5.9,
          "id": 48143,
          "rate": 0.071
         },
         {
          "Unemployment_rate_2007": 4.5,
          "id": 48145,
          "rate": 0.095
         },
         {
          "Unemployment_rate_2007": 3.1,
          "id": 48147,
          "rate": 0.09
         },
         {
          "Unemployment_rate_2007": 5.3,
          "id": 48149,
          "rate": 0.057
         },
         {
          "Unemployment_rate_2007": 3.7,
          "id": 48151,
          "rate": 0.064
         },
         {
          "Unemployment_rate_2007": 4.6,
          "id": 48153,
          "rate": 0.069
         },
         {
          "Unemployment_rate_2007": 4.8,
          "id": 48155,
          "rate": 0.057
         },
         {
          "Unemployment_rate_2007": 4.8,
          "id": 48157,
          "rate": 0.083
         },
         {
          "Unemployment_rate_2007": 3.5,
          "id": 48159,
          "rate": 0.073
         },
         {
          "Unemployment_rate_2007": 4.9,
          "id": 48161,
          "rate": 0.067
         },
         {
          "Unemployment_rate_2007": 5.5,
          "id": 48163,
          "rate": 0.084
         },
         {
          "Unemployment_rate_2007": 3.5,
          "id": 48165,
          "rate": 0.068
         },
         {
          "Unemployment_rate_2007": 3.8,
          "id": 48167,
          "rate": 0.085
         },
         {
          "Unemployment_rate_2007": 3.3,
          "id": 48169,
          "rate": 0.057
         },
         {
          "Unemployment_rate_2007": 3.6,
          "id": 48171,
          "rate": 0.049
         },
         {
          "Unemployment_rate_2007": 3.6,
          "id": 48173,
          "rate": 0.052000000000000005
         },
         {
          "Unemployment_rate_2007": 3.8,
          "id": 48175,
          "rate": 0.079
         },
         {
          "Unemployment_rate_2007": 4.9,
          "id": 48177,
          "rate": 0.061
         },
         {
          "Unemployment_rate_2007": 3.5,
          "id": 48179,
          "rate": 0.08900000000000001
         },
         {
          "Unemployment_rate_2007": 5.9,
          "id": 48181,
          "rate": 0.087
         },
         {
          "Unemployment_rate_2007": 4,
          "id": 48183,
          "rate": 0.08
         },
         {
          "Unemployment_rate_2007": 4,
          "id": 48185,
          "rate": 0.1
         },
         {
          "Unemployment_rate_2007": 2.9,
          "id": 48187,
          "rate": 0.067
         },
         {
          "Unemployment_rate_2007": 4.7,
          "id": 48189,
          "rate": 0.064
         },
         {
          "Unemployment_rate_2007": 2.7,
          "id": 48191,
          "rate": 0.08900000000000001
         },
         {
          "Unemployment_rate_2007": 2.8,
          "id": 48193,
          "rate": 0.06
         },
         {
          "Unemployment_rate_2007": 4.6,
          "id": 48195,
          "rate": 0.055
         },
         {
          "Unemployment_rate_2007": 5.2,
          "id": 48197,
          "rate": 0.07200000000000001
         },
         {
          "Unemployment_rate_2007": 3.5,
          "id": 48199,
          "rate": 0.10099999999999999
         },
         {
          "Unemployment_rate_2007": 4.7,
          "id": 48201,
          "rate": 0.085
         },
         {
          "Unemployment_rate_2007": 3.8,
          "id": 48203,
          "rate": 0.087
         },
         {
          "Unemployment_rate_2007": 3.9,
          "id": 48205,
          "rate": 0.043
         },
         {
          "Unemployment_rate_2007": 3.8,
          "id": 48207,
          "rate": 0.052000000000000005
         },
         {
          "Unemployment_rate_2007": 6.2,
          "id": 48209,
          "rate": 0.068
         },
         {
          "Unemployment_rate_2007": 4.3,
          "id": 48211,
          "rate": 0.03
         },
         {
          "Unemployment_rate_2007": 4.9,
          "id": 48213,
          "rate": 0.085
         },
         {
          "Unemployment_rate_2007": 4.3,
          "id": 48215,
          "rate": 0.11599999999999999
         },
         {
          "Unemployment_rate_2007": 3.3,
          "id": 48217,
          "rate": 0.085
         },
         {
          "Unemployment_rate_2007": 3.9,
          "id": 48219,
          "rate": 0.07
         },
         {
          "Unemployment_rate_2007": 4.3,
          "id": 48221,
          "rate": 0.076
         },
         {
          "Unemployment_rate_2007": 5.8,
          "id": 48223,
          "rate": 0.065
         },
         {
          "Unemployment_rate_2007": 3.6,
          "id": 48225,
          "rate": 0.10300000000000001
         },
         {
          "Unemployment_rate_2007": 5.2,
          "id": 48227,
          "rate": 0.075
         },
         {
          "Unemployment_rate_2007": 5.1,
          "id": 48229,
          "rate": 0.065
         },
         {
          "Unemployment_rate_2007": 3.2,
          "id": 48231,
          "rate": 0.085
         },
         {
          "Unemployment_rate_2007": 3.9,
          "id": 48233,
          "rate": 0.08
         },
         {
          "Unemployment_rate_2007": 5.1,
          "id": 48235,
          "rate": 0.054000000000000006
         },
         {
          "Unemployment_rate_2007": 3.6,
          "id": 48237,
          "rate": 0.064
         },
         {
          "Unemployment_rate_2007": 4,
          "id": 48239,
          "rate": 0.076
         },
         {
          "Unemployment_rate_2007": 3.8,
          "id": 48241,
          "rate": 0.11900000000000001
         },
         {
          "Unemployment_rate_2007": 3.6,
          "id": 48243,
          "rate": 0.055999999999999994
         },
         {
          "Unemployment_rate_2007": 4.8,
          "id": 48245,
          "rate": 0.10800000000000001
         },
         {
          "Unemployment_rate_2007": 3.7,
          "id": 48247,
          "rate": 0.1
         },
         {
          "Unemployment_rate_2007": 4.6,
          "id": 48249,
          "rate": 0.1
         },
         {
          "Unemployment_rate_2007": 3.4,
          "id": 48251,
          "rate": 0.091
         },
         {
          "Unemployment_rate_2007": 2.8,
          "id": 48253,
          "rate": 0.08199999999999999
         },
         {
          "Unemployment_rate_2007": 3.5,
          "id": 48255,
          "rate": 0.105
         },
         {
          "Unemployment_rate_2007": 3.8,
          "id": 48257,
          "rate": 0.08800000000000001
         },
         {
          "Unemployment_rate_2007": 3.8,
          "id": 48259,
          "rate": 0.06
         },
         {
          "Unemployment_rate_2007": 3.4,
          "id": 48261,
          "rate": 0.061
         },
         {
          "Unemployment_rate_2007": 4.6,
          "id": 48263,
          "rate": 0.062
         },
         {
          "Unemployment_rate_2007": 3.8,
          "id": 48265,
          "rate": 0.06
         },
         {
          "Unemployment_rate_2007": 4.6,
          "id": 48267,
          "rate": 0.054000000000000006
         },
         {
          "Unemployment_rate_2007": 3.7,
          "id": 48269,
          "rate": 0.054000000000000006
         },
         {
          "Unemployment_rate_2007": 4.6,
          "id": 48271,
          "rate": 0.08900000000000001
         },
         {
          "Unemployment_rate_2007": 5.3,
          "id": 48273,
          "rate": 0.077
         },
         {
          "Unemployment_rate_2007": 3.5,
          "id": 48275,
          "rate": 0.064
         },
         {
          "Unemployment_rate_2007": 3,
          "id": 48277,
          "rate": 0.078
         },
         {
          "Unemployment_rate_2007": 3.6,
          "id": 48279,
          "rate": 0.066
         },
         {
          "Unemployment_rate_2007": 4.6,
          "id": 48281,
          "rate": 0.061
         },
         {
          "Unemployment_rate_2007": 4.2,
          "id": 48283,
          "rate": 0.099
         },
         {
          "Unemployment_rate_2007": 4.4,
          "id": 48285,
          "rate": 0.064
         },
         {
          "Unemployment_rate_2007": 3.2,
          "id": 48287,
          "rate": 0.069
         },
         {
          "Unemployment_rate_2007": 3.5,
          "id": 48289,
          "rate": 0.079
         },
         {
          "Unemployment_rate_2007": 3.7,
          "id": 48291,
          "rate": 0.11199999999999999
         },
         {
          "Unemployment_rate_2007": 2,
          "id": 48293,
          "rate": 0.07200000000000001
         },
         {
          "Unemployment_rate_2007": 4.4,
          "id": 48295,
          "rate": 0.061
         },
         {
          "Unemployment_rate_2007": 6.5,
          "id": 48297,
          "rate": 0.076
         },
         {
          "Unemployment_rate_2007": 4.6,
          "id": 48299,
          "rate": 0.073
         },
         {
          "Unemployment_rate_2007": 3.6,
          "id": 48301,
          "rate": 0.115
         },
         {
          "Unemployment_rate_2007": 4.1,
          "id": 48303,
          "rate": 0.057
         },
         {
          "Unemployment_rate_2007": 3.8,
          "id": 48305,
          "rate": 0.068
         },
         {
          "Unemployment_rate_2007": 5.8,
          "id": 48307,
          "rate": 0.091
         },
         {
          "Unemployment_rate_2007": 4,
          "id": 48309,
          "rate": 0.071
         },
         {
          "Unemployment_rate_2007": 5,
          "id": 48311,
          "rate": 0.078
         },
         {
          "Unemployment_rate_2007": 4.6,
          "id": 48313,
          "rate": 0.087
         },
         {
          "Unemployment_rate_2007": 3.9,
          "id": 48315,
          "rate": 0.11800000000000001
         },
         {
          "Unemployment_rate_2007": 2.9,
          "id": 48317,
          "rate": 0.05
         },
         {
          "Unemployment_rate_2007": 3,
          "id": 48319,
          "rate": 0.054000000000000006
         },
         {
          "Unemployment_rate_2007": 3.7,
          "id": 48321,
          "rate": 0.11199999999999999
         },
         {
          "Unemployment_rate_2007": 5.6,
          "id": 48323,
          "rate": 0.136
         },
         {
          "Unemployment_rate_2007": 3.3,
          "id": 48325,
          "rate": 0.071
         },
         {
          "Unemployment_rate_2007": 5.4,
          "id": 48327,
          "rate": 0.09
         },
         {
          "Unemployment_rate_2007": 3.7,
          "id": 48329,
          "rate": 0.062
         },
         {
          "Unemployment_rate_2007": 3.9,
          "id": 48331,
          "rate": 0.102
         },
         {
          "Unemployment_rate_2007": 4.1,
          "id": 48333,
          "rate": 0.06
         },
         {
          "Unemployment_rate_2007": 4.7,
          "id": 48335,
          "rate": 0.087
         },
         {
          "Unemployment_rate_2007": 5.5,
          "id": 48337,
          "rate": 0.078
         },
         {
          "Unemployment_rate_2007": 4.6,
          "id": 48339,
          "rate": 0.079
         },
         {
          "Unemployment_rate_2007": 3.4,
          "id": 48341,
          "rate": 0.053
         },
         {
          "Unemployment_rate_2007": 3,
          "id": 48343,
          "rate": 0.156
         },
         {
          "Unemployment_rate_2007": 3.3,
          "id": 48345,
          "rate": 0.053
         },
         {
          "Unemployment_rate_2007": 3.4,
          "id": 48347,
          "rate": 0.07
         },
         {
          "Unemployment_rate_2007": 3.3,
          "id": 48349,
          "rate": 0.084
         },
         {
          "Unemployment_rate_2007": 4.6,
          "id": 48351,
          "rate": 0.124
         },
         {
          "Unemployment_rate_2007": 4.7,
          "id": 48353,
          "rate": 0.064
         },
         {
          "Unemployment_rate_2007": 4.1,
          "id": 48355,
          "rate": 0.077
         },
         {
          "Unemployment_rate_2007": 3.7,
          "id": 48357,
          "rate": 0.063
         },
         {
          "Unemployment_rate_2007": 4.6,
          "id": 48359,
          "rate": 0.055
         },
         {
          "Unemployment_rate_2007": 4,
          "id": 48361,
          "rate": 0.111
         },
         {
          "Unemployment_rate_2007": 3.7,
          "id": 48363,
          "rate": 0.091
         },
         {
          "Unemployment_rate_2007": 4.8,
          "id": 48365,
          "rate": 0.075
         },
         {
          "Unemployment_rate_2007": 3.1,
          "id": 48367,
          "rate": 0.084
         },
         {
          "Unemployment_rate_2007": 3.4,
          "id": 48369,
          "rate": 0.048
         },
         {
          "Unemployment_rate_2007": 4.1,
          "id": 48371,
          "rate": 0.11699999999999999
         },
         {
          "Unemployment_rate_2007": 5.2,
          "id": 48373,
          "rate": 0.10300000000000001
         },
         {
          "Unemployment_rate_2007": 4.2,
          "id": 48375,
          "rate": 0.066
         },
         {
          "Unemployment_rate_2007": 2.6,
          "id": 48377,
          "rate": 0.17800000000000002
         },
         {
          "Unemployment_rate_2007": 3.8,
          "id": 48379,
          "rate": 0.085
         },
         {
          "Unemployment_rate_2007": 4,
          "id": 48381,
          "rate": 0.051
         },
         {
          "Unemployment_rate_2007": 7.3,
          "id": 48383,
          "rate": 0.057999999999999996
         },
         {
          "Unemployment_rate_2007": 3.6,
          "id": 48385,
          "rate": 0.061
         },
         {
          "Unemployment_rate_2007": 4.9,
          "id": 48387,
          "rate": 0.105
         },
         {
          "Unemployment_rate_2007": 3.8,
          "id": 48389,
          "rate": 0.14
         },
         {
          "Unemployment_rate_2007": 4.2,
          "id": 48391,
          "rate": 0.07
         },
         {
          "Unemployment_rate_2007": 5.1,
          "id": 48393,
          "rate": 0.062
         },
         {
          "Unemployment_rate_2007": 4.6,
          "id": 48395,
          "rate": 0.087
         },
         {
          "Unemployment_rate_2007": 4.5,
          "id": 48397,
          "rate": 0.078
         },
         {
          "Unemployment_rate_2007": 3.6,
          "id": 48399,
          "rate": 0.10099999999999999
         },
         {
          "Unemployment_rate_2007": 2.7,
          "id": 48401,
          "rate": 0.091
         },
         {
          "Unemployment_rate_2007": 5.9,
          "id": 48403,
          "rate": 0.159
         },
         {
          "Unemployment_rate_2007": 11.3,
          "id": 48405,
          "rate": 0.10800000000000001
         },
         {
          "Unemployment_rate_2007": 4.1,
          "id": 48407,
          "rate": 0.1
         },
         {
          "Unemployment_rate_2007": 3.5,
          "id": 48409,
          "rate": 0.098
         },
         {
          "Unemployment_rate_2007": 2.8,
          "id": 48411,
          "rate": 0.078
         },
         {
          "Unemployment_rate_2007": 4.1,
          "id": 48413,
          "rate": 0.111
         },
         {
          "Unemployment_rate_2007": 3.6,
          "id": 48415,
          "rate": 0.07200000000000001
         },
         {
          "Unemployment_rate_2007": 5.1,
          "id": 48417,
          "rate": 0.043
         },
         {
          "Unemployment_rate_2007": 3.5,
          "id": 48419,
          "rate": 0.081
         },
         {
          "Unemployment_rate_2007": 3.8,
          "id": 48421,
          "rate": 0.049
         },
         {
          "Unemployment_rate_2007": 2.9,
          "id": 48423,
          "rate": 0.083
         },
         {
          "Unemployment_rate_2007": 5.2,
          "id": 48425,
          "rate": 0.073
         },
         {
          "Unemployment_rate_2007": 4,
          "id": 48427,
          "rate": 0.17800000000000002
         },
         {
          "Unemployment_rate_2007": 4.1,
          "id": 48429,
          "rate": 0.069
         },
         {
          "Unemployment_rate_2007": 4.9,
          "id": 48431,
          "rate": 0.046
         },
         {
          "Unemployment_rate_2007": 6.4,
          "id": 48433,
          "rate": 0.048
         },
         {
          "Unemployment_rate_2007": 3.6,
          "id": 48435,
          "rate": 0.078
         },
         {
          "Unemployment_rate_2007": 4.2,
          "id": 48437,
          "rate": 0.067
         },
         {
          "Unemployment_rate_2007": 2.6,
          "id": 48439,
          "rate": 0.08199999999999999
         },
         {
          "Unemployment_rate_2007": 3.9,
          "id": 48441,
          "rate": 0.061
         },
         {
          "Unemployment_rate_2007": 5.2,
          "id": 48443,
          "rate": 0.078
         },
         {
          "Unemployment_rate_2007": 3.6,
          "id": 48445,
          "rate": 0.077
         },
         {
          "Unemployment_rate_2007": 3.8,
          "id": 48447,
          "rate": 0.055999999999999994
         },
         {
          "Unemployment_rate_2007": 4,
          "id": 48449,
          "rate": 0.077
         },
         {
          "Unemployment_rate_2007": 3.1,
          "id": 48451,
          "rate": 0.07
         },
         {
          "Unemployment_rate_2007": 4.2,
          "id": 48453,
          "rate": 0.07
         },
         {
          "Unemployment_rate_2007": 5.8,
          "id": 48455,
          "rate": 0.08800000000000001
         },
         {
          "Unemployment_rate_2007": 3.8,
          "id": 48457,
          "rate": 0.105
         },
         {
          "Unemployment_rate_2007": 8.9,
          "id": 48459,
          "rate": 0.081
         },
         {
          "Unemployment_rate_2007": 4.2,
          "id": 48461,
          "rate": 0.055999999999999994
         },
         {
          "Unemployment_rate_2007": 2.9,
          "id": 48463,
          "rate": 0.08900000000000001
         },
         {
          "Unemployment_rate_2007": 2,
          "id": 48465,
          "rate": 0.096
         },
         {
          "Unemployment_rate_2007": 3.9,
          "id": 48467,
          "rate": 0.07400000000000001
         },
         {
          "Unemployment_rate_2007": 4.9,
          "id": 48469,
          "rate": 0.079
         },
         {
          "Unemployment_rate_2007": 5.2,
          "id": 48471,
          "rate": 0.078
         },
         {
          "Unemployment_rate_2007": 3.7,
          "id": 48473,
          "rate": 0.09
         },
         {
          "Unemployment_rate_2007": 2.3,
          "id": 48475,
          "rate": 0.085
         },
         {
          "Unemployment_rate_2007": 5,
          "id": 48477,
          "rate": 0.069
         },
         {
          "Unemployment_rate_2007": 3.9,
          "id": 48479,
          "rate": 0.091
         },
         {
          "Unemployment_rate_2007": 4.3,
          "id": 48481,
          "rate": 0.079
         },
         {
          "Unemployment_rate_2007": 4.1,
          "id": 48483,
          "rate": 0.055999999999999994
         },
         {
          "Unemployment_rate_2007": 8,
          "id": 48485,
          "rate": 0.081
         },
         {
          "Unemployment_rate_2007": 5.4,
          "id": 48487,
          "rate": 0.055
         },
         {
          "Unemployment_rate_2007": 5.1,
          "id": 48489,
          "rate": 0.139
         },
         {
          "Unemployment_rate_2007": 4.8,
          "id": 48491,
          "rate": 0.078
         },
         {
          "Unemployment_rate_2007": 4.6,
          "id": 48493,
          "rate": 0.069
         },
         {
          "Unemployment_rate_2007": 3.5,
          "id": 48495,
          "rate": 0.09
         },
         {
          "Unemployment_rate_2007": 3.8,
          "id": 48497,
          "rate": 0.096
         },
         {
          "Unemployment_rate_2007": 2.6,
          "id": 48499,
          "rate": 0.084
         },
         {
          "Unemployment_rate_2007": 4.2,
          "id": 48501,
          "rate": 0.071
         },
         {
          "Unemployment_rate_2007": 3.4,
          "id": 48503,
          "rate": 0.064
         },
         {
          "Unemployment_rate_2007": 4.1,
          "id": 48505,
          "rate": 0.126
         },
         {
          "Unemployment_rate_2007": 4.4,
          "id": 48507,
          "rate": 0.163
         },
         {
          "Unemployment_rate_2007": 10.5,
          "id": 49001,
          "rate": 0.042
         },
         {
          "Unemployment_rate_2007": 3.5,
          "id": 49003,
          "rate": 0.055999999999999994
         },
         {
          "Unemployment_rate_2007": 2.8,
          "id": 49005,
          "rate": 0.042
         },
         {
          "Unemployment_rate_2007": 3.2,
          "id": 49007,
          "rate": 0.065
         },
         {
          "Unemployment_rate_2007": 2.1,
          "id": 49009,
          "rate": 0.027000000000000003
         },
         {
          "Unemployment_rate_2007": 4.2,
          "id": 49011,
          "rate": 0.055999999999999994
         },
         {
          "Unemployment_rate_2007": 4.2,
          "id": 49013,
          "rate": 0.069
         },
         {
          "Unemployment_rate_2007": 3.4,
          "id": 49015,
          "rate": 0.062
         },
         {
          "Unemployment_rate_2007": 5,
          "id": 49017,
          "rate": 0.049
         },
         {
          "Unemployment_rate_2007": 4.6,
          "id": 49019,
          "rate": 0.052000000000000005
         },
         {
          "Unemployment_rate_2007": 3.7,
          "id": 49021,
          "rate": 0.063
         },
         {
          "Unemployment_rate_2007": 3.7,
          "id": 49023,
          "rate": 0.068
         },
         {
          "Unemployment_rate_2007": 3.7,
          "id": 49025,
          "rate": 0.044000000000000004
         },
         {
          "Unemployment_rate_2007": 3.6,
          "id": 49027,
          "rate": 0.04
         },
         {
          "Unemployment_rate_2007": 4.7,
          "id": 49029,
          "rate": 0.053
         },
         {
          "Unemployment_rate_2007": 5.4,
          "id": 49031,
          "rate": 0.038
         },
         {
          "Unemployment_rate_2007": 4,
          "id": 49033,
          "rate": 0.027999999999999997
         },
         {
          "Unemployment_rate_2007": 3,
          "id": 49035,
          "rate": 0.06
         },
         {
          "Unemployment_rate_2007": 5.2,
          "id": 49037,
          "rate": 0.086
         },
         {
          "Unemployment_rate_2007": 5.4,
          "id": 49039,
          "rate": 0.055999999999999994
         },
         {
          "Unemployment_rate_2007": 3.9,
          "id": 49041,
          "rate": 0.057
         },
         {
          "Unemployment_rate_2007": 3.4,
          "id": 49043,
          "rate": 0.057999999999999996
         },
         {
          "Unemployment_rate_2007": 4.7,
          "id": 49045,
          "rate": 0.064
         },
         {
          "Unemployment_rate_2007": 4.5,
          "id": 49047,
          "rate": 0.066
         },
         {
          "Unemployment_rate_2007": 3.7,
          "id": 49049,
          "rate": 0.054000000000000006
         },
         {
          "Unemployment_rate_2007": 3.6,
          "id": 49051,
          "rate": 0.06
         },
         {
          "Unemployment_rate_2007": 4.7,
          "id": 49053,
          "rate": 0.078
         },
         {
          "Unemployment_rate_2007": 4.1,
          "id": 49055,
          "rate": 0.042
         },
         {
          "Unemployment_rate_2007": 2.5,
          "id": 49057,
          "rate": 0.07
         },
         {
          "Unemployment_rate_2007": 4.2,
          "id": 50001,
          "rate": 0.057999999999999996
         },
         {
          "Unemployment_rate_2007": 3.4,
          "id": 50003,
          "rate": 0.068
         },
         {
          "Unemployment_rate_2007": 8.1,
          "id": 50005,
          "rate": 0.07
         },
         {
          "Unemployment_rate_2007": 3.7,
          "id": 50007,
          "rate": 0.057
         },
         {
          "Unemployment_rate_2007": 4,
          "id": 50009,
          "rate": 0.078
         },
         {
          "Unemployment_rate_2007": 3.1,
          "id": 50011,
          "rate": 0.062
         },
         {
          "Unemployment_rate_2007": 4.1,
          "id": 50013,
          "rate": 0.07
         },
         {
          "Unemployment_rate_2007": 4.5,
          "id": 50015,
          "rate": 0.066
         },
         {
          "Unemployment_rate_2007": 3.2,
          "id": 50017,
          "rate": 0.055
         },
         {
          "Unemployment_rate_2007": 3.2,
          "id": 50019,
          "rate": 0.083
         },
         {
          "Unemployment_rate_2007": 5.3,
          "id": 50021,
          "rate": 0.087
         },
         {
          "Unemployment_rate_2007": 10.5,
          "id": 50023,
          "rate": 0.061
         },
         {
          "Unemployment_rate_2007": null,
          "id": 50025,
          "rate": 0.063
         },
         {
          "Unemployment_rate_2007": 2.5,
          "id": 50027,
          "rate": 0.057999999999999996
         },
         {
          "Unemployment_rate_2007": 2.7,
          "id": 51001,
          "rate": 0.061
         },
         {
          "Unemployment_rate_2007": 2,
          "id": 51003,
          "rate": 0.05
         },
         {
          "Unemployment_rate_2007": 3.7,
          "id": 51005,
          "rate": 0.087
         },
         {
          "Unemployment_rate_2007": 3.5,
          "id": 51007,
          "rate": 0.07
         },
         {
          "Unemployment_rate_2007": 2.5,
          "id": 51009,
          "rate": 0.07
         },
         {
          "Unemployment_rate_2007": 2.2,
          "id": 51011,
          "rate": 0.067
         },
         {
          "Unemployment_rate_2007": 3.4,
          "id": 51013,
          "rate": 0.042
         },
         {
          "Unemployment_rate_2007": 4.6,
          "id": 51015,
          "rate": 0.057999999999999996
         },
         {
          "Unemployment_rate_2007": 4.6,
          "id": 51017,
          "rate": 0.054000000000000006
         },
         {
          "Unemployment_rate_2007": 2.9,
          "id": 51019,
          "rate": 0.062
         },
         {
          "Unemployment_rate_2007": 3.1,
          "id": 51021,
          "rate": 0.075
         },
         {
          "Unemployment_rate_2007": 3.2,
          "id": 51023,
          "rate": 0.062
         },
         {
          "Unemployment_rate_2007": 2.5,
          "id": 51025,
          "rate": 0.114
         },
         {
          "Unemployment_rate_2007": 2.6,
          "id": 51027,
          "rate": 0.08800000000000001
         },
         {
          "Unemployment_rate_2007": 2.3,
          "id": 51029,
          "rate": 0.078
         },
         {
          "Unemployment_rate_2007": 2,
          "id": 51031,
          "rate": 0.066
         },
         {
          "Unemployment_rate_2007": 2.5,
          "id": 51033,
          "rate": 0.08199999999999999
         },
         {
          "Unemployment_rate_2007": 5.2,
          "id": 51035,
          "rate": 0.113
         },
         {
          "Unemployment_rate_2007": 3.1,
          "id": 51036,
          "rate": 0.087
         },
         {
          "Unemployment_rate_2007": 2.7,
          "id": 51037,
          "rate": 0.091
         },
         {
          "Unemployment_rate_2007": 2.5,
          "id": 51041,
          "rate": 0.068
         },
         {
          "Unemployment_rate_2007": 2.8,
          "id": 51043,
          "rate": 0.061
         },
         {
          "Unemployment_rate_2007": 2.1,
          "id": 51045,
          "rate": 0.07200000000000001
         },
         {
          "Unemployment_rate_2007": 2.4,
          "id": 51047,
          "rate": 0.075
         },
         {
          "Unemployment_rate_2007": 2.5,
          "id": 51049,
          "rate": 0.07
         },
         {
          "Unemployment_rate_2007": 2.7,
          "id": 51051,
          "rate": 0.083
         },
         {
          "Unemployment_rate_2007": 4.1,
          "id": 51053,
          "rate": 0.083
         },
         {
          "Unemployment_rate_2007": 3.1,
          "id": 51057,
          "rate": 0.077
         },
         {
          "Unemployment_rate_2007": null,
          "id": 51059,
          "rate": 0.047
         },
         {
          "Unemployment_rate_2007": 3.9,
          "id": 51061,
          "rate": 0.05
         },
         {
          "Unemployment_rate_2007": 4,
          "id": 51063,
          "rate": 0.071
         },
         {
          "Unemployment_rate_2007": 4.5,
          "id": 51065,
          "rate": 0.057999999999999996
         },
         {
          "Unemployment_rate_2007": 3.4,
          "id": 51067,
          "rate": 0.078
         },
         {
          "Unemployment_rate_2007": 5.3,
          "id": 51069,
          "rate": 0.073
         },
         {
          "Unemployment_rate_2007": 4.3,
          "id": 51071,
          "rate": 0.085
         },
         {
          "Unemployment_rate_2007": 5.5,
          "id": 51073,
          "rate": 0.055
         },
         {
          "Unemployment_rate_2007": 4.7,
          "id": 51075,
          "rate": 0.067
         },
         {
          "Unemployment_rate_2007": 3.7,
          "id": 51077,
          "rate": 0.10400000000000001
         },
         {
          "Unemployment_rate_2007": 6.1,
          "id": 51079,
          "rate": 0.057999999999999996
         },
         {
          "Unemployment_rate_2007": 4.4,
          "id": 51081,
          "rate": 0.091
         },
         {
          "Unemployment_rate_2007": 4.1,
          "id": 51083,
          "rate": 0.115
         },
         {
          "Unemployment_rate_2007": 4.1,
          "id": 51085,
          "rate": 0.066
         },
         {
          "Unemployment_rate_2007": 3.4,
          "id": 51087,
          "rate": 0.07200000000000001
         },
         {
          "Unemployment_rate_2007": null,
          "id": 51089,
          "rate": 0.134
         },
         {
          "Unemployment_rate_2007": 4.1,
          "id": 51091,
          "rate": 0.059000000000000004
         },
         {
          "Unemployment_rate_2007": 2.2,
          "id": 51093,
          "rate": 0.063
         },
         {
          "Unemployment_rate_2007": 4.4,
          "id": 51095,
          "rate": 0.046
         },
         {
          "Unemployment_rate_2007": 2.8,
          "id": 51097,
          "rate": 0.075
         },
         {
          "Unemployment_rate_2007": 3.5,
          "id": 51099,
          "rate": 0.075
         },
         {
          "Unemployment_rate_2007": 3.9,
          "id": 51101,
          "rate": 0.064
         },
         {
          "Unemployment_rate_2007": 1.9,
          "id": 51103,
          "rate": 0.073
         },
         {
          "Unemployment_rate_2007": 2.6,
          "id": 51105,
          "rate": 0.071
         },
         {
          "Unemployment_rate_2007": 3.2,
          "id": 51107,
          "rate": 0.047
         },
         {
          "Unemployment_rate_2007": 3,
          "id": 51109,
          "rate": 0.081
         },
         {
          "Unemployment_rate_2007": 3.8,
          "id": 51111,
          "rate": 0.091
         },
         {
          "Unemployment_rate_2007": 2.6,
          "id": 51113,
          "rate": 0.06
         },
         {
          "Unemployment_rate_2007": 4.8,
          "id": 51115,
          "rate": 0.048
         },
         {
          "Unemployment_rate_2007": 4.9,
          "id": 51117,
          "rate": 0.105
         },
         {
          "Unemployment_rate_2007": 3.5,
          "id": 51119,
          "rate": 0.064
         },
         {
          "Unemployment_rate_2007": 3.4,
          "id": 51121,
          "rate": 0.063
         },
         {
          "Unemployment_rate_2007": 3.7,
          "id": 51125,
          "rate": 0.062
         },
         {
          "Unemployment_rate_2007": 5.6,
          "id": 51127,
          "rate": 0.069
         },
         {
          "Unemployment_rate_2007": 3.9,
          "id": 51131,
          "rate": 0.066
         },
         {
          "Unemployment_rate_2007": 5.3,
          "id": 51133,
          "rate": 0.065
         },
         {
          "Unemployment_rate_2007": 2.6,
          "id": 51135,
          "rate": 0.079
         },
         {
          "Unemployment_rate_2007": 2.7,
          "id": 51137,
          "rate": 0.076
         },
         {
          "Unemployment_rate_2007": 3.7,
          "id": 51139,
          "rate": 0.098
         },
         {
          "Unemployment_rate_2007": 3.6,
          "id": 51141,
          "rate": 0.099
         },
         {
          "Unemployment_rate_2007": 3.2,
          "id": 51143,
          "rate": 0.10300000000000001
         },
         {
          "Unemployment_rate_2007": 5.2,
          "id": 51145,
          "rate": 0.06
         },
         {
          "Unemployment_rate_2007": 3.4,
          "id": 51147,
          "rate": 0.084
         },
         {
          "Unemployment_rate_2007": 3.7,
          "id": 51149,
          "rate": 0.073
         },
         {
          "Unemployment_rate_2007": 2.2,
          "id": 51153,
          "rate": 0.053
         },
         {
          "Unemployment_rate_2007": 2.5,
          "id": 51155,
          "rate": 0.10800000000000001
         },
         {
          "Unemployment_rate_2007": 3.5,
          "id": 51157,
          "rate": 0.055999999999999994
         },
         {
          "Unemployment_rate_2007": 2.4,
          "id": 51159,
          "rate": 0.07200000000000001
         },
         {
          "Unemployment_rate_2007": 3.3,
          "id": 51161,
          "rate": 0.059000000000000004
         },
         {
          "Unemployment_rate_2007": 3,
          "id": 51163,
          "rate": 0.055999999999999994
         },
         {
          "Unemployment_rate_2007": 4.5,
          "id": 51165,
          "rate": 0.053
         },
         {
          "Unemployment_rate_2007": 2.5,
          "id": 51167,
          "rate": 0.096
         },
         {
          "Unemployment_rate_2007": 2.4,
          "id": 51169,
          "rate": 0.099
         },
         {
          "Unemployment_rate_2007": 5.1,
          "id": 51171,
          "rate": 0.076
         },
         {
          "Unemployment_rate_2007": 2.1,
          "id": 51173,
          "rate": 0.102
         },
         {
          "Unemployment_rate_2007": 4.5,
          "id": 51175,
          "rate": 0.077
         },
         {
          "Unemployment_rate_2007": 6.4,
          "id": 51177,
          "rate": 0.051
         },
         {
          "Unemployment_rate_2007": 2.5,
          "id": 51179,
          "rate": 0.051
         },
         {
          "Unemployment_rate_2007": 2.8,
          "id": 51181,
          "rate": 0.073
         },
         {
          "Unemployment_rate_2007": 5.5,
          "id": 51183,
          "rate": 0.095
         },
         {
          "Unemployment_rate_2007": 3.4,
          "id": 51185,
          "rate": 0.079
         },
         {
          "Unemployment_rate_2007": 2.9,
          "id": 51187,
          "rate": 0.066
         },
         {
          "Unemployment_rate_2007": 2.5,
          "id": 51191,
          "rate": 0.08199999999999999
         },
         {
          "Unemployment_rate_2007": 3.5,
          "id": 51193,
          "rate": 0.071
         },
         {
          "Unemployment_rate_2007": 3.5,
          "id": 51195,
          "rate": 0.067
         },
         {
          "Unemployment_rate_2007": 2.7,
          "id": 51197,
          "rate": 0.09699999999999999
         },
         {
          "Unemployment_rate_2007": 4.4,
          "id": 51199,
          "rate": 0.05
         },
         {
          "Unemployment_rate_2007": 4.2,
          "id": 51510,
          "rate": 0.048
         },
         {
          "Unemployment_rate_2007": 2.1,
          "id": 51515,
          "rate": 0.08900000000000001
         },
         {
          "Unemployment_rate_2007": 2.9,
          "id": 51520,
          "rate": 0.099
         },
         {
          "Unemployment_rate_2007": 4.5,
          "id": 51530,
          "rate": 0.087
         },
         {
          "Unemployment_rate_2007": 2.7,
          "id": 51540,
          "rate": 0.062
         },
         {
          "Unemployment_rate_2007": 2.6,
          "id": 51550,
          "rate": 0.064
         },
         {
          "Unemployment_rate_2007": 5.1,
          "id": 51570,
          "rate": 0.08199999999999999
         },
         {
          "Unemployment_rate_2007": 3,
          "id": 51580,
          "rate": 0.091
         },
         {
          "Unemployment_rate_2007": 3.2,
          "id": 51590,
          "rate": 0.13
         },
         {
          "Unemployment_rate_2007": 2.7,
          "id": 51595,
          "rate": 0.11800000000000001
         },
         {
          "Unemployment_rate_2007": 2.7,
          "id": 51600,
          "rate": 0.054000000000000006
         },
         {
          "Unemployment_rate_2007": 4.1,
          "id": 51610,
          "rate": 0.073
         },
         {
          "Unemployment_rate_2007": 4.3,
          "id": 51620,
          "rate": 0.107
         },
         {
          "Unemployment_rate_2007": 3.9,
          "id": 51630,
          "rate": 0.091
         },
         {
          "Unemployment_rate_2007": 3.2,
          "id": 51640,
          "rate": 0.10300000000000001
         },
         {
          "Unemployment_rate_2007": 5.1,
          "id": 51650,
          "rate": 0.077
         },
         {
          "Unemployment_rate_2007": 4.1,
          "id": 51660,
          "rate": 0.064
         },
         {
          "Unemployment_rate_2007": 5.7,
          "id": 51670,
          "rate": 0.10400000000000001
         },
         {
          "Unemployment_rate_2007": 2.4,
          "id": 51678,
          "rate": 0.092
         },
         {
          "Unemployment_rate_2007": 4.6,
          "id": 51680,
          "rate": 0.077
         },
         {
          "Unemployment_rate_2007": 3.2,
          "id": 51683,
          "rate": 0.068
         },
         {
          "Unemployment_rate_2007": 2.5,
          "id": 51685,
          "rate": 0.054000000000000006
         },
         {
          "Unemployment_rate_2007": 5.5,
          "id": 51690,
          "rate": 0.2
         },
         {
          "Unemployment_rate_2007": 2.5,
          "id": 51700,
          "rate": 0.073
         },
         {
          "Unemployment_rate_2007": 4.3,
          "id": 51710,
          "rate": 0.084
         },
         {
          "Unemployment_rate_2007": 2.5,
          "id": 51720,
          "rate": 0.055
         },
         {
          "Unemployment_rate_2007": 2.9,
          "id": 51730,
          "rate": 0.138
         },
         {
          "Unemployment_rate_2007": 2.5,
          "id": 51735,
          "rate": 0.05
         },
         {
          "Unemployment_rate_2007": 5.2,
          "id": 51740,
          "rate": 0.084
         },
         {
          "Unemployment_rate_2007": 4.6,
          "id": 51750,
          "rate": 0.085
         },
         {
          "Unemployment_rate_2007": 3.2,
          "id": 51760,
          "rate": 0.1
         },
         {
          "Unemployment_rate_2007": 5.4,
          "id": 51770,
          "rate": 0.086
         },
         {
          "Unemployment_rate_2007": 3.6,
          "id": 51775,
          "rate": 0.063
         },
         {
          "Unemployment_rate_2007": 2.5,
          "id": 51790,
          "rate": 0.073
         },
         {
          "Unemployment_rate_2007": 2.6,
          "id": 51800,
          "rate": 0.066
         },
         {
          "Unemployment_rate_2007": 3.4,
          "id": 51810,
          "rate": 0.059000000000000004
         },
         {
          "Unemployment_rate_2007": 4.5,
          "id": 51820,
          "rate": 0.08199999999999999
         },
         {
          "Unemployment_rate_2007": 4.5,
          "id": 51830,
          "rate": 0.135
         },
         {
          "Unemployment_rate_2007": 3,
          "id": 51840,
          "rate": 0.079
         },
         {
          "Unemployment_rate_2007": 4.5,
          "id": 53001,
          "rate": 0.065
         },
         {
          "Unemployment_rate_2007": 4.2,
          "id": 53003,
          "rate": 0.081
         },
         {
          "Unemployment_rate_2007": 3.9,
          "id": 53005,
          "rate": 0.057999999999999996
         },
         {
          "Unemployment_rate_2007": 4.5,
          "id": 53007,
          "rate": 0.065
         },
         {
          "Unemployment_rate_2007": 2.5,
          "id": 53009,
          "rate": 0.085
         },
         {
          "Unemployment_rate_2007": 2.2,
          "id": 53011,
          "rate": 0.127
         },
         {
          "Unemployment_rate_2007": 5.1,
          "id": 53013,
          "rate": 0.084
         },
         {
          "Unemployment_rate_2007": 3.6,
          "id": 53015,
          "rate": 0.128
         },
         {
          "Unemployment_rate_2007": 3.1,
          "id": 53017,
          "rate": 0.066
         },
         {
          "Unemployment_rate_2007": 3,
          "id": 53019,
          "rate": 0.113
         },
         {
          "Unemployment_rate_2007": 3.2,
          "id": 53021,
          "rate": 0.062
         },
         {
          "Unemployment_rate_2007": 5.9,
          "id": 53023,
          "rate": 0.053
         },
         {
          "Unemployment_rate_2007": 7.4,
          "id": 53025,
          "rate": 0.073
         },
         {
          "Unemployment_rate_2007": 6.1,
          "id": 53027,
          "rate": 0.11699999999999999
         },
         {
          "Unemployment_rate_2007": 2.5,
          "id": 53029,
          "rate": 0.081
         },
         {
          "Unemployment_rate_2007": 3.1,
          "id": 53031,
          "rate": 0.07400000000000001
         },
         {
          "Unemployment_rate_2007": 4.6,
          "id": 53033,
          "rate": 0.08800000000000001
         },
         {
          "Unemployment_rate_2007": 4.5,
          "id": 53035,
          "rate": 0.071
         },
         {
          "Unemployment_rate_2007": 5.6,
          "id": 53037,
          "rate": 0.073
         },
         {
          "Unemployment_rate_2007": 3.6,
          "id": 53039,
          "rate": 0.081
         },
         {
          "Unemployment_rate_2007": 2.9,
          "id": 53041,
          "rate": 0.12
         },
         {
          "Unemployment_rate_2007": 4.7,
          "id": 53043,
          "rate": 0.07400000000000001
         },
         {
          "Unemployment_rate_2007": 4.6,
          "id": 53045,
          "rate": 0.094
         },
         {
          "Unemployment_rate_2007": 3.7,
          "id": 53047,
          "rate": 0.07400000000000001
         },
         {
          "Unemployment_rate_2007": 2.9,
          "id": 53049,
          "rate": 0.107
         },
         {
          "Unemployment_rate_2007": 2.5,
          "id": 53051,
          "rate": 0.121
         },
         {
          "Unemployment_rate_2007": 8.2,
          "id": 53053,
          "rate": 0.08800000000000001
         },
         {
          "Unemployment_rate_2007": 3.6,
          "id": 53055,
          "rate": 0.047
         },
         {
          "Unemployment_rate_2007": 4.1,
          "id": 53057,
          "rate": 0.091
         },
         {
          "Unemployment_rate_2007": 4.1,
          "id": 53059,
          "rate": 0.094
         },
         {
          "Unemployment_rate_2007": 6.3,
          "id": 53061,
          "rate": 0.10099999999999999
         },
         {
          "Unemployment_rate_2007": 2.3,
          "id": 53063,
          "rate": 0.083
         },
         {
          "Unemployment_rate_2007": 4.2,
          "id": 53065,
          "rate": 0.105
         },
         {
          "Unemployment_rate_2007": 4,
          "id": 53067,
          "rate": 0.071
         },
         {
          "Unemployment_rate_2007": 4.4,
          "id": 53069,
          "rate": 0.114
         },
         {
          "Unemployment_rate_2007": 3.8,
          "id": 53071,
          "rate": 0.055
         },
         {
          "Unemployment_rate_2007": 3,
          "id": 53073,
          "rate": 0.078
         },
         {
          "Unemployment_rate_2007": 3.1,
          "id": 53075,
          "rate": 0.047
         },
         {
          "Unemployment_rate_2007": 3.3,
          "id": 53077,
          "rate": 0.068
         },
         {
          "Unemployment_rate_2007": 2.7,
          "id": 54001,
          "rate": 0.092
         },
         {
          "Unemployment_rate_2007": 3.4,
          "id": 54003,
          "rate": 0.085
         },
         {
          "Unemployment_rate_2007": 5.6,
          "id": 54005,
          "rate": 0.094
         },
         {
          "Unemployment_rate_2007": 3.2,
          "id": 54007,
          "rate": 0.08
         },
         {
          "Unemployment_rate_2007": null,
          "id": 54009,
          "rate": 0.111
         },
         {
          "Unemployment_rate_2007": 6.6,
          "id": 54011,
          "rate": 0.066
         },
         {
          "Unemployment_rate_2007": 5.2,
          "id": 54013,
          "rate": 0.121
         },
         {
          "Unemployment_rate_2007": 5.5,
          "id": 54015,
          "rate": 0.11900000000000001
         },
         {
          "Unemployment_rate_2007": 5.5,
          "id": 54017,
          "rate": 0.07400000000000001
         },
         {
          "Unemployment_rate_2007": 6.6,
          "id": 54019,
          "rate": 0.086
         },
         {
          "Unemployment_rate_2007": 6.3,
          "id": 54021,
          "rate": 0.065
         },
         {
          "Unemployment_rate_2007": 7.4,
          "id": 54023,
          "rate": 0.11199999999999999
         },
         {
          "Unemployment_rate_2007": 7,
          "id": 54025,
          "rate": 0.083
         },
         {
          "Unemployment_rate_2007": 5.3,
          "id": 54027,
          "rate": 0.078
         },
         {
          "Unemployment_rate_2007": 8.9,
          "id": 54029,
          "rate": 0.11800000000000001
         },
         {
          "Unemployment_rate_2007": 6.9,
          "id": 54031,
          "rate": 0.09699999999999999
         },
         {
          "Unemployment_rate_2007": 5.4,
          "id": 54033,
          "rate": 0.071
         },
         {
          "Unemployment_rate_2007": 6.5,
          "id": 54035,
          "rate": 0.129
         },
         {
          "Unemployment_rate_2007": 7.9,
          "id": 54037,
          "rate": 0.066
         },
         {
          "Unemployment_rate_2007": 5.5,
          "id": 54039,
          "rate": 0.071
         },
         {
          "Unemployment_rate_2007": 5.3,
          "id": 54041,
          "rate": 0.075
         },
         {
          "Unemployment_rate_2007": 3.2,
          "id": 54043,
          "rate": 0.106
         },
         {
          "Unemployment_rate_2007": 4.9,
          "id": 54045,
          "rate": 0.098
         },
         {
          "Unemployment_rate_2007": 5.4,
          "id": 54047,
          "rate": 0.127
         },
         {
          "Unemployment_rate_2007": 7.5,
          "id": 54049,
          "rate": 0.065
         },
         {
          "Unemployment_rate_2007": 7.8,
          "id": 54051,
          "rate": 0.087
         },
         {
          "Unemployment_rate_2007": 5.8,
          "id": 54053,
          "rate": 0.121
         },
         {
          "Unemployment_rate_2007": 6.5,
          "id": 54055,
          "rate": 0.069
         },
         {
          "Unemployment_rate_2007": 7,
          "id": 54057,
          "rate": 0.079
         },
         {
          "Unemployment_rate_2007": 7.6,
          "id": 54059,
          "rate": 0.107
         },
         {
          "Unemployment_rate_2007": 7.9,
          "id": 54061,
          "rate": 0.046
         },
         {
          "Unemployment_rate_2007": 5.3,
          "id": 54063,
          "rate": 0.065
         },
         {
          "Unemployment_rate_2007": 3.8,
          "id": 54065,
          "rate": 0.091
         },
         {
          "Unemployment_rate_2007": 5.3,
          "id": 54067,
          "rate": 0.091
         },
         {
          "Unemployment_rate_2007": 7.5,
          "id": 54069,
          "rate": 0.078
         },
         {
          "Unemployment_rate_2007": 3.5,
          "id": 54071,
          "rate": 0.075
         },
         {
          "Unemployment_rate_2007": 5.3,
          "id": 54073,
          "rate": 0.102
         },
         {
          "Unemployment_rate_2007": 8,
          "id": 54075,
          "rate": 0.113
         },
         {
          "Unemployment_rate_2007": 4.9,
          "id": 54077,
          "rate": 0.07
         },
         {
          "Unemployment_rate_2007": 7.4,
          "id": 54079,
          "rate": 0.063
         },
         {
          "Unemployment_rate_2007": 5.4,
          "id": 54081,
          "rate": 0.08
         },
         {
          "Unemployment_rate_2007": 4.7,
          "id": 54083,
          "rate": 0.085
         },
         {
          "Unemployment_rate_2007": 4.3,
          "id": 54085,
          "rate": 0.08800000000000001
         },
         {
          "Unemployment_rate_2007": 7,
          "id": 54087,
          "rate": 0.13
         },
         {
          "Unemployment_rate_2007": null,
          "id": 54089,
          "rate": 0.078
         },
         {
          "Unemployment_rate_2007": 5.5,
          "id": 54091,
          "rate": 0.079
         },
         {
          "Unemployment_rate_2007": 4.1,
          "id": 54093,
          "rate": 0.109
         },
         {
          "Unemployment_rate_2007": 4.7,
          "id": 54095,
          "rate": 0.10800000000000001
         },
         {
          "Unemployment_rate_2007": 5.5,
          "id": 54097,
          "rate": 0.08900000000000001
         },
         {
          "Unemployment_rate_2007": 5.9,
          "id": 54099,
          "rate": 0.077
         },
         {
          "Unemployment_rate_2007": 4.1,
          "id": 54101,
          "rate": 0.10400000000000001
         },
         {
          "Unemployment_rate_2007": 7,
          "id": 54103,
          "rate": 0.12300000000000001
         },
         {
          "Unemployment_rate_2007": 7,
          "id": 54105,
          "rate": 0.114
         },
         {
          "Unemployment_rate_2007": 4.9,
          "id": 54107,
          "rate": 0.08800000000000001
         },
         {
          "Unemployment_rate_2007": 5.4,
          "id": 54109,
          "rate": 0.115
         },
         {
          "Unemployment_rate_2007": 4.1,
          "id": 55001,
          "rate": 0.083
         },
         {
          "Unemployment_rate_2007": 5.2,
          "id": 55003,
          "rate": 0.083
         },
         {
          "Unemployment_rate_2007": 6.1,
          "id": 55005,
          "rate": 0.071
         },
         {
          "Unemployment_rate_2007": 3.6,
          "id": 55007,
          "rate": 0.062
         },
         {
          "Unemployment_rate_2007": 5.8,
          "id": 55009,
          "rate": 0.071
         },
         {
          "Unemployment_rate_2007": 4.2,
          "id": 55011,
          "rate": 0.057
         },
         {
          "Unemployment_rate_2007": 4.3,
          "id": 55013,
          "rate": 0.091
         },
         {
          "Unemployment_rate_2007": 4.9,
          "id": 55015,
          "rate": 0.067
         },
         {
          "Unemployment_rate_2007": 3.2,
          "id": 55017,
          "rate": 0.066
         },
         {
          "Unemployment_rate_2007": 4,
          "id": 55019,
          "rate": 0.076
         },
         {
          "Unemployment_rate_2007": 5.1,
          "id": 55021,
          "rate": 0.071
         },
         {
          "Unemployment_rate_2007": 5.4,
          "id": 55023,
          "rate": 0.081
         },
         {
          "Unemployment_rate_2007": 5.2,
          "id": 55025,
          "rate": 0.054000000000000006
         },
         {
          "Unemployment_rate_2007": 7.4,
          "id": 55027,
          "rate": 0.084
         },
         {
          "Unemployment_rate_2007": 4.2,
          "id": 55029,
          "rate": 0.066
         },
         {
          "Unemployment_rate_2007": 5.3,
          "id": 55031,
          "rate": 0.065
         },
         {
          "Unemployment_rate_2007": 6.9,
          "id": 55033,
          "rate": 0.057999999999999996
         },
         {
          "Unemployment_rate_2007": 4.2,
          "id": 55035,
          "rate": 0.06
         },
         {
          "Unemployment_rate_2007": 4.7,
          "id": 55037,
          "rate": 0.081
         },
         {
          "Unemployment_rate_2007": 5.7,
          "id": 55039,
          "rate": 0.078
         },
         {
          "Unemployment_rate_2007": 3.1,
          "id": 55041,
          "rate": 0.081
         },
         {
          "Unemployment_rate_2007": 4.7,
          "id": 55043,
          "rate": 0.061
         },
         {
          "Unemployment_rate_2007": 4.7,
          "id": 55045,
          "rate": 0.078
         },
         {
          "Unemployment_rate_2007": 5,
          "id": 55047,
          "rate": 0.075
         },
         {
          "Unemployment_rate_2007": 4.2,
          "id": 55049,
          "rate": 0.062
         },
         {
          "Unemployment_rate_2007": 3.7,
          "id": 55051,
          "rate": 0.094
         },
         {
          "Unemployment_rate_2007": 5.7,
          "id": 55053,
          "rate": 0.07200000000000001
         },
         {
          "Unemployment_rate_2007": 7.3,
          "id": 55055,
          "rate": 0.08
         },
         {
          "Unemployment_rate_2007": 4.3,
          "id": 55057,
          "rate": 0.085
         },
         {
          "Unemployment_rate_2007": 3.7,
          "id": 55059,
          "rate": 0.098
         },
         {
          "Unemployment_rate_2007": 4.4,
          "id": 55061,
          "rate": 0.073
         },
         {
          "Unemployment_rate_2007": 5.1,
          "id": 55063,
          "rate": 0.059000000000000004
         },
         {
          "Unemployment_rate_2007": 5.1,
          "id": 55065,
          "rate": 0.06
         },
         {
          "Unemployment_rate_2007": 6.4,
          "id": 55067,
          "rate": 0.085
         },
         {
          "Unemployment_rate_2007": 6,
          "id": 55069,
          "rate": 0.096
         },
         {
          "Unemployment_rate_2007": 4.9,
          "id": 55071,
          "rate": 0.085
         },
         {
          "Unemployment_rate_2007": 6.1,
          "id": 55073,
          "rate": 0.077
         },
         {
          "Unemployment_rate_2007": 6.2,
          "id": 55075,
          "rate": 0.102
         },
         {
          "Unemployment_rate_2007": 4.4,
          "id": 55077,
          "rate": 0.083
         },
         {
          "Unemployment_rate_2007": 4.7,
          "id": 55078,
          "rate": 0.127
         },
         {
          "Unemployment_rate_2007": 5.7,
          "id": 55079,
          "rate": 0.09300000000000001
         },
         {
          "Unemployment_rate_2007": 6.9,
          "id": 55081,
          "rate": 0.064
         },
         {
          "Unemployment_rate_2007": 5.9,
          "id": 55083,
          "rate": 0.091
         },
         {
          "Unemployment_rate_2007": 4.7,
          "id": 55085,
          "rate": 0.07400000000000001
         },
         {
          "Unemployment_rate_2007": 6.1,
          "id": 55087,
          "rate": 0.075
         },
         {
          "Unemployment_rate_2007": null,
          "id": 55089,
          "rate": 0.07200000000000001
         },
         {
          "Unemployment_rate_2007": 6.6,
          "id": 55091,
          "rate": 0.054000000000000006
         },
         {
          "Unemployment_rate_2007": 6,
          "id": 55093,
          "rate": 0.061
         },
         {
          "Unemployment_rate_2007": 5.9,
          "id": 55095,
          "rate": 0.084
         },
         {
          "Unemployment_rate_2007": 6.6,
          "id": 55097,
          "rate": 0.057999999999999996
         },
         {
          "Unemployment_rate_2007": 4.6,
          "id": 55099,
          "rate": 0.094
         },
         {
          "Unemployment_rate_2007": 4.4,
          "id": 55101,
          "rate": 0.09300000000000001
         },
         {
          "Unemployment_rate_2007": 6.9,
          "id": 55103,
          "rate": 0.075
         },
         {
          "Unemployment_rate_2007": 4.8,
          "id": 55105,
          "rate": 0.111
         },
         {
          "Unemployment_rate_2007": 5.4,
          "id": 55107,
          "rate": 0.10099999999999999
         },
         {
          "Unemployment_rate_2007": 5.7,
          "id": 55109,
          "rate": 0.068
         },
         {
          "Unemployment_rate_2007": 5,
          "id": 55111,
          "rate": 0.07
         },
         {
          "Unemployment_rate_2007": 5.4,
          "id": 55113,
          "rate": 0.071
         },
         {
          "Unemployment_rate_2007": 3.5,
          "id": 55115,
          "rate": 0.08199999999999999
         },
         {
          "Unemployment_rate_2007": 5.1,
          "id": 55117,
          "rate": 0.083
         },
         {
          "Unemployment_rate_2007": 5.4,
          "id": 55119,
          "rate": 0.096
         },
         {
          "Unemployment_rate_2007": 5,
          "id": 55121,
          "rate": 0.064
         },
         {
          "Unemployment_rate_2007": 4.5,
          "id": 55123,
          "rate": 0.066
         },
         {
          "Unemployment_rate_2007": 4.2,
          "id": 55125,
          "rate": 0.071
         },
         {
          "Unemployment_rate_2007": 6,
          "id": 55127,
          "rate": 0.077
         },
         {
          "Unemployment_rate_2007": 4.7,
          "id": 55129,
          "rate": 0.078
         },
         {
          "Unemployment_rate_2007": 7.1,
          "id": 55131,
          "rate": 0.081
         },
         {
          "Unemployment_rate_2007": 4.8,
          "id": 55133,
          "rate": 0.07200000000000001
         },
         {
          "Unemployment_rate_2007": 4.7,
          "id": 55135,
          "rate": 0.08199999999999999
         },
         {
          "Unemployment_rate_2007": 5.4,
          "id": 55137,
          "rate": 0.08199999999999999
         },
         {
          "Unemployment_rate_2007": 4.5,
          "id": 55139,
          "rate": 0.07
         },
         {
          "Unemployment_rate_2007": 8,
          "id": 55141,
          "rate": 0.07400000000000001
         },
         {
          "Unemployment_rate_2007": 5.6,
          "id": 56001,
          "rate": 0.036000000000000004
         },
         {
          "Unemployment_rate_2007": 4.9,
          "id": 56003,
          "rate": 0.08199999999999999
         },
         {
          "Unemployment_rate_2007": 6,
          "id": 56005,
          "rate": 0.057
         },
         {
          "Unemployment_rate_2007": 5.1,
          "id": 56007,
          "rate": 0.068
         },
         {
          "Unemployment_rate_2007": 4.6,
          "id": 56009,
          "rate": 0.059000000000000004
         },
         {
          "Unemployment_rate_2007": 3.9,
          "id": 56011,
          "rate": 0.049
         },
         {
          "Unemployment_rate_2007": 4.1,
          "id": 56013,
          "rate": 0.07400000000000001
         },
         {
          "Unemployment_rate_2007": 6.2,
          "id": 56015,
          "rate": 0.053
         },
         {
          "Unemployment_rate_2007": 5.7,
          "id": 56017,
          "rate": 0.057999999999999996
         },
         {
          "Unemployment_rate_2007": 5.5,
          "id": 56019,
          "rate": 0.067
         },
         {
          "Unemployment_rate_2007": 4.4,
          "id": 56021,
          "rate": 0.063
         },
         {
          "Unemployment_rate_2007": 6.2,
          "id": 56023,
          "rate": 0.065
         },
         {
          "Unemployment_rate_2007": 6.1,
          "id": 56025,
          "rate": 0.073
         },
         {
          "Unemployment_rate_2007": 10.4,
          "id": 56027,
          "rate": 0.045
         },
         {
          "Unemployment_rate_2007": 5.8,
          "id": 56029,
          "rate": 0.051
         },
         {
          "Unemployment_rate_2007": 4.6,
          "id": 56031,
          "rate": 0.062
         },
         {
          "Unemployment_rate_2007": 6.2,
          "id": 56033,
          "rate": 0.066
         },
         {
          "Unemployment_rate_2007": 6.2,
          "id": 56035,
          "rate": 0.045
         },
         {
          "Unemployment_rate_2007": 4.6,
          "id": 56037,
          "rate": 0.07400000000000001
         },
         {
          "Unemployment_rate_2007": 3.8,
          "id": 56039,
          "rate": 0.052000000000000005
         },
         {
          "Unemployment_rate_2007": 5.1,
          "id": 56041,
          "rate": 0.07200000000000001
         },
         {
          "Unemployment_rate_2007": 4.4,
          "id": 56043,
          "rate": 0.059000000000000004
         },
         {
          "Unemployment_rate_2007": 6.2,
          "id": 56045,
          "rate": 0.059000000000000004
         },
         {
          "Unemployment_rate_2007": 4.5,
          "id": 72001,
          "rate": 0.217
         },
         {
          "Unemployment_rate_2007": 5.1,
          "id": 72003,
          "rate": 0.179
         },
         {
          "Unemployment_rate_2007": 5.9,
          "id": 72005,
          "rate": 0.17800000000000002
         },
         {
          "Unemployment_rate_2007": 5.2,
          "id": 72007,
          "rate": 0.182
         },
         {
          "Unemployment_rate_2007": 5.6,
          "id": 72009,
          "rate": 0.192
         },
         {
          "Unemployment_rate_2007": 7.3,
          "id": 72011,
          "rate": 0.183
         },
         {
          "Unemployment_rate_2007": 4.9,
          "id": 72013,
          "rate": 0.16699999999999998
         },
         {
          "Unemployment_rate_2007": 4.7,
          "id": 72015,
          "rate": 0.22699999999999998
         },
         {
          "Unemployment_rate_2007": 6.8,
          "id": 72017,
          "rate": 0.201
         },
         {
          "Unemployment_rate_2007": 5.3,
          "id": 72019,
          "rate": 0.196
         },
         {
          "Unemployment_rate_2007": 4.2,
          "id": 72021,
          "rate": 0.136
         },
         {
          "Unemployment_rate_2007": 5.7,
          "id": 72023,
          "rate": 0.135
         },
         {
          "Unemployment_rate_2007": 4.5,
          "id": 72025,
          "rate": 0.158
         },
         {
          "Unemployment_rate_2007": 5.2,
          "id": 72027,
          "rate": 0.156
         },
         {
          "Unemployment_rate_2007": 6.4,
          "id": 72029,
          "rate": 0.212
         },
         {
          "Unemployment_rate_2007": 4.6,
          "id": 72031,
          "rate": 0.133
         },
         {
          "Unemployment_rate_2007": 6.8,
          "id": 72033,
          "rate": 0.183
         },
         {
          "Unemployment_rate_2007": 4.3,
          "id": 72035,
          "rate": 0.18100000000000002
         },
         {
          "Unemployment_rate_2007": 4,
          "id": 72037,
          "rate": 0.17600000000000002
         },
         {
          "Unemployment_rate_2007": 5.3,
          "id": 72039,
          "rate": 0.23600000000000002
         },
         {
          "Unemployment_rate_2007": 5.8,
          "id": 72041,
          "rate": 0.17300000000000001
         },
         {
          "Unemployment_rate_2007": 4.6,
          "id": 72043,
          "rate": 0.231
         },
         {
          "Unemployment_rate_2007": 5.3,
          "id": 72045,
          "rate": 0.23399999999999999
         },
         {
          "Unemployment_rate_2007": null,
          "id": 72047,
          "rate": 0.177
         },
         {
          "Unemployment_rate_2007": 2.4,
          "id": 72049,
          "rate": 0.11599999999999999
         },
         {
          "Unemployment_rate_2007": 4,
          "id": 72051,
          "rate": 0.152
         },
         {
          "Unemployment_rate_2007": 2,
          "id": 72053,
          "rate": 0.17800000000000002
         },
         {
          "Unemployment_rate_2007": 2.9,
          "id": 72054,
          "rate": 0.215
         },
         {
          "Unemployment_rate_2007": 2.8,
          "id": 72055,
          "rate": 0.19899999999999998
         },
         {
          "Unemployment_rate_2007": 2.7,
          "id": 72057,
          "rate": 0.22
         },
         {
          "Unemployment_rate_2007": 3.8,
          "id": 72059,
          "rate": 0.226
         },
         {
          "Unemployment_rate_2007": 3.2,
          "id": 72061,
          "rate": 0.106
         },
         {
          "Unemployment_rate_2007": 3.3,
          "id": 72063,
          "rate": 0.163
         },
         {
          "Unemployment_rate_2007": 3.3,
          "id": 72065,
          "rate": 0.165
         },
         {
          "Unemployment_rate_2007": 3.5,
          "id": 72067,
          "rate": 0.16399999999999998
         },
         {
          "Unemployment_rate_2007": 2.5,
          "id": 72069,
          "rate": 0.20800000000000002
         },
         {
          "Unemployment_rate_2007": 2.6,
          "id": 72071,
          "rate": 0.191
         },
         {
          "Unemployment_rate_2007": 3,
          "id": 72073,
          "rate": 0.21899999999999997
         },
         {
          "Unemployment_rate_2007": 3.1,
          "id": 72075,
          "rate": 0.18600000000000003
         },
         {
          "Unemployment_rate_2007": 4,
          "id": 72077,
          "rate": 0.191
         },
         {
          "Unemployment_rate_2007": 2.8,
          "id": 72079,
          "rate": 0.18600000000000003
         },
         {
          "Unemployment_rate_2007": 1.5,
          "id": 72081,
          "rate": 0.175
         },
         {
          "Unemployment_rate_2007": 2.2,
          "id": 72083,
          "rate": 0.18100000000000002
         },
         {
          "Unemployment_rate_2007": 2.2,
          "id": 72085,
          "rate": 0.192
         },
         {
          "Unemployment_rate_2007": 2.7,
          "id": 72087,
          "rate": 0.204
         },
         {
          "Unemployment_rate_2007": 3.5,
          "id": 72089,
          "rate": 0.20199999999999999
         },
         {
          "Unemployment_rate_2007": 3.2,
          "id": 72091,
          "rate": 0.192
         },
         {
          "Unemployment_rate_2007": null,
          "id": 72093,
          "rate": 0.19899999999999998
         },
         {
          "Unemployment_rate_2007": null,
          "id": 72095,
          "rate": 0.259
         },
         {
          "Unemployment_rate_2007": null,
          "id": 72097,
          "rate": 0.179
         },
         {
          "Unemployment_rate_2007": null,
          "id": 72099,
          "rate": 0.18
         },
         {
          "Unemployment_rate_2007": null,
          "id": 72101,
          "rate": 0.21600000000000003
         },
         {
          "Unemployment_rate_2007": null,
          "id": 72103,
          "rate": 0.23199999999999998
         },
         {
          "Unemployment_rate_2007": null,
          "id": 72105,
          "rate": 0.18899999999999997
         },
         {
          "Unemployment_rate_2007": null,
          "id": 72107,
          "rate": 0.228
         },
         {
          "Unemployment_rate_2007": null,
          "id": 72109,
          "rate": 0.23600000000000002
         },
         {
          "Unemployment_rate_2007": null,
          "id": 72111,
          "rate": 0.20199999999999999
         },
         {
          "Unemployment_rate_2007": null,
          "id": 72113,
          "rate": 0.159
         },
         {
          "Unemployment_rate_2007": null,
          "id": 72115,
          "rate": 0.168
         },
         {
          "Unemployment_rate_2007": null,
          "id": 72117,
          "rate": 0.179
         },
         {
          "Unemployment_rate_2007": null,
          "id": 72119,
          "rate": 0.171
         },
         {
          "Unemployment_rate_2007": null,
          "id": 72121,
          "rate": 0.18899999999999997
         },
         {
          "Unemployment_rate_2007": null,
          "id": 72123,
          "rate": 0.252
         },
         {
          "Unemployment_rate_2007": null,
          "id": 72125,
          "rate": 0.17800000000000002
         },
         {
          "Unemployment_rate_2007": null,
          "id": 72127,
          "rate": 0.11900000000000001
         },
         {
          "Unemployment_rate_2007": null,
          "id": 72129,
          "rate": 0.185
         },
         {
          "Unemployment_rate_2007": null,
          "id": 72131,
          "rate": 0.182
         },
         {
          "Unemployment_rate_2007": null,
          "id": 72133,
          "rate": 0.257
         },
         {
          "Unemployment_rate_2007": null,
          "id": 72135,
          "rate": 0.129
         },
         {
          "Unemployment_rate_2007": null,
          "id": 72137,
          "rate": 0.134
         },
         {
          "Unemployment_rate_2007": null,
          "id": 72139,
          "rate": 0.111
         },
         {
          "Unemployment_rate_2007": null,
          "id": 72141,
          "rate": 0.258
         },
         {
          "Unemployment_rate_2007": null,
          "id": 72143,
          "rate": 0.163
         },
         {
          "Unemployment_rate_2007": null,
          "id": 72145,
          "rate": 0.17600000000000002
         },
         {
          "Unemployment_rate_2007": null,
          "id": 72147,
          "rate": 0.27699999999999997
         },
         {
          "Unemployment_rate_2007": null,
          "id": 72149,
          "rate": 0.198
         },
         {
          "Unemployment_rate_2007": null,
          "id": 72151,
          "rate": 0.24100000000000002
         },
         {
          "Unemployment_rate_2007": null,
          "id": 72153,
          "rate": 0.16
         }
        ]
       },
       "encoding": {
        "color": {
         "field": "Unemployment_rate_2007",
         "type": "quantitative"
        }
       },
       "height": 400,
       "mark": "geoshape",
       "projection": {
        "type": "albersUsa"
       },
       "transform": [
        {
         "from": {
          "data": {
           "name": "data-ab080690d268227094794449044398fd"
          },
          "fields": [
           "Unemployment_rate_2007"
          ],
          "key": "id"
         },
         "lookup": "id"
        }
       ],
       "width": 600
      },
      "image/png": "[encoded data removed]",
      "text/plain": [
       "<VegaLite 2 object>\n",
       "\n",
       "If you see this message, it means the renderer has not been properly enabled\n",
       "for the frontend that you are using. For more information, see\n",
       "https://altair-viz.github.io/user_guide/troubleshooting.html\n"
      ]
     },
     "execution_count": 293,
     "metadata": {},
     "output_type": "execute_result"
    }
   ],
   "source": [
    "counties = alt.topo_feature(data.us_10m.url, 'counties')\n",
    "source = pd.read_csv('usdata/unemployment.tsv', sep='\\t')\n",
    "\n",
    "source['Unemployment_rate_2007'] = data_unemp[data_unemp.FIPS.isin(source.id)]['Unemployment_rate_2007']\n",
    "\n",
    "alt.Chart(counties).mark_geoshape().encode(\n",
    "    color='Unemployment_rate_2007:Q'\n",
    ").transform_lookup(\n",
    "    lookup='id',\n",
    "    from_=alt.LookupData(source, 'id', ['Unemployment_rate_2007'])\n",
    ").project(\n",
    "    type='albersUsa'\n",
    ").properties(\n",
    "    width=600,\n",
    "    height=400\n",
    ")"
   ]
  },
  {
   "cell_type": "code",
   "execution_count": 294,
   "metadata": {},
   "outputs": [],
   "source": [
    "data_albama = data_unemp.iloc[0,:][['Unemployment_rate_2007',\n",
    " 'Unemployment_rate_2008',\n",
    " 'Unemployment_rate_2009',\n",
    " 'Unemployment_rate_2010',\n",
    " 'Unemployment_rate_2011',\n",
    " 'Unemployment_rate_2012',\n",
    " 'Unemployment_rate_2013',\n",
    " 'Unemployment_rate_2014',\n",
    " 'Unemployment_rate_2015',\n",
    " 'Unemployment_rate_2016',\n",
    " 'Unemployment_rate_2017',\n",
    " 'Unemployment_rate_2018']].values"
   ]
  },
  {
   "cell_type": "code",
   "execution_count": 295,
   "metadata": {},
   "outputs": [],
   "source": [
    "date_range = np.arange(2007,2019,1)"
   ]
  },
  {
   "cell_type": "code",
   "execution_count": 296,
   "metadata": {},
   "outputs": [],
   "source": [
    "df_albama = pd.DataFrame(data_albama , date_range)\n",
    "df_albama = df_albama.reset_index()\n",
    "df_albama.columns = ['Years','Unemployement Rate']"
   ]
  },
  {
   "cell_type": "code",
   "execution_count": 297,
   "metadata": {},
   "outputs": [
    {
     "data": {
      "application/vnd.vegalite.v2+json": {
       "$schema": "https://vega.github.io/schema/vega-lite/v2.6.0.json",
       "config": {
        "view": {
         "height": 300,
         "width": 400
        }
       },
       "data": {
        "name": "data-66a202e46718bf892527d7bf6bfb0a38"
       },
       "datasets": {
        "data-66a202e46718bf892527d7bf6bfb0a38": [
         {
          "Unemployement Rate": 3.3,
          "Years": 2007
         },
         {
          "Unemployement Rate": 5.1,
          "Years": 2008
         },
         {
          "Unemployement Rate": 9.7,
          "Years": 2009
         },
         {
          "Unemployement Rate": 8.9,
          "Years": 2010
         },
         {
          "Unemployement Rate": 8.4,
          "Years": 2011
         },
         {
          "Unemployement Rate": 6.9,
          "Years": 2012
         },
         {
          "Unemployement Rate": 6.2,
          "Years": 2013
         },
         {
          "Unemployement Rate": 5.8,
          "Years": 2014
         },
         {
          "Unemployement Rate": 5.2,
          "Years": 2015
         },
         {
          "Unemployement Rate": 5.1,
          "Years": 2016
         },
         {
          "Unemployement Rate": 3.9,
          "Years": 2017
         },
         {
          "Unemployement Rate": 3.6,
          "Years": 2018
         }
        ]
       },
       "layer": [
        {
         "encoding": {
          "opacity": {
           "condition": {
            "selection": "selector020",
            "value": 1
           },
           "value": 0.7
          },
          "x": {
           "field": "Years",
           "type": "quantitative"
          },
          "y": {
           "field": "Unemployement Rate",
           "type": "quantitative"
          }
         },
         "height": 350,
         "mark": "bar",
         "selection": {
          "selector020": {
           "encodings": [
            "x"
           ],
           "mark": {
            "fill": "#333",
            "fillOpacity": 0.125,
            "stroke": "white"
           },
           "on": "[mousedown, window:mouseup] > window:mousemove!",
           "resolve": "global",
           "translate": "[mousedown, window:mouseup] > window:mousemove!",
           "type": "interval",
           "zoom": "wheel!"
          }
         },
         "width": 600
        },
        {
         "encoding": {
          "size": {
           "value": 3
          },
          "y": {
           "aggregate": "mean",
           "field": "Unemployement Rate",
           "type": "quantitative"
          }
         },
         "mark": {
          "color": "firebrick",
          "type": "rule"
         },
         "transform": [
          {
           "filter": {
            "selection": "selector020"
           }
          }
         ]
        }
       ]
      },
      "image/png": "[encoded data removed]",
      "text/plain": [
       "<VegaLite 2 object>\n",
       "\n",
       "If you see this message, it means the renderer has not been properly enabled\n",
       "for the frontend that you are using. For more information, see\n",
       "https://altair-viz.github.io/user_guide/troubleshooting.html\n"
      ]
     },
     "execution_count": 297,
     "metadata": {},
     "output_type": "execute_result"
    }
   ],
   "source": [
    "brush = alt.selection(type='interval', encodings=['x'])\n",
    "\n",
    "bars = alt.Chart().mark_bar().encode(\n",
    "    x='Years:Q',\n",
    "    y='Unemployement Rate:Q',\n",
    "    opacity=alt.condition(brush, alt.OpacityValue(1), alt.OpacityValue(0.7)),\n",
    ").properties(\n",
    "    width=600,\n",
    "    height=350).add_selection(\n",
    "    brush\n",
    ")\n",
    "\n",
    "line = alt.Chart().mark_rule(color='firebrick').encode(\n",
    "    y='mean(Unemployement Rate):Q',\n",
    "    size=alt.SizeValue(3)\n",
    ").transform_filter(\n",
    "    brush\n",
    ")\n",
    "\n",
    "alt.layer(bars, line, data=df_albama)"
   ]
  },
  {
   "cell_type": "code",
   "execution_count": 298,
   "metadata": {},
   "outputs": [],
   "source": [
    "data_unemp_aggT = data_unemp_agg.T\n",
    "data_unemp_aggT.columns = data_unemp_aggT.iloc[2,:]\n",
    "#data_unemp_aggT"
   ]
  },
  {
   "cell_type": "code",
   "execution_count": 299,
   "metadata": {},
   "outputs": [],
   "source": [
    "rate_cols = np.arange(6,54,4)\n",
    "#rate_cols"
   ]
  },
  {
   "cell_type": "code",
   "execution_count": 272,
   "metadata": {},
   "outputs": [],
   "source": [
    "data_line = pd.DataFrame(data_unemp_aggT.iloc[50,:])\n",
    "data_line = data_line.reset_index()"
   ]
  },
  {
   "cell_type": "code",
   "execution_count": 276,
   "metadata": {},
   "outputs": [],
   "source": [
    "data_line.sort_values('Unemployment_rate_2018', inplace=True)"
   ]
  },
  {
   "cell_type": "code",
   "execution_count": 279,
   "metadata": {},
   "outputs": [],
   "source": [
    "data_line = data_line.reset_index(drop=True)"
   ]
  },
  {
   "cell_type": "code",
   "execution_count": 286,
   "metadata": {},
   "outputs": [
    {
     "data": {
      "application/vnd.vegalite.v2+json": {
       "$schema": "https://vega.github.io/schema/vega-lite/v2.6.0.json",
       "config": {
        "view": {
         "height": 300,
         "width": 400
        }
       },
       "datasets": {
        "data-fdabefef8f5fbbbe2398e73e5ca4f51e": [
         {
          "Area_name": "Hawaii",
          "Unemployment_rate_2018": 2.4
         },
         {
          "Area_name": "New Hampshire",
          "Unemployment_rate_2018": 2.5
         },
         {
          "Area_name": "Iowa",
          "Unemployment_rate_2018": 2.5
         },
         {
          "Area_name": "North Dakota",
          "Unemployment_rate_2018": 2.6
         },
         {
          "Area_name": "Vermont",
          "Unemployment_rate_2018": 2.7
         },
         {
          "Area_name": "Nebraska",
          "Unemployment_rate_2018": 2.8
         },
         {
          "Area_name": "Idaho",
          "Unemployment_rate_2018": 2.8
         },
         {
          "Area_name": "Minnesota",
          "Unemployment_rate_2018": 2.9
         },
         {
          "Area_name": "Virginia",
          "Unemployment_rate_2018": 3
         },
         {
          "Area_name": "Wisconsin",
          "Unemployment_rate_2018": 3
         },
         {
          "Area_name": "South Dakota",
          "Unemployment_rate_2018": 3
         },
         {
          "Area_name": "Utah",
          "Unemployment_rate_2018": 3.1
         },
         {
          "Area_name": "Missouri",
          "Unemployment_rate_2018": 3.2
         },
         {
          "Area_name": "Colorado",
          "Unemployment_rate_2018": 3.3
         },
         {
          "Area_name": "Massachusetts",
          "Unemployment_rate_2018": 3.3
         },
         {
          "Area_name": "Maine",
          "Unemployment_rate_2018": 3.4
         },
         {
          "Area_name": "Oklahoma",
          "Unemployment_rate_2018": 3.4
         },
         {
          "Area_name": "South Carolina",
          "Unemployment_rate_2018": 3.4
         },
         {
          "Area_name": "Indiana",
          "Unemployment_rate_2018": 3.4
         },
         {
          "Area_name": "Kansas",
          "Unemployment_rate_2018": 3.4
         },
         {
          "Area_name": "Tennessee",
          "Unemployment_rate_2018": 3.5
         },
         {
          "Area_name": "Florida",
          "Unemployment_rate_2018": 3.6
         },
         {
          "Area_name": "Arkansas",
          "Unemployment_rate_2018": 3.7
         },
         {
          "Area_name": "Montana",
          "Unemployment_rate_2018": 3.7
         },
         {
          "Area_name": "Delaware",
          "Unemployment_rate_2018": 3.8
         },
         {
          "Area_name": "Maryland",
          "Unemployment_rate_2018": 3.9
         },
         {
          "Area_name": "Georgia",
          "Unemployment_rate_2018": 3.9
         },
         {
          "Area_name": "North Carolina",
          "Unemployment_rate_2018": 3.9
         },
         {
          "Area_name": "Texas",
          "Unemployment_rate_2018": 3.9
         },
         {
          "Area_name": "Alabama",
          "Unemployment_rate_2018": 3.9
         },
         {
          "Area_name": "Rhode Island",
          "Unemployment_rate_2018": 4.1
         },
         {
          "Area_name": "Connecticut",
          "Unemployment_rate_2018": 4.1
         },
         {
          "Area_name": "Wyoming",
          "Unemployment_rate_2018": 4.1
         },
         {
          "Area_name": "New Jersey",
          "Unemployment_rate_2018": 4.1
         },
         {
          "Area_name": "Michigan",
          "Unemployment_rate_2018": 4.1
         },
         {
          "Area_name": "New York",
          "Unemployment_rate_2018": 4.1
         },
         {
          "Area_name": "California",
          "Unemployment_rate_2018": 4.2
         },
         {
          "Area_name": "Oregon",
          "Unemployment_rate_2018": 4.2
         },
         {
          "Area_name": "Illinois",
          "Unemployment_rate_2018": 4.3
         },
         {
          "Area_name": "Pennsylvania",
          "Unemployment_rate_2018": 4.3
         },
         {
          "Area_name": "Kentucky",
          "Unemployment_rate_2018": 4.3
         },
         {
          "Area_name": "Washington",
          "Unemployment_rate_2018": 4.5
         },
         {
          "Area_name": "Nevada",
          "Unemployment_rate_2018": 4.6
         },
         {
          "Area_name": "Ohio",
          "Unemployment_rate_2018": 4.6
         },
         {
          "Area_name": "Mississippi",
          "Unemployment_rate_2018": 4.8
         },
         {
          "Area_name": "Arizona",
          "Unemployment_rate_2018": 4.8
         },
         {
          "Area_name": "Louisiana",
          "Unemployment_rate_2018": 4.9
         },
         {
          "Area_name": "New Mexico",
          "Unemployment_rate_2018": 4.9
         },
         {
          "Area_name": "West Virginia",
          "Unemployment_rate_2018": 5.3
         },
         {
          "Area_name": "District of Columbia",
          "Unemployment_rate_2018": 5.6
         },
         {
          "Area_name": "Alaska",
          "Unemployment_rate_2018": 6.6
         }
        ]
       },
       "height": 400,
       "layer": [
        {
         "data": {
          "name": "data-fdabefef8f5fbbbe2398e73e5ca4f51e"
         },
         "encoding": {
          "x": {
           "field": "Area_name",
           "type": "ordinal"
          },
          "y": {
           "field": "Unemployment_rate_2018",
           "type": "quantitative"
          }
         },
         "mark": "bar"
        },
        {
         "data": {
          "name": "data-fdabefef8f5fbbbe2398e73e5ca4f51e"
         },
         "encoding": {
          "x": {
           "field": "Area_name",
           "type": "ordinal"
          },
          "y": {
           "field": "Unemployment_rate_2018",
           "type": "quantitative"
          }
         },
         "mark": {
          "color": "red",
          "type": "line"
         }
        }
       ],
       "width": 1000
      },
      "image/png": "[encoded data removed]",
      "text/plain": [
       "<VegaLite 2 object>\n",
       "\n",
       "If you see this message, it means the renderer has not been properly enabled\n",
       "for the frontend that you are using. For more information, see\n",
       "https://altair-viz.github.io/user_guide/troubleshooting.html\n"
      ]
     },
     "execution_count": 286,
     "metadata": {},
     "output_type": "execute_result"
    }
   ],
   "source": [
    "base = alt.Chart(data_line).encode(x='Area_name:O')\n",
    "\n",
    "bar = base.mark_bar().encode(y='Unemployment_rate_2018:Q')\n",
    "line =  base.mark_line(color='red').encode(\n",
    "    y='Unemployment_rate_2018:Q'\n",
    ")\n",
    "(bar + line).properties(width=1000, height = 400)"
   ]
  }
 ],
 "metadata": {
  "kernelspec": {
   "display_name": "Python 3",
   "language": "python",
   "name": "python3"
  },
  "language_info": {
   "codemirror_mode": {
    "name": "ipython",
    "version": 3
   },
   "file_extension": ".py",
   "mimetype": "text/x-python",
   "name": "python",
   "nbconvert_exporter": "python",
   "pygments_lexer": "ipython3",
   "version": "3.5.5"
  }
 },
 "nbformat": 4,
 "nbformat_minor": 2
}
